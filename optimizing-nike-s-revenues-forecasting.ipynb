{
 "cells": [
  {
   "cell_type": "markdown",
   "id": "bbc1a358",
   "metadata": {
    "papermill": {
     "duration": 0.025457,
     "end_time": "2023-12-22T21:17:48.150251",
     "exception": false,
     "start_time": "2023-12-22T21:17:48.124794",
     "status": "completed"
    },
    "tags": []
   },
   "source": [
    "# **Optimizing Nike's Revenues Forecasting with Multivariate Time Series Random Forest & Monte Carlo Simulation**"
   ]
  },
  {
   "cell_type": "markdown",
   "id": "dbae9e4c",
   "metadata": {
    "papermill": {
     "duration": 0.02432,
     "end_time": "2023-12-22T21:17:48.199737",
     "exception": false,
     "start_time": "2023-12-22T21:17:48.175417",
     "status": "completed"
    },
    "tags": []
   },
   "source": [
    "![](https://cdn.discordapp.com/attachments/989739723151007764/1173447470018220162/masha_56797_create_a_wallpaper_of_NIKE_45c04c72-2bf0-4741-bec9-0ee2454c8074.png?ex=6563fd1e&is=6551881e&hm=a77ed73aed6b08610eb94b874d3fd66f2879a56ed87ac1ce12bbf379f5e95a7f&/)"
   ]
  },
  {
   "cell_type": "markdown",
   "id": "8fc1f77b",
   "metadata": {
    "papermill": {
     "duration": 0.024844,
     "end_time": "2023-12-22T21:17:48.249516",
     "exception": false,
     "start_time": "2023-12-22T21:17:48.224672",
     "status": "completed"
    },
    "tags": []
   },
   "source": [
    "# **Business Case**"
   ]
  },
  {
   "cell_type": "markdown",
   "id": "00af5ce3",
   "metadata": {
    "papermill": {
     "duration": 0.024353,
     "end_time": "2023-12-22T21:17:48.298495",
     "exception": false,
     "start_time": "2023-12-22T21:17:48.274142",
     "status": "completed"
    },
    "tags": []
   },
   "source": [
    "Nike, Inc. is a global leader in the sportswear and athletic industry, renowned for its innovative products and iconic brand. To maintain and enhance its competitive edge, Nike aims to optimize its revenue forecasting process using cutting-edge technology. This business case outlines the potential benefits of implementing Machine Learning (ML) and Monte Carlo Simulation to achieve reliable predictions, thereby providing invaluable insights for strategic decision-making.\n",
    "\n",
    "The sportswear industry is dynamic, influenced by factors such as consumer trends, economic conditions, and global events. Accurate revenue forecasting is crucial for Nike to navigate this landscape effectively, anticipate market shifts, and capitalize on emerging opportunities.\n",
    "\n",
    "This business case aims to propose and implement Machine Learning and Monte Carlo Simulation as a sophisticated approach to revenue forecasting, addressing the limitations of traditional methods. ML algorithms can analyze vast datasets, identify patterns, and adapt to changing market conditions, providing more accurate predictions. Monte Carlo Simulation complements ML by simulating a range of potential scenarios, allowing for a comprehensive understanding of the uncertainty associated with revenue forecasts.\n",
    "\n",
    "**Benefits:**\n",
    "\n",
    "- Improved Accuracy: ML models can analyze diverse data sources, including consumer behavior, economic indicators, and market trends, leading to more precise revenue predictions.\n",
    "\n",
    "- Risk Mitigation: Monte Carlo Simulation helps assess the impact of various external factors on revenue, enabling Nike to develop robust risk mitigation strategies.\n",
    "\n",
    "- Operational Efficiency: Accurate forecasts facilitate better inventory management, reducing excess stock and associated holding costs.\n",
    "\n",
    "- Strategic Decision Support: Reliable revenue forecasts empower Nike's leadership with actionable insights, supporting more informed strategic decision-making.\n",
    "\n",
    "**Disclaimer:**\n",
    "\n",
    "This business case is for illustrative purposes only and does not constitute financial advice. Investors should conduct their own due diligence and seek professional advice before making investment decisions."
   ]
  },
  {
   "cell_type": "markdown",
   "id": "b51518ff",
   "metadata": {
    "papermill": {
     "duration": 0.024403,
     "end_time": "2023-12-22T21:17:48.347913",
     "exception": false,
     "start_time": "2023-12-22T21:17:48.323510",
     "status": "completed"
    },
    "tags": []
   },
   "source": [
    "# **SWOT Analysis**"
   ]
  },
  {
   "cell_type": "markdown",
   "id": "059f44aa",
   "metadata": {
    "papermill": {
     "duration": 0.024111,
     "end_time": "2023-12-22T21:17:48.396932",
     "exception": false,
     "start_time": "2023-12-22T21:17:48.372821",
     "status": "completed"
    },
    "tags": []
   },
   "source": [
    "\n",
    "> ## ***STRENGTH***\n",
    "\n",
    "### **Strong Research and Development** \n",
    "\n",
    "Nike's commitment to Research and Development (R&D) has been a cornerstone of its success, driving innovation in athletic footwear, apparel, and equipment. This dedication to R&D allows Nike to consistently introduce new technologies and products that resonate with athletes and consumers worldwide. Some evidences of Nike's Strong R&D:\n",
    "\n",
    "- Air Technology: Nike's Air technology, introduced in 1979, revolutionized athletic footwear. This technology, involving pressurized air in the soles for cushioning and resilience, became a signature feature in many Nike products.\n",
    "- Flyknit Technology: In 2012, Nike introduced Flyknit technology, a method of creating knitted shoe uppers that reduce waste by approximately 60% compared to traditional cut-and-sew methods. This not only marked a significant step in sustainability but also offered lightweight, formfitting, and virtually seamless shoe uppers.\n",
    "- Nike Joyride: In 2019, Nike launched the Joyride running shoe, featuring thousands of tiny beads in the sole that adjust to each runner's foot and provide unique cushioning.\n",
    "\n",
    "\n",
    "Nike's financial reports consistently show significant investment in R&D. For instance, Nike’s 10-K report for the fiscal year 2021 indicated an investment of one billion dollar in \"demand creation,\" which includes R&D expenses. This continual investment underscores Nike’s commitment to innovation.\n",
    "\n",
    "Moreover, Nike has its own lab called the Nike Sport Research Lab (NSRL). The NSRL is a key aspect of Nike's R&D effort. It employs a multidisciplinary team including biomechanists, physiologists, and engineers. The lab focuses on understanding athletes' movements, the body's responses to different sports activities, and how products can enhance athletic performance.\n",
    "NSRL's research has been pivotal in developing products like the Vaporfly series, which have significantly impacted long-distance running.\n",
    "\n",
    "Nike collaborates with top athletes and sports teams to gather feedback and insights for product development. For example, the development of Nike’s soccer boots often involves feedback from professional soccer players.\n",
    "Partnerships with technology companies like Apple have also been part of Nike's R&D strategy, leading to products like the Nike+ ecosystem.\n",
    "\n",
    "Nike holds numerous patents, which serve as tangible evidence of its R&D efforts. These patents cover various innovations in footwear, apparel, and even manufacturing processes, reflecting the company's wide range of R&D activities.\n",
    "\n",
    "Furthermore,Nike’s R&D is not just about creating new products; it’s also about responding to market trends. For example, Nike has increased its focus on sustainable products, like the Space Hippie line, which is made from recycled materials.\n",
    "\n",
    "\n",
    "### **Ability to compete in a high level**\n",
    "\n",
    "An in-depth analysis of how Nike can compete at a high level must consider various strategic elements, including its approach to manufacturing, market positioning, innovation, and brand management. One of the key aspects of Nike's strategy has been its ability to maintain low manufacturing costs, primarily through outsourcing. This approach, combined with other strategic facets, positions Nike effectively in the highly competitive global market.\n",
    "\n",
    "- Global Supply Chain: Nike's manufacturing is largely outsourced to factories in countries like Vietnam, China, and Indonesia. This strategy leverages lower labor costs in these regions, translating into cost savings for the company.\n",
    "- Economies of Scale: By producing large volumes, Nike can further reduce costs per unit, benefiting from economies of scale. This efficiency enables competitive pricing for its products while maintaining healthy profit margins.\n",
    "- Flexibility and Responsiveness: Outsourcing allows Nike to be more flexible and responsive to market changes. By not being tied down to owning and operating factories, Nike can quickly shift production in response to changing market demands or labor conditions.\n",
    "- Brand Strength and Marketing: Leveraging its strong brand through effective marketing campaigns and endorsements. Nike's brand is one of its most valuable assets, and continued investment in brand-building activities is crucial.\n",
    "- Digital Transformation: Emphasizing digital channels, both in marketing and sales. The rise of e-commerce presents an opportunity for Nike to reach customers directly, reducing reliance on third-party retailers and enhancing customer data collection.\n",
    "- Sustainability Initiatives: Increasing focus on sustainability to appeal to environmentally conscious consumers. This involves not only developing eco-friendly products but also ensuring sustainability in its supply chain operations.\n",
    "- Global Market Penetration: Expanding in emerging markets, such as India and Africa, where there is significant growth potential. Tailoring products and marketing strategies to local tastes and preferences can be effective.\n",
    "- Diversification: Exploring opportunities beyond footwear and apparel, such as sports equipment and technology-driven products, to diversify revenue streams.\n",
    "\n",
    "\n",
    "> ## ***WEAKNESSES***\n",
    "\n",
    "- Dependence on Outsourced Manufacturing:Nike's heavy reliance on manufacturing in countries like Vietnam and China exposes it to geopolitical risks and supply chain disruptions. Political instability, trade wars (like the U.S.-China trade tensions), or labor disputes in these countries can significantly impact production.\n",
    "- Quality Control Challenges: Managing quality across various outsourced facilities can be challenging. Quality inconsistencies can affect brand reputation and customer satisfaction.\n",
    "- Risk in Innovation Dependency: Nike's growth is heavily reliant on continuous innovation in its core product lines. Any failure to innovate or resonate with consumer trends in these areas could lead to a decline in market share.\n",
    "- Opportunity Costs: A limited focus on athletic wear means potentially missing out on opportunities in related markets such as casual lifestyle wear, outdoor recreation equipment, or even technology-driven fitness products.\n",
    "\n",
    "\n",
    "> ## ***OPPORTUNITY***\n",
    "\n",
    "- Expanding into Emerging Markets: Growing economies like India and Brazil present opportunities for Nike to expand its customer base.\n",
    "- Growth in E-commerce: The shift towards online shopping, accelerated by the COVID-19 pandemic, opens up opportunities for Nike to enhance its digital sales platforms.\n",
    "- Product Diversification: Diversifying into related products like sports equipment or lifestyle apparel could open new revenue streams.\n",
    "- Sustainability Initiatives: There's a growing consumer interest in sustainability. Nike can capitalize on this by developing more eco-friendly products and sustainable business practices.\n",
    "\n",
    "\n",
    "> ## ***THREATS***\n",
    "\n",
    "There are various factors that can significantly impact Nike's performance and strategic planning,from intense compeition to changes in consumer behaviour to global events, NIKE may be highly impacted by those factors:\n",
    "\n",
    "- Rival Brands: Adidas and Puma are traditional rivals, offering a wide range of sports apparel and footwear. They compete directly with Nike in key markets, often through aggressive marketing and sponsorship deals.\n",
    "- Emerging Competitors: Brands like Under Armour are relatively newer but have been gaining market share by targeting specific sports segments and leveraging technological innovations in their products.\n",
    "- Market Saturation: The sports apparel and footwear market is becoming increasingly saturated, making it challenging to maintain growth rates and market share.\n",
    "- Innovative Disruption: Smaller, niche brands are continually entering the market, often with innovative products or unique marketing strategies that can attract Nike's customer base.\n",
    "- Impact of Recessions: Economic downturns can lead to reduced consumer spending on non-essential items, including premium sports apparel and footwear.\n",
    "- Currency Volatility: As a global company, Nike is exposed to currency fluctuations. A stronger dollar, for example, can make Nike's products more expensive in overseas markets.\n",
    "- Trade Tensions: Tariffs and trade wars, like the U.S.-China trade dispute, can increase costs and disrupt supply chains, impacting Nike's profitability.\n",
    "- Shifts in Trends: The sports apparel industry is trend-sensitive. A shift towards different styles or preferences, such as the growing demand for sustainable and ethical products, requires quick adaptation from Nike.\n",
    "- Health and Fitness Trends: Changes in how people engage in fitness and sports activities can influence the types of products in demand. For example, a surge in outdoor activities could shift focus from traditional sports gear.\n",
    "- Pandemic Impact: The COVID-19 pandemic demonstrated how vulnerable global supply chains are to disruption. Nike experienced factory closures and logistics challenges during the pandemic.\n",
    "- Geopolitical Tensions: Tensions in regions where Nike's manufacturing is located, like Southeast Asia, can lead to production halts or delays.\n",
    "- Natural Disasters: Events like earthquakes or floods in key manufacturing regions can disrupt production schedules and supply chains.\n",
    "- Boycotts: Nike has faced boycotts over various issues, including controversial advertising campaigns or endorsements. For instance, the Colin Kaepernick ad campaign led to calls for boycotts from some consumer segments.\n",
    "- Labor Activism: Nike has been a target of labor activism due to allegations of poor working conditions in its supply chain. Protests and campaigns against Nike have drawn attention to labor practices in the apparel industry.\n",
    "- Lawsuits: Nike has faced lawsuits related to patent infringements, labor practices, and other corporate issues. For example, Nike was involved in a high-profile patent lawsuit with competitor Adidas over shoe technology."
   ]
  },
  {
   "cell_type": "markdown",
   "id": "d4e4d6ec",
   "metadata": {
    "papermill": {
     "duration": 0.023929,
     "end_time": "2023-12-22T21:17:48.445319",
     "exception": false,
     "start_time": "2023-12-22T21:17:48.421390",
     "status": "completed"
    },
    "tags": []
   },
   "source": [
    "# **Independent Variables for ML Model**"
   ]
  },
  {
   "cell_type": "markdown",
   "id": "b63d565d",
   "metadata": {
    "papermill": {
     "duration": 0.024038,
     "end_time": "2023-12-22T21:17:48.493706",
     "exception": false,
     "start_time": "2023-12-22T21:17:48.469668",
     "status": "completed"
    },
    "tags": []
   },
   "source": [
    "Building a predictive model for Nike's quarterly revenues involves selecting relevant independent variables that have a significant impact on the company's financial performance. The following variables are included in this model:\n",
    "\n",
    "- **GDP Growth Rates:** GDP growth rates of key markets (the US, China, Europe) are strong indicators of economic health, affecting consumer spending on non-essential items like sportswear.\n",
    "- **Currency Exchange Rates:** Fluctuations in currency exchange rates, especially between the US dollar and currencies of key markets.\n",
    "- **Consumer Confidence Index CCI:** CCI provides insights into consumer spending behavior, which directly affects sales.\n",
    "- **Combined alpha model:** The StarMine Combined Alpha Model (CAM) combines all available StarMine alpha models in an optimal, static, linear combination. The weights assigned to each model vary by region. StarMine CAM takes advantage of the fact that some regions, such as the US and Japan, are more value focused while in Developed Europe and Asia excl-Japan, momentum plays a larger role. The model intelligently handles missing data and makes use of all available models for a given security. \n",
    "\n",
    "- **Earnings Quality Score:** The current regional 1-100 percentile rank of a company's 1-year default probability based on the StarMine Combined Credit Risk Model. The Combined Model blends the Structural, SmartRatios and Text Mining Credit Risk models into one final estimate of credit risk at the company level. Higher scores indicate companies that are less likely to go bankrupt, or default on their debt obligations, within the next 1-year period. \n",
    "\n",
    "- **Online sales vs Retail sales:** taken from the finanical statements of the company.\n",
    "\n",
    "- **Past corporate events & disclosures *news**\n",
    "\n",
    "\n",
    "> ****Datasource: EIKON (Thomson Reuters)**"
   ]
  },
  {
   "cell_type": "markdown",
   "id": "523dcc34",
   "metadata": {
    "papermill": {
     "duration": 0.092078,
     "end_time": "2023-12-22T21:17:48.610941",
     "exception": false,
     "start_time": "2023-12-22T21:17:48.518863",
     "status": "completed"
    },
    "tags": []
   },
   "source": [
    "# **Import Libraries**"
   ]
  },
  {
   "cell_type": "code",
   "execution_count": 1,
   "id": "2b8945ee",
   "metadata": {
    "execution": {
     "iopub.execute_input": "2023-12-22T21:17:48.665313Z",
     "iopub.status.busy": "2023-12-22T21:17:48.664501Z",
     "iopub.status.idle": "2023-12-22T21:17:48.669869Z",
     "shell.execute_reply": "2023-12-22T21:17:48.669085Z"
    },
    "papermill": {
     "duration": 0.034963,
     "end_time": "2023-12-22T21:17:48.672226",
     "exception": false,
     "start_time": "2023-12-22T21:17:48.637263",
     "status": "completed"
    },
    "tags": []
   },
   "outputs": [],
   "source": [
    "#!pip install --upgrade plotly"
   ]
  },
  {
   "cell_type": "code",
   "execution_count": 2,
   "id": "89e5d4e0",
   "metadata": {
    "execution": {
     "iopub.execute_input": "2023-12-22T21:17:48.724552Z",
     "iopub.status.busy": "2023-12-22T21:17:48.723858Z",
     "iopub.status.idle": "2023-12-22T21:17:53.170485Z",
     "shell.execute_reply": "2023-12-22T21:17:53.168762Z"
    },
    "papermill": {
     "duration": 4.476812,
     "end_time": "2023-12-22T21:17:53.174257",
     "exception": false,
     "start_time": "2023-12-22T21:17:48.697445",
     "status": "completed"
    },
    "tags": []
   },
   "outputs": [],
   "source": [
    "# for data manipulation\n",
    "import pandas as pd\n",
    "import numpy as np\n",
    "import datetime as dt #helps to work with dates and times\n",
    "from matplotlib.dates import DateFormatter\n",
    "\n",
    "# for data visualization\n",
    "import matplotlib.pyplot as plt\n",
    "import seaborn as sns\n",
    "import plotly.express as px\n",
    "import plotly.graph_objects as go\n",
    "%matplotlib inline\n",
    "\n",
    "\n",
    "# for modeling\n",
    "from sklearn.model_selection import train_test_split\n",
    "from sklearn.ensemble import RandomForestRegressor\n",
    "from sklearn import metrics\n",
    "from sklearn.metrics import r2_score, mean_squared_error, mean_absolute_error\n",
    "from sklearn.model_selection import GridSearchCV\n",
    "\n",
    "\n",
    "from sklearn.preprocessing import StandardScaler\n",
    "from statsmodels.tsa.stattools import adfuller\n",
    "from numpy import log  \n",
    "from matplotlib.dates import DateFormatter\n",
    "\n",
    "\n",
    "# warnings\n",
    "import warnings; warnings.filterwarnings(\"ignore\")"
   ]
  },
  {
   "cell_type": "markdown",
   "id": "fde61cbc",
   "metadata": {
    "papermill": {
     "duration": 0.026114,
     "end_time": "2023-12-22T21:17:53.225860",
     "exception": false,
     "start_time": "2023-12-22T21:17:53.199746",
     "status": "completed"
    },
    "tags": []
   },
   "source": [
    "# Import Dataset"
   ]
  },
  {
   "cell_type": "code",
   "execution_count": 3,
   "id": "30905c8c",
   "metadata": {
    "execution": {
     "iopub.execute_input": "2023-12-22T21:17:53.277883Z",
     "iopub.status.busy": "2023-12-22T21:17:53.277236Z",
     "iopub.status.idle": "2023-12-22T21:17:53.296811Z",
     "shell.execute_reply": "2023-12-22T21:17:53.295085Z"
    },
    "papermill": {
     "duration": 0.049296,
     "end_time": "2023-12-22T21:17:53.300060",
     "exception": false,
     "start_time": "2023-12-22T21:17:53.250764",
     "status": "completed"
    },
    "tags": []
   },
   "outputs": [
    {
     "name": "stdout",
     "output_type": "stream",
     "text": [
      "/kaggle/input/nike-financials/Nike_model.csv\n"
     ]
    }
   ],
   "source": [
    "import os\n",
    "for dirname, _, filenames in os.walk('/kaggle/input'):\n",
    "    for filename in filenames:\n",
    "        print(os.path.join(dirname, filename))"
   ]
  },
  {
   "cell_type": "code",
   "execution_count": 4,
   "id": "c21cdca5",
   "metadata": {
    "execution": {
     "iopub.execute_input": "2023-12-22T21:17:53.354056Z",
     "iopub.status.busy": "2023-12-22T21:17:53.353561Z",
     "iopub.status.idle": "2023-12-22T21:17:53.397272Z",
     "shell.execute_reply": "2023-12-22T21:17:53.395569Z"
    },
    "papermill": {
     "duration": 0.074573,
     "end_time": "2023-12-22T21:17:53.400696",
     "exception": false,
     "start_time": "2023-12-22T21:17:53.326123",
     "status": "completed"
    },
    "tags": []
   },
   "outputs": [],
   "source": [
    "df = pd.read_csv('/kaggle/input/nike-financials/Nike_model.csv')\n",
    "\n",
    "# since it is a time series case, we need to create an index for the timeline\n",
    "df = df.set_index('Quarter')\n",
    "df.index = pd.to_datetime(df.index)"
   ]
  },
  {
   "cell_type": "markdown",
   "id": "4bc958a8",
   "metadata": {
    "papermill": {
     "duration": 0.024448,
     "end_time": "2023-12-22T21:17:53.450516",
     "exception": false,
     "start_time": "2023-12-22T21:17:53.426068",
     "status": "completed"
    },
    "tags": []
   },
   "source": [
    "# Data overview and Sanity Check"
   ]
  },
  {
   "cell_type": "code",
   "execution_count": 5,
   "id": "24e36f92",
   "metadata": {
    "execution": {
     "iopub.execute_input": "2023-12-22T21:17:53.503966Z",
     "iopub.status.busy": "2023-12-22T21:17:53.503544Z",
     "iopub.status.idle": "2023-12-22T21:17:53.555382Z",
     "shell.execute_reply": "2023-12-22T21:17:53.553858Z"
    },
    "papermill": {
     "duration": 0.083654,
     "end_time": "2023-12-22T21:17:53.558907",
     "exception": false,
     "start_time": "2023-12-22T21:17:53.475253",
     "status": "completed"
    },
    "tags": []
   },
   "outputs": [
    {
     "data": {
      "text/html": [
       "<div>\n",
       "<style scoped>\n",
       "    .dataframe tbody tr th:only-of-type {\n",
       "        vertical-align: middle;\n",
       "    }\n",
       "\n",
       "    .dataframe tbody tr th {\n",
       "        vertical-align: top;\n",
       "    }\n",
       "\n",
       "    .dataframe thead th {\n",
       "        text-align: right;\n",
       "    }\n",
       "</style>\n",
       "<table border=\"1\" class=\"dataframe\">\n",
       "  <thead>\n",
       "    <tr style=\"text-align: right;\">\n",
       "      <th></th>\n",
       "      <th>Revenue</th>\n",
       "      <th>GDP_USA</th>\n",
       "      <th>GDP_China</th>\n",
       "      <th>GPD_EU</th>\n",
       "      <th>Combined Alpha Score</th>\n",
       "      <th>Euro_dollar</th>\n",
       "      <th>Yen_dollar</th>\n",
       "      <th>Retail Sales</th>\n",
       "      <th>Online Sales</th>\n",
       "      <th>Earnings Quality Score</th>\n",
       "      <th>...</th>\n",
       "      <th>news_Other Pre-Announcement</th>\n",
       "      <th>news_Products</th>\n",
       "      <th>news_Products, Expansion</th>\n",
       "      <th>news_Products, Litigation</th>\n",
       "      <th>news_Products, Officer Changes, Earnings Announcements</th>\n",
       "      <th>news_Products, Restructuring / Reorganization, Expansion</th>\n",
       "      <th>news_Regulatory</th>\n",
       "      <th>news_Regulatory, Earnings Announcements</th>\n",
       "      <th>news_Regulatory, Management Compensation, Labor Issues</th>\n",
       "      <th>news_ Strategic Combinations</th>\n",
       "    </tr>\n",
       "    <tr>\n",
       "      <th>Quarter</th>\n",
       "      <th></th>\n",
       "      <th></th>\n",
       "      <th></th>\n",
       "      <th></th>\n",
       "      <th></th>\n",
       "      <th></th>\n",
       "      <th></th>\n",
       "      <th></th>\n",
       "      <th></th>\n",
       "      <th></th>\n",
       "      <th></th>\n",
       "      <th></th>\n",
       "      <th></th>\n",
       "      <th></th>\n",
       "      <th></th>\n",
       "      <th></th>\n",
       "      <th></th>\n",
       "      <th></th>\n",
       "      <th></th>\n",
       "      <th></th>\n",
       "      <th></th>\n",
       "    </tr>\n",
       "  </thead>\n",
       "  <tbody>\n",
       "    <tr>\n",
       "      <th>2017-08-01</th>\n",
       "      <td>9070</td>\n",
       "      <td>0.032</td>\n",
       "      <td>0.016</td>\n",
       "      <td>0.008</td>\n",
       "      <td>24</td>\n",
       "      <td>1.181</td>\n",
       "      <td>6.647</td>\n",
       "      <td>2535</td>\n",
       "      <td>0</td>\n",
       "      <td>80</td>\n",
       "      <td>...</td>\n",
       "      <td>1</td>\n",
       "      <td>0</td>\n",
       "      <td>0</td>\n",
       "      <td>0</td>\n",
       "      <td>0</td>\n",
       "      <td>0</td>\n",
       "      <td>0</td>\n",
       "      <td>0</td>\n",
       "      <td>0</td>\n",
       "      <td>0</td>\n",
       "    </tr>\n",
       "    <tr>\n",
       "      <th>2017-11-01</th>\n",
       "      <td>8554</td>\n",
       "      <td>0.046</td>\n",
       "      <td>0.016</td>\n",
       "      <td>0.008</td>\n",
       "      <td>20</td>\n",
       "      <td>1.200</td>\n",
       "      <td>6.513</td>\n",
       "      <td>2484</td>\n",
       "      <td>0</td>\n",
       "      <td>87</td>\n",
       "      <td>...</td>\n",
       "      <td>3</td>\n",
       "      <td>0</td>\n",
       "      <td>0</td>\n",
       "      <td>0</td>\n",
       "      <td>0</td>\n",
       "      <td>0</td>\n",
       "      <td>0</td>\n",
       "      <td>0</td>\n",
       "      <td>0</td>\n",
       "      <td>1</td>\n",
       "    </tr>\n",
       "    <tr>\n",
       "      <th>2018-02-01</th>\n",
       "      <td>8984</td>\n",
       "      <td>0.033</td>\n",
       "      <td>0.019</td>\n",
       "      <td>0.002</td>\n",
       "      <td>38</td>\n",
       "      <td>1.232</td>\n",
       "      <td>6.260</td>\n",
       "      <td>2611</td>\n",
       "      <td>0</td>\n",
       "      <td>93</td>\n",
       "      <td>...</td>\n",
       "      <td>2</td>\n",
       "      <td>0</td>\n",
       "      <td>0</td>\n",
       "      <td>0</td>\n",
       "      <td>0</td>\n",
       "      <td>0</td>\n",
       "      <td>0</td>\n",
       "      <td>0</td>\n",
       "      <td>0</td>\n",
       "      <td>1</td>\n",
       "    </tr>\n",
       "    <tr>\n",
       "      <th>2018-05-01</th>\n",
       "      <td>9789</td>\n",
       "      <td>0.021</td>\n",
       "      <td>0.017</td>\n",
       "      <td>0.006</td>\n",
       "      <td>39</td>\n",
       "      <td>1.168</td>\n",
       "      <td>6.634</td>\n",
       "      <td>2798</td>\n",
       "      <td>0</td>\n",
       "      <td>90</td>\n",
       "      <td>...</td>\n",
       "      <td>0</td>\n",
       "      <td>0</td>\n",
       "      <td>0</td>\n",
       "      <td>0</td>\n",
       "      <td>0</td>\n",
       "      <td>0</td>\n",
       "      <td>0</td>\n",
       "      <td>0</td>\n",
       "      <td>0</td>\n",
       "      <td>0</td>\n",
       "    </tr>\n",
       "    <tr>\n",
       "      <th>2018-08-01</th>\n",
       "      <td>9948</td>\n",
       "      <td>0.025</td>\n",
       "      <td>0.014</td>\n",
       "      <td>0.001</td>\n",
       "      <td>71</td>\n",
       "      <td>1.161</td>\n",
       "      <td>6.875</td>\n",
       "      <td>2851</td>\n",
       "      <td>0</td>\n",
       "      <td>96</td>\n",
       "      <td>...</td>\n",
       "      <td>0</td>\n",
       "      <td>0</td>\n",
       "      <td>0</td>\n",
       "      <td>0</td>\n",
       "      <td>0</td>\n",
       "      <td>0</td>\n",
       "      <td>0</td>\n",
       "      <td>0</td>\n",
       "      <td>0</td>\n",
       "      <td>0</td>\n",
       "    </tr>\n",
       "    <tr>\n",
       "      <th>2018-11-01</th>\n",
       "      <td>9374</td>\n",
       "      <td>0.006</td>\n",
       "      <td>0.014</td>\n",
       "      <td>0.007</td>\n",
       "      <td>64</td>\n",
       "      <td>1.147</td>\n",
       "      <td>6.869</td>\n",
       "      <td>0</td>\n",
       "      <td>2831</td>\n",
       "      <td>96</td>\n",
       "      <td>...</td>\n",
       "      <td>1</td>\n",
       "      <td>0</td>\n",
       "      <td>0</td>\n",
       "      <td>0</td>\n",
       "      <td>0</td>\n",
       "      <td>0</td>\n",
       "      <td>0</td>\n",
       "      <td>0</td>\n",
       "      <td>0</td>\n",
       "      <td>0</td>\n",
       "    </tr>\n",
       "    <tr>\n",
       "      <th>2019-02-01</th>\n",
       "      <td>9611</td>\n",
       "      <td>0.022</td>\n",
       "      <td>0.017</td>\n",
       "      <td>0.006</td>\n",
       "      <td>73</td>\n",
       "      <td>1.122</td>\n",
       "      <td>6.722</td>\n",
       "      <td>3095</td>\n",
       "      <td>0</td>\n",
       "      <td>96</td>\n",
       "      <td>...</td>\n",
       "      <td>1</td>\n",
       "      <td>0</td>\n",
       "      <td>0</td>\n",
       "      <td>0</td>\n",
       "      <td>0</td>\n",
       "      <td>0</td>\n",
       "      <td>0</td>\n",
       "      <td>0</td>\n",
       "      <td>0</td>\n",
       "      <td>1</td>\n",
       "    </tr>\n",
       "    <tr>\n",
       "      <th>2019-05-01</th>\n",
       "      <td>10184</td>\n",
       "      <td>0.034</td>\n",
       "      <td>0.014</td>\n",
       "      <td>0.004</td>\n",
       "      <td>42</td>\n",
       "      <td>1.137</td>\n",
       "      <td>6.868</td>\n",
       "      <td>3255</td>\n",
       "      <td>0</td>\n",
       "      <td>94</td>\n",
       "      <td>...</td>\n",
       "      <td>1</td>\n",
       "      <td>0</td>\n",
       "      <td>0</td>\n",
       "      <td>0</td>\n",
       "      <td>0</td>\n",
       "      <td>0</td>\n",
       "      <td>0</td>\n",
       "      <td>1</td>\n",
       "      <td>0</td>\n",
       "      <td>1</td>\n",
       "    </tr>\n",
       "    <tr>\n",
       "      <th>2019-08-01</th>\n",
       "      <td>10660</td>\n",
       "      <td>0.046</td>\n",
       "      <td>0.014</td>\n",
       "      <td>0.002</td>\n",
       "      <td>43</td>\n",
       "      <td>1.090</td>\n",
       "      <td>7.139</td>\n",
       "      <td>0</td>\n",
       "      <td>3412</td>\n",
       "      <td>93</td>\n",
       "      <td>...</td>\n",
       "      <td>0</td>\n",
       "      <td>1</td>\n",
       "      <td>1</td>\n",
       "      <td>0</td>\n",
       "      <td>0</td>\n",
       "      <td>0</td>\n",
       "      <td>0</td>\n",
       "      <td>0</td>\n",
       "      <td>0</td>\n",
       "      <td>0</td>\n",
       "    </tr>\n",
       "    <tr>\n",
       "      <th>2019-11-01</th>\n",
       "      <td>10326</td>\n",
       "      <td>0.026</td>\n",
       "      <td>0.011</td>\n",
       "      <td>0.001</td>\n",
       "      <td>65</td>\n",
       "      <td>1.121</td>\n",
       "      <td>6.959</td>\n",
       "      <td>0</td>\n",
       "      <td>3422</td>\n",
       "      <td>88</td>\n",
       "      <td>...</td>\n",
       "      <td>1</td>\n",
       "      <td>0</td>\n",
       "      <td>0</td>\n",
       "      <td>1</td>\n",
       "      <td>0</td>\n",
       "      <td>0</td>\n",
       "      <td>0</td>\n",
       "      <td>0</td>\n",
       "      <td>0</td>\n",
       "      <td>0</td>\n",
       "    </tr>\n",
       "    <tr>\n",
       "      <th>2020-02-01</th>\n",
       "      <td>10104</td>\n",
       "      <td>-0.053</td>\n",
       "      <td>-0.102</td>\n",
       "      <td>-0.030</td>\n",
       "      <td>39</td>\n",
       "      <td>1.103</td>\n",
       "      <td>7.093</td>\n",
       "      <td>0</td>\n",
       "      <td>3447</td>\n",
       "      <td>93</td>\n",
       "      <td>...</td>\n",
       "      <td>2</td>\n",
       "      <td>0</td>\n",
       "      <td>0</td>\n",
       "      <td>0</td>\n",
       "      <td>0</td>\n",
       "      <td>1</td>\n",
       "      <td>0</td>\n",
       "      <td>0</td>\n",
       "      <td>0</td>\n",
       "      <td>0</td>\n",
       "    </tr>\n",
       "    <tr>\n",
       "      <th>2020-05-01</th>\n",
       "      <td>6313</td>\n",
       "      <td>-0.280</td>\n",
       "      <td>0.116</td>\n",
       "      <td>-0.109</td>\n",
       "      <td>56</td>\n",
       "      <td>1.123</td>\n",
       "      <td>7.068</td>\n",
       "      <td>0</td>\n",
       "      <td>2703</td>\n",
       "      <td>66</td>\n",
       "      <td>...</td>\n",
       "      <td>1</td>\n",
       "      <td>0</td>\n",
       "      <td>0</td>\n",
       "      <td>0</td>\n",
       "      <td>0</td>\n",
       "      <td>0</td>\n",
       "      <td>0</td>\n",
       "      <td>0</td>\n",
       "      <td>0</td>\n",
       "      <td>0</td>\n",
       "    </tr>\n",
       "    <tr>\n",
       "      <th>2020-08-01</th>\n",
       "      <td>10594</td>\n",
       "      <td>0.348</td>\n",
       "      <td>0.032</td>\n",
       "      <td>0.112</td>\n",
       "      <td>35</td>\n",
       "      <td>1.172</td>\n",
       "      <td>6.783</td>\n",
       "      <td>0</td>\n",
       "      <td>3821</td>\n",
       "      <td>86</td>\n",
       "      <td>...</td>\n",
       "      <td>1</td>\n",
       "      <td>0</td>\n",
       "      <td>0</td>\n",
       "      <td>0</td>\n",
       "      <td>0</td>\n",
       "      <td>0</td>\n",
       "      <td>0</td>\n",
       "      <td>0</td>\n",
       "      <td>0</td>\n",
       "      <td>0</td>\n",
       "    </tr>\n",
       "    <tr>\n",
       "      <th>2020-11-01</th>\n",
       "      <td>11243</td>\n",
       "      <td>0.042</td>\n",
       "      <td>0.024</td>\n",
       "      <td>0.002</td>\n",
       "      <td>60</td>\n",
       "      <td>1.221</td>\n",
       "      <td>6.502</td>\n",
       "      <td>0</td>\n",
       "      <td>4506</td>\n",
       "      <td>92</td>\n",
       "      <td>...</td>\n",
       "      <td>0</td>\n",
       "      <td>0</td>\n",
       "      <td>0</td>\n",
       "      <td>0</td>\n",
       "      <td>0</td>\n",
       "      <td>0</td>\n",
       "      <td>0</td>\n",
       "      <td>0</td>\n",
       "      <td>0</td>\n",
       "      <td>1</td>\n",
       "    </tr>\n",
       "    <tr>\n",
       "      <th>2021-02-01</th>\n",
       "      <td>10357</td>\n",
       "      <td>0.052</td>\n",
       "      <td>0.009</td>\n",
       "      <td>0.006</td>\n",
       "      <td>71</td>\n",
       "      <td>1.173</td>\n",
       "      <td>6.563</td>\n",
       "      <td>0</td>\n",
       "      <td>4134</td>\n",
       "      <td>88</td>\n",
       "      <td>...</td>\n",
       "      <td>1</td>\n",
       "      <td>0</td>\n",
       "      <td>0</td>\n",
       "      <td>0</td>\n",
       "      <td>0</td>\n",
       "      <td>0</td>\n",
       "      <td>0</td>\n",
       "      <td>0</td>\n",
       "      <td>0</td>\n",
       "      <td>0</td>\n",
       "    </tr>\n",
       "    <tr>\n",
       "      <th>2021-05-01</th>\n",
       "      <td>12344</td>\n",
       "      <td>0.062</td>\n",
       "      <td>0.016</td>\n",
       "      <td>0.021</td>\n",
       "      <td>48</td>\n",
       "      <td>1.186</td>\n",
       "      <td>6.468</td>\n",
       "      <td>0</td>\n",
       "      <td>4675</td>\n",
       "      <td>96</td>\n",
       "      <td>...</td>\n",
       "      <td>0</td>\n",
       "      <td>1</td>\n",
       "      <td>0</td>\n",
       "      <td>0</td>\n",
       "      <td>0</td>\n",
       "      <td>0</td>\n",
       "      <td>0</td>\n",
       "      <td>0</td>\n",
       "      <td>0</td>\n",
       "      <td>0</td>\n",
       "    </tr>\n",
       "    <tr>\n",
       "      <th>2021-08-01</th>\n",
       "      <td>12248</td>\n",
       "      <td>0.033</td>\n",
       "      <td>0.003</td>\n",
       "      <td>0.020</td>\n",
       "      <td>61</td>\n",
       "      <td>1.158</td>\n",
       "      <td>6.447</td>\n",
       "      <td>0</td>\n",
       "      <td>4921</td>\n",
       "      <td>81</td>\n",
       "      <td>...</td>\n",
       "      <td>0</td>\n",
       "      <td>0</td>\n",
       "      <td>0</td>\n",
       "      <td>0</td>\n",
       "      <td>0</td>\n",
       "      <td>0</td>\n",
       "      <td>0</td>\n",
       "      <td>0</td>\n",
       "      <td>0</td>\n",
       "      <td>0</td>\n",
       "    </tr>\n",
       "    <tr>\n",
       "      <th>2021-11-01</th>\n",
       "      <td>11357</td>\n",
       "      <td>0.070</td>\n",
       "      <td>0.015</td>\n",
       "      <td>0.007</td>\n",
       "      <td>32</td>\n",
       "      <td>1.137</td>\n",
       "      <td>6.361</td>\n",
       "      <td>0</td>\n",
       "      <td>4912</td>\n",
       "      <td>81</td>\n",
       "      <td>...</td>\n",
       "      <td>0</td>\n",
       "      <td>0</td>\n",
       "      <td>0</td>\n",
       "      <td>0</td>\n",
       "      <td>0</td>\n",
       "      <td>0</td>\n",
       "      <td>1</td>\n",
       "      <td>0</td>\n",
       "      <td>0</td>\n",
       "      <td>0</td>\n",
       "    </tr>\n",
       "    <tr>\n",
       "      <th>2022-02-01</th>\n",
       "      <td>10871</td>\n",
       "      <td>-0.020</td>\n",
       "      <td>0.013</td>\n",
       "      <td>0.007</td>\n",
       "      <td>38</td>\n",
       "      <td>1.107</td>\n",
       "      <td>6.353</td>\n",
       "      <td>0</td>\n",
       "      <td>4790</td>\n",
       "      <td>75</td>\n",
       "      <td>...</td>\n",
       "      <td>1</td>\n",
       "      <td>0</td>\n",
       "      <td>0</td>\n",
       "      <td>0</td>\n",
       "      <td>0</td>\n",
       "      <td>0</td>\n",
       "      <td>0</td>\n",
       "      <td>0</td>\n",
       "      <td>0</td>\n",
       "      <td>0</td>\n",
       "    </tr>\n",
       "    <tr>\n",
       "      <th>2022-05-01</th>\n",
       "      <td>12234</td>\n",
       "      <td>-0.006</td>\n",
       "      <td>-0.024</td>\n",
       "      <td>0.007</td>\n",
       "      <td>26</td>\n",
       "      <td>1.048</td>\n",
       "      <td>6.693</td>\n",
       "      <td>0</td>\n",
       "      <td>5034</td>\n",
       "      <td>64</td>\n",
       "      <td>...</td>\n",
       "      <td>1</td>\n",
       "      <td>1</td>\n",
       "      <td>0</td>\n",
       "      <td>0</td>\n",
       "      <td>0</td>\n",
       "      <td>0</td>\n",
       "      <td>0</td>\n",
       "      <td>0</td>\n",
       "      <td>0</td>\n",
       "      <td>0</td>\n",
       "    </tr>\n",
       "    <tr>\n",
       "      <th>2022-08-01</th>\n",
       "      <td>12687</td>\n",
       "      <td>0.027</td>\n",
       "      <td>0.039</td>\n",
       "      <td>0.004</td>\n",
       "      <td>20</td>\n",
       "      <td>0.980</td>\n",
       "      <td>7.142</td>\n",
       "      <td>0</td>\n",
       "      <td>5312</td>\n",
       "      <td>72</td>\n",
       "      <td>...</td>\n",
       "      <td>0</td>\n",
       "      <td>0</td>\n",
       "      <td>0</td>\n",
       "      <td>0</td>\n",
       "      <td>0</td>\n",
       "      <td>0</td>\n",
       "      <td>0</td>\n",
       "      <td>0</td>\n",
       "      <td>1</td>\n",
       "      <td>0</td>\n",
       "    </tr>\n",
       "    <tr>\n",
       "      <th>2022-11-01</th>\n",
       "      <td>13315</td>\n",
       "      <td>0.026</td>\n",
       "      <td>0.000</td>\n",
       "      <td>-0.001</td>\n",
       "      <td>22</td>\n",
       "      <td>1.070</td>\n",
       "      <td>6.923</td>\n",
       "      <td>0</td>\n",
       "      <td>5659</td>\n",
       "      <td>50</td>\n",
       "      <td>...</td>\n",
       "      <td>0</td>\n",
       "      <td>0</td>\n",
       "      <td>0</td>\n",
       "      <td>0</td>\n",
       "      <td>0</td>\n",
       "      <td>0</td>\n",
       "      <td>0</td>\n",
       "      <td>0</td>\n",
       "      <td>0</td>\n",
       "      <td>0</td>\n",
       "    </tr>\n",
       "    <tr>\n",
       "      <th>2023-02-01</th>\n",
       "      <td>12390</td>\n",
       "      <td>0.022</td>\n",
       "      <td>0.022</td>\n",
       "      <td>0.001</td>\n",
       "      <td>41</td>\n",
       "      <td>1.084</td>\n",
       "      <td>6.874</td>\n",
       "      <td>0</td>\n",
       "      <td>5583</td>\n",
       "      <td>68</td>\n",
       "      <td>...</td>\n",
       "      <td>0</td>\n",
       "      <td>0</td>\n",
       "      <td>0</td>\n",
       "      <td>0</td>\n",
       "      <td>0</td>\n",
       "      <td>0</td>\n",
       "      <td>0</td>\n",
       "      <td>0</td>\n",
       "      <td>0</td>\n",
       "      <td>0</td>\n",
       "    </tr>\n",
       "    <tr>\n",
       "      <th>2023-05-01</th>\n",
       "      <td>12825</td>\n",
       "      <td>0.021</td>\n",
       "      <td>0.008</td>\n",
       "      <td>0.000</td>\n",
       "      <td>34</td>\n",
       "      <td>1.091</td>\n",
       "      <td>7.268</td>\n",
       "      <td>0</td>\n",
       "      <td>0</td>\n",
       "      <td>68</td>\n",
       "      <td>...</td>\n",
       "      <td>1</td>\n",
       "      <td>0</td>\n",
       "      <td>0</td>\n",
       "      <td>0</td>\n",
       "      <td>1</td>\n",
       "      <td>0</td>\n",
       "      <td>0</td>\n",
       "      <td>0</td>\n",
       "      <td>0</td>\n",
       "      <td>0</td>\n",
       "    </tr>\n",
       "    <tr>\n",
       "      <th>2023-08-01</th>\n",
       "      <td>12939</td>\n",
       "      <td>0.052</td>\n",
       "      <td>0.013</td>\n",
       "      <td>0.001</td>\n",
       "      <td>27</td>\n",
       "      <td>1.057</td>\n",
       "      <td>7.296</td>\n",
       "      <td>0</td>\n",
       "      <td>5581</td>\n",
       "      <td>63</td>\n",
       "      <td>...</td>\n",
       "      <td>0</td>\n",
       "      <td>0</td>\n",
       "      <td>0</td>\n",
       "      <td>0</td>\n",
       "      <td>0</td>\n",
       "      <td>0</td>\n",
       "      <td>0</td>\n",
       "      <td>0</td>\n",
       "      <td>0</td>\n",
       "      <td>0</td>\n",
       "    </tr>\n",
       "  </tbody>\n",
       "</table>\n",
       "<p>25 rows × 45 columns</p>\n",
       "</div>"
      ],
      "text/plain": [
       "            Revenue  GDP_USA  GDP_China  GPD_EU  Combined Alpha Score  \\\n",
       "Quarter                                                                 \n",
       "2017-08-01     9070    0.032      0.016   0.008                    24   \n",
       "2017-11-01     8554    0.046      0.016   0.008                    20   \n",
       "2018-02-01     8984    0.033      0.019   0.002                    38   \n",
       "2018-05-01     9789    0.021      0.017   0.006                    39   \n",
       "2018-08-01     9948    0.025      0.014   0.001                    71   \n",
       "2018-11-01     9374    0.006      0.014   0.007                    64   \n",
       "2019-02-01     9611    0.022      0.017   0.006                    73   \n",
       "2019-05-01    10184    0.034      0.014   0.004                    42   \n",
       "2019-08-01    10660    0.046      0.014   0.002                    43   \n",
       "2019-11-01    10326    0.026      0.011   0.001                    65   \n",
       "2020-02-01    10104   -0.053     -0.102  -0.030                    39   \n",
       "2020-05-01     6313   -0.280      0.116  -0.109                    56   \n",
       "2020-08-01    10594    0.348      0.032   0.112                    35   \n",
       "2020-11-01    11243    0.042      0.024   0.002                    60   \n",
       "2021-02-01    10357    0.052      0.009   0.006                    71   \n",
       "2021-05-01    12344    0.062      0.016   0.021                    48   \n",
       "2021-08-01    12248    0.033      0.003   0.020                    61   \n",
       "2021-11-01    11357    0.070      0.015   0.007                    32   \n",
       "2022-02-01    10871   -0.020      0.013   0.007                    38   \n",
       "2022-05-01    12234   -0.006     -0.024   0.007                    26   \n",
       "2022-08-01    12687    0.027      0.039   0.004                    20   \n",
       "2022-11-01    13315    0.026      0.000  -0.001                    22   \n",
       "2023-02-01    12390    0.022      0.022   0.001                    41   \n",
       "2023-05-01    12825    0.021      0.008   0.000                    34   \n",
       "2023-08-01    12939    0.052      0.013   0.001                    27   \n",
       "\n",
       "            Euro_dollar  Yen_dollar  Retail Sales  Online Sales  \\\n",
       "Quarter                                                           \n",
       "2017-08-01        1.181       6.647          2535             0   \n",
       "2017-11-01        1.200       6.513          2484             0   \n",
       "2018-02-01        1.232       6.260          2611             0   \n",
       "2018-05-01        1.168       6.634          2798             0   \n",
       "2018-08-01        1.161       6.875          2851             0   \n",
       "2018-11-01        1.147       6.869             0          2831   \n",
       "2019-02-01        1.122       6.722          3095             0   \n",
       "2019-05-01        1.137       6.868          3255             0   \n",
       "2019-08-01        1.090       7.139             0          3412   \n",
       "2019-11-01        1.121       6.959             0          3422   \n",
       "2020-02-01        1.103       7.093             0          3447   \n",
       "2020-05-01        1.123       7.068             0          2703   \n",
       "2020-08-01        1.172       6.783             0          3821   \n",
       "2020-11-01        1.221       6.502             0          4506   \n",
       "2021-02-01        1.173       6.563             0          4134   \n",
       "2021-05-01        1.186       6.468             0          4675   \n",
       "2021-08-01        1.158       6.447             0          4921   \n",
       "2021-11-01        1.137       6.361             0          4912   \n",
       "2022-02-01        1.107       6.353             0          4790   \n",
       "2022-05-01        1.048       6.693             0          5034   \n",
       "2022-08-01        0.980       7.142             0          5312   \n",
       "2022-11-01        1.070       6.923             0          5659   \n",
       "2023-02-01        1.084       6.874             0          5583   \n",
       "2023-05-01        1.091       7.268             0             0   \n",
       "2023-08-01        1.057       7.296             0          5581   \n",
       "\n",
       "            Earnings Quality Score  ...  news_Other Pre-Announcement  \\\n",
       "Quarter                             ...                                \n",
       "2017-08-01                      80  ...                            1   \n",
       "2017-11-01                      87  ...                            3   \n",
       "2018-02-01                      93  ...                            2   \n",
       "2018-05-01                      90  ...                            0   \n",
       "2018-08-01                      96  ...                            0   \n",
       "2018-11-01                      96  ...                            1   \n",
       "2019-02-01                      96  ...                            1   \n",
       "2019-05-01                      94  ...                            1   \n",
       "2019-08-01                      93  ...                            0   \n",
       "2019-11-01                      88  ...                            1   \n",
       "2020-02-01                      93  ...                            2   \n",
       "2020-05-01                      66  ...                            1   \n",
       "2020-08-01                      86  ...                            1   \n",
       "2020-11-01                      92  ...                            0   \n",
       "2021-02-01                      88  ...                            1   \n",
       "2021-05-01                      96  ...                            0   \n",
       "2021-08-01                      81  ...                            0   \n",
       "2021-11-01                      81  ...                            0   \n",
       "2022-02-01                      75  ...                            1   \n",
       "2022-05-01                      64  ...                            1   \n",
       "2022-08-01                      72  ...                            0   \n",
       "2022-11-01                      50  ...                            0   \n",
       "2023-02-01                      68  ...                            0   \n",
       "2023-05-01                      68  ...                            1   \n",
       "2023-08-01                      63  ...                            0   \n",
       "\n",
       "            news_Products  news_Products, Expansion  \\\n",
       "Quarter                                               \n",
       "2017-08-01              0                         0   \n",
       "2017-11-01              0                         0   \n",
       "2018-02-01              0                         0   \n",
       "2018-05-01              0                         0   \n",
       "2018-08-01              0                         0   \n",
       "2018-11-01              0                         0   \n",
       "2019-02-01              0                         0   \n",
       "2019-05-01              0                         0   \n",
       "2019-08-01              1                         1   \n",
       "2019-11-01              0                         0   \n",
       "2020-02-01              0                         0   \n",
       "2020-05-01              0                         0   \n",
       "2020-08-01              0                         0   \n",
       "2020-11-01              0                         0   \n",
       "2021-02-01              0                         0   \n",
       "2021-05-01              1                         0   \n",
       "2021-08-01              0                         0   \n",
       "2021-11-01              0                         0   \n",
       "2022-02-01              0                         0   \n",
       "2022-05-01              1                         0   \n",
       "2022-08-01              0                         0   \n",
       "2022-11-01              0                         0   \n",
       "2023-02-01              0                         0   \n",
       "2023-05-01              0                         0   \n",
       "2023-08-01              0                         0   \n",
       "\n",
       "            news_Products, Litigation  \\\n",
       "Quarter                                 \n",
       "2017-08-01                          0   \n",
       "2017-11-01                          0   \n",
       "2018-02-01                          0   \n",
       "2018-05-01                          0   \n",
       "2018-08-01                          0   \n",
       "2018-11-01                          0   \n",
       "2019-02-01                          0   \n",
       "2019-05-01                          0   \n",
       "2019-08-01                          0   \n",
       "2019-11-01                          1   \n",
       "2020-02-01                          0   \n",
       "2020-05-01                          0   \n",
       "2020-08-01                          0   \n",
       "2020-11-01                          0   \n",
       "2021-02-01                          0   \n",
       "2021-05-01                          0   \n",
       "2021-08-01                          0   \n",
       "2021-11-01                          0   \n",
       "2022-02-01                          0   \n",
       "2022-05-01                          0   \n",
       "2022-08-01                          0   \n",
       "2022-11-01                          0   \n",
       "2023-02-01                          0   \n",
       "2023-05-01                          0   \n",
       "2023-08-01                          0   \n",
       "\n",
       "            news_Products, Officer Changes, Earnings Announcements  \\\n",
       "Quarter                                                              \n",
       "2017-08-01                                                  0        \n",
       "2017-11-01                                                  0        \n",
       "2018-02-01                                                  0        \n",
       "2018-05-01                                                  0        \n",
       "2018-08-01                                                  0        \n",
       "2018-11-01                                                  0        \n",
       "2019-02-01                                                  0        \n",
       "2019-05-01                                                  0        \n",
       "2019-08-01                                                  0        \n",
       "2019-11-01                                                  0        \n",
       "2020-02-01                                                  0        \n",
       "2020-05-01                                                  0        \n",
       "2020-08-01                                                  0        \n",
       "2020-11-01                                                  0        \n",
       "2021-02-01                                                  0        \n",
       "2021-05-01                                                  0        \n",
       "2021-08-01                                                  0        \n",
       "2021-11-01                                                  0        \n",
       "2022-02-01                                                  0        \n",
       "2022-05-01                                                  0        \n",
       "2022-08-01                                                  0        \n",
       "2022-11-01                                                  0        \n",
       "2023-02-01                                                  0        \n",
       "2023-05-01                                                  1        \n",
       "2023-08-01                                                  0        \n",
       "\n",
       "            news_Products, Restructuring / Reorganization, Expansion  \\\n",
       "Quarter                                                                \n",
       "2017-08-01                                                  0          \n",
       "2017-11-01                                                  0          \n",
       "2018-02-01                                                  0          \n",
       "2018-05-01                                                  0          \n",
       "2018-08-01                                                  0          \n",
       "2018-11-01                                                  0          \n",
       "2019-02-01                                                  0          \n",
       "2019-05-01                                                  0          \n",
       "2019-08-01                                                  0          \n",
       "2019-11-01                                                  0          \n",
       "2020-02-01                                                  1          \n",
       "2020-05-01                                                  0          \n",
       "2020-08-01                                                  0          \n",
       "2020-11-01                                                  0          \n",
       "2021-02-01                                                  0          \n",
       "2021-05-01                                                  0          \n",
       "2021-08-01                                                  0          \n",
       "2021-11-01                                                  0          \n",
       "2022-02-01                                                  0          \n",
       "2022-05-01                                                  0          \n",
       "2022-08-01                                                  0          \n",
       "2022-11-01                                                  0          \n",
       "2023-02-01                                                  0          \n",
       "2023-05-01                                                  0          \n",
       "2023-08-01                                                  0          \n",
       "\n",
       "            news_Regulatory  news_Regulatory, Earnings Announcements  \\\n",
       "Quarter                                                                \n",
       "2017-08-01                0                                        0   \n",
       "2017-11-01                0                                        0   \n",
       "2018-02-01                0                                        0   \n",
       "2018-05-01                0                                        0   \n",
       "2018-08-01                0                                        0   \n",
       "2018-11-01                0                                        0   \n",
       "2019-02-01                0                                        0   \n",
       "2019-05-01                0                                        1   \n",
       "2019-08-01                0                                        0   \n",
       "2019-11-01                0                                        0   \n",
       "2020-02-01                0                                        0   \n",
       "2020-05-01                0                                        0   \n",
       "2020-08-01                0                                        0   \n",
       "2020-11-01                0                                        0   \n",
       "2021-02-01                0                                        0   \n",
       "2021-05-01                0                                        0   \n",
       "2021-08-01                0                                        0   \n",
       "2021-11-01                1                                        0   \n",
       "2022-02-01                0                                        0   \n",
       "2022-05-01                0                                        0   \n",
       "2022-08-01                0                                        0   \n",
       "2022-11-01                0                                        0   \n",
       "2023-02-01                0                                        0   \n",
       "2023-05-01                0                                        0   \n",
       "2023-08-01                0                                        0   \n",
       "\n",
       "            news_Regulatory, Management Compensation, Labor Issues  \\\n",
       "Quarter                                                              \n",
       "2017-08-01                                                  0        \n",
       "2017-11-01                                                  0        \n",
       "2018-02-01                                                  0        \n",
       "2018-05-01                                                  0        \n",
       "2018-08-01                                                  0        \n",
       "2018-11-01                                                  0        \n",
       "2019-02-01                                                  0        \n",
       "2019-05-01                                                  0        \n",
       "2019-08-01                                                  0        \n",
       "2019-11-01                                                  0        \n",
       "2020-02-01                                                  0        \n",
       "2020-05-01                                                  0        \n",
       "2020-08-01                                                  0        \n",
       "2020-11-01                                                  0        \n",
       "2021-02-01                                                  0        \n",
       "2021-05-01                                                  0        \n",
       "2021-08-01                                                  0        \n",
       "2021-11-01                                                  0        \n",
       "2022-02-01                                                  0        \n",
       "2022-05-01                                                  0        \n",
       "2022-08-01                                                  1        \n",
       "2022-11-01                                                  0        \n",
       "2023-02-01                                                  0        \n",
       "2023-05-01                                                  0        \n",
       "2023-08-01                                                  0        \n",
       "\n",
       "            news_ Strategic Combinations  \n",
       "Quarter                                   \n",
       "2017-08-01                             0  \n",
       "2017-11-01                             1  \n",
       "2018-02-01                             1  \n",
       "2018-05-01                             0  \n",
       "2018-08-01                             0  \n",
       "2018-11-01                             0  \n",
       "2019-02-01                             1  \n",
       "2019-05-01                             1  \n",
       "2019-08-01                             0  \n",
       "2019-11-01                             0  \n",
       "2020-02-01                             0  \n",
       "2020-05-01                             0  \n",
       "2020-08-01                             0  \n",
       "2020-11-01                             1  \n",
       "2021-02-01                             0  \n",
       "2021-05-01                             0  \n",
       "2021-08-01                             0  \n",
       "2021-11-01                             0  \n",
       "2022-02-01                             0  \n",
       "2022-05-01                             0  \n",
       "2022-08-01                             0  \n",
       "2022-11-01                             0  \n",
       "2023-02-01                             0  \n",
       "2023-05-01                             0  \n",
       "2023-08-01                             0  \n",
       "\n",
       "[25 rows x 45 columns]"
      ]
     },
     "execution_count": 5,
     "metadata": {},
     "output_type": "execute_result"
    }
   ],
   "source": [
    "df.head(50)"
   ]
  },
  {
   "cell_type": "code",
   "execution_count": 6,
   "id": "d81ccb58",
   "metadata": {
    "execution": {
     "iopub.execute_input": "2023-12-22T21:17:53.614528Z",
     "iopub.status.busy": "2023-12-22T21:17:53.613981Z",
     "iopub.status.idle": "2023-12-22T21:17:53.621416Z",
     "shell.execute_reply": "2023-12-22T21:17:53.620227Z"
    },
    "papermill": {
     "duration": 0.038884,
     "end_time": "2023-12-22T21:17:53.624461",
     "exception": false,
     "start_time": "2023-12-22T21:17:53.585577",
     "status": "completed"
    },
    "tags": []
   },
   "outputs": [
    {
     "data": {
      "text/plain": [
       "(25, 45)"
      ]
     },
     "execution_count": 6,
     "metadata": {},
     "output_type": "execute_result"
    }
   ],
   "source": [
    "df.shape"
   ]
  },
  {
   "cell_type": "code",
   "execution_count": 7,
   "id": "7815b2cc",
   "metadata": {
    "execution": {
     "iopub.execute_input": "2023-12-22T21:17:53.685149Z",
     "iopub.status.busy": "2023-12-22T21:17:53.684049Z",
     "iopub.status.idle": "2023-12-22T21:17:53.714298Z",
     "shell.execute_reply": "2023-12-22T21:17:53.712980Z"
    },
    "papermill": {
     "duration": 0.065459,
     "end_time": "2023-12-22T21:17:53.717483",
     "exception": false,
     "start_time": "2023-12-22T21:17:53.652024",
     "status": "completed"
    },
    "tags": []
   },
   "outputs": [
    {
     "name": "stdout",
     "output_type": "stream",
     "text": [
      "<class 'pandas.core.frame.DataFrame'>\n",
      "DatetimeIndex: 25 entries, 2017-08-01 to 2023-08-01\n",
      "Data columns (total 45 columns):\n",
      " #   Column                                                     Non-Null Count  Dtype  \n",
      "---  ------                                                     --------------  -----  \n",
      " 0   Revenue                                                    25 non-null     int64  \n",
      " 1   GDP_USA                                                    25 non-null     float64\n",
      " 2   GDP_China                                                  25 non-null     float64\n",
      " 3   GPD_EU                                                     25 non-null     float64\n",
      " 4   Combined Alpha Score                                       25 non-null     int64  \n",
      " 5   Euro_dollar                                                25 non-null     float64\n",
      " 6   Yen_dollar                                                 25 non-null     float64\n",
      " 7   Retail Sales                                               25 non-null     int64  \n",
      " 8   Online Sales                                               25 non-null     int64  \n",
      " 9   Earnings Quality Score                                     25 non-null     int64  \n",
      " 10  CCI                                                        25 non-null     float64\n",
      " 11  news_Community                                             25 non-null     int64  \n",
      " 12  news_Debt Financing / Related                              25 non-null     int64  \n",
      " 13  news_Debt Financing / Related, Earnings Announcements      25 non-null     int64  \n",
      " 14  news_Divestitures / Spin-offs                              25 non-null     int64  \n",
      " 15  news_Dividends                                             25 non-null     int64  \n",
      " 16  news_Earnings Announcements                                25 non-null     int64  \n",
      " 17  news_Environmental                                         25 non-null     int64  \n",
      " 18  news_Equity Financing / Related, Mergers / Acquisitions    25 non-null     int64  \n",
      " 19  news_Equity Investments                                    25 non-null     int64  \n",
      " 20  news_Equity Investments, Equity Financing / Related        25 non-null     int64  \n",
      " 21  news_Equity Investments, Officer Changes, Regulatory       25 non-null     int64  \n",
      " 22  news_Equity Investments, Regulatory                        25 non-null     int64  \n",
      " 23  news_Labor Issues                                          25 non-null     int64  \n",
      " 24  news_Layoffs, Earnings Announcements                       25 non-null     int64  \n",
      " 25  news_Layoffs, Officer Changes                              25 non-null     int64  \n",
      " 26  news_Layoffs, Other Pre-Announcement                       25 non-null     int64  \n",
      " 27  news_Litigation                                            25 non-null     int64  \n",
      " 28  news_Litigation, Regulatory                                25 non-null     int64  \n",
      " 29  news_Management Compensation, Labor Issues                 25 non-null     int64  \n",
      " 30  news_Mergers / Acquisitions                                25 non-null     int64  \n",
      " 31  news_Officer Changes                                       25 non-null     int64  \n",
      " 32  news_Officer Changes, Mergers / Acquisitions               25 non-null     int64  \n",
      " 33  news_Officer Changes, Other Pre-Announcement               25 non-null     int64  \n",
      " 34  news_Officer Changes, Regulatory, Management Compensation  25 non-null     int64  \n",
      " 35  news_Other Pre-Announcement                                25 non-null     int64  \n",
      " 36  news_Products                                              25 non-null     int64  \n",
      " 37  news_Products, Expansion                                   25 non-null     int64  \n",
      " 38  news_Products, Litigation                                  25 non-null     int64  \n",
      " 39  news_Products, Officer Changes, Earnings Announcements     25 non-null     int64  \n",
      " 40  news_Products, Restructuring / Reorganization, Expansion   25 non-null     int64  \n",
      " 41  news_Regulatory                                            25 non-null     int64  \n",
      " 42  news_Regulatory, Earnings Announcements                    25 non-null     int64  \n",
      " 43  news_Regulatory, Management Compensation, Labor Issues     25 non-null     int64  \n",
      " 44  news_ Strategic Combinations                               25 non-null     int64  \n",
      "dtypes: float64(6), int64(39)\n",
      "memory usage: 9.0 KB\n"
     ]
    }
   ],
   "source": [
    "df.info()"
   ]
  },
  {
   "cell_type": "code",
   "execution_count": 8,
   "id": "9fc8900c",
   "metadata": {
    "execution": {
     "iopub.execute_input": "2023-12-22T21:17:53.776792Z",
     "iopub.status.busy": "2023-12-22T21:17:53.775993Z",
     "iopub.status.idle": "2023-12-22T21:17:53.786844Z",
     "shell.execute_reply": "2023-12-22T21:17:53.785229Z"
    },
    "papermill": {
     "duration": 0.044835,
     "end_time": "2023-12-22T21:17:53.790004",
     "exception": false,
     "start_time": "2023-12-22T21:17:53.745169",
     "status": "completed"
    },
    "tags": []
   },
   "outputs": [
    {
     "data": {
      "text/plain": [
       "0"
      ]
     },
     "execution_count": 8,
     "metadata": {},
     "output_type": "execute_result"
    }
   ],
   "source": [
    "df.isnull().sum().sum()"
   ]
  },
  {
   "cell_type": "code",
   "execution_count": 9,
   "id": "4332f05f",
   "metadata": {
    "execution": {
     "iopub.execute_input": "2023-12-22T21:17:53.848053Z",
     "iopub.status.busy": "2023-12-22T21:17:53.847567Z",
     "iopub.status.idle": "2023-12-22T21:17:53.863704Z",
     "shell.execute_reply": "2023-12-22T21:17:53.862539Z"
    },
    "papermill": {
     "duration": 0.048895,
     "end_time": "2023-12-22T21:17:53.866180",
     "exception": false,
     "start_time": "2023-12-22T21:17:53.817285",
     "status": "completed"
    },
    "tags": []
   },
   "outputs": [
    {
     "data": {
      "text/plain": [
       "0"
      ]
     },
     "execution_count": 9,
     "metadata": {},
     "output_type": "execute_result"
    }
   ],
   "source": [
    "df.duplicated().sum()"
   ]
  },
  {
   "cell_type": "code",
   "execution_count": 10,
   "id": "23ae3602",
   "metadata": {
    "execution": {
     "iopub.execute_input": "2023-12-22T21:17:53.923436Z",
     "iopub.status.busy": "2023-12-22T21:17:53.922020Z",
     "iopub.status.idle": "2023-12-22T21:17:54.049973Z",
     "shell.execute_reply": "2023-12-22T21:17:54.049024Z"
    },
    "papermill": {
     "duration": 0.159046,
     "end_time": "2023-12-22T21:17:54.052229",
     "exception": false,
     "start_time": "2023-12-22T21:17:53.893183",
     "status": "completed"
    },
    "tags": []
   },
   "outputs": [
    {
     "data": {
      "text/html": [
       "<div>\n",
       "<style scoped>\n",
       "    .dataframe tbody tr th:only-of-type {\n",
       "        vertical-align: middle;\n",
       "    }\n",
       "\n",
       "    .dataframe tbody tr th {\n",
       "        vertical-align: top;\n",
       "    }\n",
       "\n",
       "    .dataframe thead th {\n",
       "        text-align: right;\n",
       "    }\n",
       "</style>\n",
       "<table border=\"1\" class=\"dataframe\">\n",
       "  <thead>\n",
       "    <tr style=\"text-align: right;\">\n",
       "      <th></th>\n",
       "      <th>Revenue</th>\n",
       "      <th>GDP_USA</th>\n",
       "      <th>GDP_China</th>\n",
       "      <th>GPD_EU</th>\n",
       "      <th>Combined Alpha Score</th>\n",
       "      <th>Euro_dollar</th>\n",
       "      <th>Yen_dollar</th>\n",
       "      <th>Retail Sales</th>\n",
       "      <th>Online Sales</th>\n",
       "      <th>Earnings Quality Score</th>\n",
       "      <th>...</th>\n",
       "      <th>news_Other Pre-Announcement</th>\n",
       "      <th>news_Products</th>\n",
       "      <th>news_Products, Expansion</th>\n",
       "      <th>news_Products, Litigation</th>\n",
       "      <th>news_Products, Officer Changes, Earnings Announcements</th>\n",
       "      <th>news_Products, Restructuring / Reorganization, Expansion</th>\n",
       "      <th>news_Regulatory</th>\n",
       "      <th>news_Regulatory, Earnings Announcements</th>\n",
       "      <th>news_Regulatory, Management Compensation, Labor Issues</th>\n",
       "      <th>news_ Strategic Combinations</th>\n",
       "    </tr>\n",
       "  </thead>\n",
       "  <tbody>\n",
       "    <tr>\n",
       "      <th>count</th>\n",
       "      <td>25.000000</td>\n",
       "      <td>25.00000</td>\n",
       "      <td>25.00000</td>\n",
       "      <td>25.000000</td>\n",
       "      <td>25.000000</td>\n",
       "      <td>25.000000</td>\n",
       "      <td>25.000000</td>\n",
       "      <td>25.000000</td>\n",
       "      <td>25.000000</td>\n",
       "      <td>25.000000</td>\n",
       "      <td>...</td>\n",
       "      <td>25.000000</td>\n",
       "      <td>25.000000</td>\n",
       "      <td>25.00</td>\n",
       "      <td>25.00</td>\n",
       "      <td>25.00</td>\n",
       "      <td>25.00</td>\n",
       "      <td>25.00</td>\n",
       "      <td>25.00</td>\n",
       "      <td>25.00</td>\n",
       "      <td>25.000000</td>\n",
       "    </tr>\n",
       "    <tr>\n",
       "      <th>mean</th>\n",
       "      <td>10732.840000</td>\n",
       "      <td>0.02748</td>\n",
       "      <td>0.01344</td>\n",
       "      <td>0.003720</td>\n",
       "      <td>43.560000</td>\n",
       "      <td>1.130760</td>\n",
       "      <td>6.772800</td>\n",
       "      <td>785.160000</td>\n",
       "      <td>2989.720000</td>\n",
       "      <td>82.240000</td>\n",
       "      <td>...</td>\n",
       "      <td>0.720000</td>\n",
       "      <td>0.120000</td>\n",
       "      <td>0.04</td>\n",
       "      <td>0.04</td>\n",
       "      <td>0.04</td>\n",
       "      <td>0.04</td>\n",
       "      <td>0.04</td>\n",
       "      <td>0.04</td>\n",
       "      <td>0.04</td>\n",
       "      <td>0.200000</td>\n",
       "    </tr>\n",
       "    <tr>\n",
       "      <th>std</th>\n",
       "      <td>1658.768486</td>\n",
       "      <td>0.09420</td>\n",
       "      <td>0.03345</td>\n",
       "      <td>0.033104</td>\n",
       "      <td>17.017344</td>\n",
       "      <td>0.058216</td>\n",
       "      <td>0.296654</td>\n",
       "      <td>1293.138162</td>\n",
       "      <td>2237.295047</td>\n",
       "      <td>13.036104</td>\n",
       "      <td>...</td>\n",
       "      <td>0.791623</td>\n",
       "      <td>0.331662</td>\n",
       "      <td>0.20</td>\n",
       "      <td>0.20</td>\n",
       "      <td>0.20</td>\n",
       "      <td>0.20</td>\n",
       "      <td>0.20</td>\n",
       "      <td>0.20</td>\n",
       "      <td>0.20</td>\n",
       "      <td>0.408248</td>\n",
       "    </tr>\n",
       "    <tr>\n",
       "      <th>min</th>\n",
       "      <td>6313.000000</td>\n",
       "      <td>-0.28000</td>\n",
       "      <td>-0.10200</td>\n",
       "      <td>-0.109000</td>\n",
       "      <td>20.000000</td>\n",
       "      <td>0.980000</td>\n",
       "      <td>6.260000</td>\n",
       "      <td>0.000000</td>\n",
       "      <td>0.000000</td>\n",
       "      <td>50.000000</td>\n",
       "      <td>...</td>\n",
       "      <td>0.000000</td>\n",
       "      <td>0.000000</td>\n",
       "      <td>0.00</td>\n",
       "      <td>0.00</td>\n",
       "      <td>0.00</td>\n",
       "      <td>0.00</td>\n",
       "      <td>0.00</td>\n",
       "      <td>0.00</td>\n",
       "      <td>0.00</td>\n",
       "      <td>0.000000</td>\n",
       "    </tr>\n",
       "    <tr>\n",
       "      <th>25%</th>\n",
       "      <td>9789.000000</td>\n",
       "      <td>0.02100</td>\n",
       "      <td>0.01100</td>\n",
       "      <td>0.001000</td>\n",
       "      <td>32.000000</td>\n",
       "      <td>1.091000</td>\n",
       "      <td>6.513000</td>\n",
       "      <td>0.000000</td>\n",
       "      <td>0.000000</td>\n",
       "      <td>72.000000</td>\n",
       "      <td>...</td>\n",
       "      <td>0.000000</td>\n",
       "      <td>0.000000</td>\n",
       "      <td>0.00</td>\n",
       "      <td>0.00</td>\n",
       "      <td>0.00</td>\n",
       "      <td>0.00</td>\n",
       "      <td>0.00</td>\n",
       "      <td>0.00</td>\n",
       "      <td>0.00</td>\n",
       "      <td>0.000000</td>\n",
       "    </tr>\n",
       "    <tr>\n",
       "      <th>50%</th>\n",
       "      <td>10594.000000</td>\n",
       "      <td>0.02700</td>\n",
       "      <td>0.01400</td>\n",
       "      <td>0.004000</td>\n",
       "      <td>39.000000</td>\n",
       "      <td>1.137000</td>\n",
       "      <td>6.783000</td>\n",
       "      <td>0.000000</td>\n",
       "      <td>3447.000000</td>\n",
       "      <td>87.000000</td>\n",
       "      <td>...</td>\n",
       "      <td>1.000000</td>\n",
       "      <td>0.000000</td>\n",
       "      <td>0.00</td>\n",
       "      <td>0.00</td>\n",
       "      <td>0.00</td>\n",
       "      <td>0.00</td>\n",
       "      <td>0.00</td>\n",
       "      <td>0.00</td>\n",
       "      <td>0.00</td>\n",
       "      <td>0.000000</td>\n",
       "    </tr>\n",
       "    <tr>\n",
       "      <th>75%</th>\n",
       "      <td>12248.000000</td>\n",
       "      <td>0.04600</td>\n",
       "      <td>0.01700</td>\n",
       "      <td>0.007000</td>\n",
       "      <td>60.000000</td>\n",
       "      <td>1.172000</td>\n",
       "      <td>6.959000</td>\n",
       "      <td>2484.000000</td>\n",
       "      <td>4912.000000</td>\n",
       "      <td>93.000000</td>\n",
       "      <td>...</td>\n",
       "      <td>1.000000</td>\n",
       "      <td>0.000000</td>\n",
       "      <td>0.00</td>\n",
       "      <td>0.00</td>\n",
       "      <td>0.00</td>\n",
       "      <td>0.00</td>\n",
       "      <td>0.00</td>\n",
       "      <td>0.00</td>\n",
       "      <td>0.00</td>\n",
       "      <td>0.000000</td>\n",
       "    </tr>\n",
       "    <tr>\n",
       "      <th>max</th>\n",
       "      <td>13315.000000</td>\n",
       "      <td>0.34800</td>\n",
       "      <td>0.11600</td>\n",
       "      <td>0.112000</td>\n",
       "      <td>73.000000</td>\n",
       "      <td>1.232000</td>\n",
       "      <td>7.296000</td>\n",
       "      <td>3255.000000</td>\n",
       "      <td>5659.000000</td>\n",
       "      <td>96.000000</td>\n",
       "      <td>...</td>\n",
       "      <td>3.000000</td>\n",
       "      <td>1.000000</td>\n",
       "      <td>1.00</td>\n",
       "      <td>1.00</td>\n",
       "      <td>1.00</td>\n",
       "      <td>1.00</td>\n",
       "      <td>1.00</td>\n",
       "      <td>1.00</td>\n",
       "      <td>1.00</td>\n",
       "      <td>1.000000</td>\n",
       "    </tr>\n",
       "  </tbody>\n",
       "</table>\n",
       "<p>8 rows × 45 columns</p>\n",
       "</div>"
      ],
      "text/plain": [
       "            Revenue   GDP_USA  GDP_China     GPD_EU  Combined Alpha Score  \\\n",
       "count     25.000000  25.00000   25.00000  25.000000             25.000000   \n",
       "mean   10732.840000   0.02748    0.01344   0.003720             43.560000   \n",
       "std     1658.768486   0.09420    0.03345   0.033104             17.017344   \n",
       "min     6313.000000  -0.28000   -0.10200  -0.109000             20.000000   \n",
       "25%     9789.000000   0.02100    0.01100   0.001000             32.000000   \n",
       "50%    10594.000000   0.02700    0.01400   0.004000             39.000000   \n",
       "75%    12248.000000   0.04600    0.01700   0.007000             60.000000   \n",
       "max    13315.000000   0.34800    0.11600   0.112000             73.000000   \n",
       "\n",
       "       Euro_dollar  Yen_dollar  Retail Sales  Online Sales  \\\n",
       "count    25.000000   25.000000     25.000000     25.000000   \n",
       "mean      1.130760    6.772800    785.160000   2989.720000   \n",
       "std       0.058216    0.296654   1293.138162   2237.295047   \n",
       "min       0.980000    6.260000      0.000000      0.000000   \n",
       "25%       1.091000    6.513000      0.000000      0.000000   \n",
       "50%       1.137000    6.783000      0.000000   3447.000000   \n",
       "75%       1.172000    6.959000   2484.000000   4912.000000   \n",
       "max       1.232000    7.296000   3255.000000   5659.000000   \n",
       "\n",
       "       Earnings Quality Score  ...  news_Other Pre-Announcement  \\\n",
       "count               25.000000  ...                    25.000000   \n",
       "mean                82.240000  ...                     0.720000   \n",
       "std                 13.036104  ...                     0.791623   \n",
       "min                 50.000000  ...                     0.000000   \n",
       "25%                 72.000000  ...                     0.000000   \n",
       "50%                 87.000000  ...                     1.000000   \n",
       "75%                 93.000000  ...                     1.000000   \n",
       "max                 96.000000  ...                     3.000000   \n",
       "\n",
       "       news_Products  news_Products, Expansion  news_Products, Litigation  \\\n",
       "count      25.000000                     25.00                      25.00   \n",
       "mean        0.120000                      0.04                       0.04   \n",
       "std         0.331662                      0.20                       0.20   \n",
       "min         0.000000                      0.00                       0.00   \n",
       "25%         0.000000                      0.00                       0.00   \n",
       "50%         0.000000                      0.00                       0.00   \n",
       "75%         0.000000                      0.00                       0.00   \n",
       "max         1.000000                      1.00                       1.00   \n",
       "\n",
       "       news_Products, Officer Changes, Earnings Announcements  \\\n",
       "count                                              25.00        \n",
       "mean                                                0.04        \n",
       "std                                                 0.20        \n",
       "min                                                 0.00        \n",
       "25%                                                 0.00        \n",
       "50%                                                 0.00        \n",
       "75%                                                 0.00        \n",
       "max                                                 1.00        \n",
       "\n",
       "       news_Products, Restructuring / Reorganization, Expansion  \\\n",
       "count                                              25.00          \n",
       "mean                                                0.04          \n",
       "std                                                 0.20          \n",
       "min                                                 0.00          \n",
       "25%                                                 0.00          \n",
       "50%                                                 0.00          \n",
       "75%                                                 0.00          \n",
       "max                                                 1.00          \n",
       "\n",
       "       news_Regulatory  news_Regulatory, Earnings Announcements  \\\n",
       "count            25.00                                    25.00   \n",
       "mean              0.04                                     0.04   \n",
       "std               0.20                                     0.20   \n",
       "min               0.00                                     0.00   \n",
       "25%               0.00                                     0.00   \n",
       "50%               0.00                                     0.00   \n",
       "75%               0.00                                     0.00   \n",
       "max               1.00                                     1.00   \n",
       "\n",
       "       news_Regulatory, Management Compensation, Labor Issues  \\\n",
       "count                                              25.00        \n",
       "mean                                                0.04        \n",
       "std                                                 0.20        \n",
       "min                                                 0.00        \n",
       "25%                                                 0.00        \n",
       "50%                                                 0.00        \n",
       "75%                                                 0.00        \n",
       "max                                                 1.00        \n",
       "\n",
       "       news_ Strategic Combinations  \n",
       "count                     25.000000  \n",
       "mean                       0.200000  \n",
       "std                        0.408248  \n",
       "min                        0.000000  \n",
       "25%                        0.000000  \n",
       "50%                        0.000000  \n",
       "75%                        0.000000  \n",
       "max                        1.000000  \n",
       "\n",
       "[8 rows x 45 columns]"
      ]
     },
     "execution_count": 10,
     "metadata": {},
     "output_type": "execute_result"
    }
   ],
   "source": [
    "df.describe()"
   ]
  },
  {
   "cell_type": "markdown",
   "id": "de51a0da",
   "metadata": {
    "papermill": {
     "duration": 0.027359,
     "end_time": "2023-12-22T21:17:54.107496",
     "exception": false,
     "start_time": "2023-12-22T21:17:54.080137",
     "status": "completed"
    },
    "tags": []
   },
   "source": [
    "**Overview of the dataset**\n",
    "\n",
    "- the data set has 25 rows and 45 columns\n",
    "- all independent variables are float type\n",
    "- no nulls in the dataset\n",
    "- no duplications in the dataset"
   ]
  },
  {
   "cell_type": "markdown",
   "id": "d006043f",
   "metadata": {
    "papermill": {
     "duration": 0.028259,
     "end_time": "2023-12-22T21:17:54.166651",
     "exception": false,
     "start_time": "2023-12-22T21:17:54.138392",
     "status": "completed"
    },
    "tags": []
   },
   "source": [
    "# **EDA**"
   ]
  },
  {
   "cell_type": "markdown",
   "id": "f8e1402c",
   "metadata": {
    "papermill": {
     "duration": 0.027241,
     "end_time": "2023-12-22T21:17:54.221909",
     "exception": false,
     "start_time": "2023-12-22T21:17:54.194668",
     "status": "completed"
    },
    "tags": []
   },
   "source": [
    "## **Revenues**"
   ]
  },
  {
   "cell_type": "code",
   "execution_count": 11,
   "id": "6bd2d462",
   "metadata": {
    "execution": {
     "iopub.execute_input": "2023-12-22T21:17:54.280620Z",
     "iopub.status.busy": "2023-12-22T21:17:54.280133Z",
     "iopub.status.idle": "2023-12-22T21:17:56.492760Z",
     "shell.execute_reply": "2023-12-22T21:17:56.491219Z"
    },
    "papermill": {
     "duration": 2.246253,
     "end_time": "2023-12-22T21:17:56.495986",
     "exception": false,
     "start_time": "2023-12-22T21:17:54.249733",
     "status": "completed"
    },
    "tags": []
   },
   "outputs": [
    {
     "data": {
      "text/html": [
       "<iframe\n",
       "    scrolling=\"no\"\n",
       "    width=\"100%\"\n",
       "    height=\"545px\"\n",
       "    src=\"iframe_figures/figure_11.html\"\n",
       "    frameborder=\"0\"\n",
       "    allowfullscreen\n",
       "></iframe>\n"
      ]
     },
     "metadata": {},
     "output_type": "display_data"
    }
   ],
   "source": [
    "df['QY'] = 'Quarter'\n",
    "df['QY'] = df.index.to_period('Q').astype(str)\n",
    "\n",
    "\n",
    "# Create an interactive line plot with Plotly Express\n",
    "fig = px.line(df, x='QY', y='Revenue', title='Revenue Over Quarters', labels={'Revenue': 'Revenue'}, markers=True)\n",
    "\n",
    "# Update x-axis ticks to display quarters\n",
    "fig.update_layout(xaxis=dict(\n",
    "    tickmode='array',\n",
    "    tickvals=df['QY'],\n",
    "    ticktext=df['QY']\n",
    "))\n",
    "\n",
    "# Show the interactive plot\n",
    "fig.show(renderer='iframe')"
   ]
  },
  {
   "cell_type": "markdown",
   "id": "1509edc5",
   "metadata": {
    "papermill": {
     "duration": 0.028159,
     "end_time": "2023-12-22T21:17:56.553092",
     "exception": false,
     "start_time": "2023-12-22T21:17:56.524933",
     "status": "completed"
    },
    "tags": []
   },
   "source": [
    "## **GDP USA**"
   ]
  },
  {
   "cell_type": "code",
   "execution_count": 12,
   "id": "b5c011ed",
   "metadata": {
    "execution": {
     "iopub.execute_input": "2023-12-22T21:17:56.610460Z",
     "iopub.status.busy": "2023-12-22T21:17:56.610002Z",
     "iopub.status.idle": "2023-12-22T21:17:56.718041Z",
     "shell.execute_reply": "2023-12-22T21:17:56.716731Z"
    },
    "papermill": {
     "duration": 0.139839,
     "end_time": "2023-12-22T21:17:56.720577",
     "exception": false,
     "start_time": "2023-12-22T21:17:56.580738",
     "status": "completed"
    },
    "tags": []
   },
   "outputs": [
    {
     "data": {
      "text/html": [
       "        <script type=\"text/javascript\">\n",
       "        window.PlotlyConfig = {MathJaxConfig: 'local'};\n",
       "        if (window.MathJax && window.MathJax.Hub && window.MathJax.Hub.Config) {window.MathJax.Hub.Config({SVG: {font: \"STIX-Web\"}});}\n",
       "        if (typeof require !== 'undefined') {\n",
       "        require.undef(\"plotly\");\n",
       "        requirejs.config({\n",
       "            paths: {\n",
       "                'plotly': ['https://cdn.plot.ly/plotly-2.25.2.min']\n",
       "            }\n",
       "        });\n",
       "        require(['plotly'], function(Plotly) {\n",
       "            window._Plotly = Plotly;\n",
       "        });\n",
       "        }\n",
       "        </script>\n",
       "        "
      ]
     },
     "metadata": {},
     "output_type": "display_data"
    },
    {
     "data": {
      "text/html": [
       "<div>                            <div id=\"52770ac4-34e1-443a-8ee1-af5ac16c4444\" class=\"plotly-graph-div\" style=\"height:525px; width:100%;\"></div>            <script type=\"text/javascript\">                require([\"plotly\"], function(Plotly) {                    window.PLOTLYENV=window.PLOTLYENV || {};                                    if (document.getElementById(\"52770ac4-34e1-443a-8ee1-af5ac16c4444\")) {                    Plotly.newPlot(                        \"52770ac4-34e1-443a-8ee1-af5ac16c4444\",                        [{\"hovertemplate\":\"Independent=GDP_USA\\u003cbr\\u003eQY=%{x}\\u003cbr\\u003eGDP_USA=%{y}\\u003cextra\\u003e\\u003c\\u002fextra\\u003e\",\"legendgroup\":\"GDP_USA\",\"line\":{\"color\":\"#636efa\",\"dash\":\"solid\"},\"marker\":{\"symbol\":\"circle\"},\"mode\":\"markers+lines\",\"name\":\"GDP_USA\",\"orientation\":\"v\",\"showlegend\":true,\"x\":[\"2017Q3\",\"2017Q4\",\"2018Q1\",\"2018Q2\",\"2018Q3\",\"2018Q4\",\"2019Q1\",\"2019Q2\",\"2019Q3\",\"2019Q4\",\"2020Q1\",\"2020Q2\",\"2020Q3\",\"2020Q4\",\"2021Q1\",\"2021Q2\",\"2021Q3\",\"2021Q4\",\"2022Q1\",\"2022Q2\",\"2022Q3\",\"2022Q4\",\"2023Q1\",\"2023Q2\",\"2023Q3\"],\"xaxis\":\"x\",\"y\":[0.032,0.046,0.033,0.021,0.025,0.006,0.022,0.034,0.046,0.026,-0.053,-0.28,0.348,0.042,0.052,0.062,0.033,0.07,-0.02,-0.006,0.027,0.026,0.022,0.021,0.052],\"yaxis\":\"y\",\"type\":\"scatter\"},{\"name\":\"Revenue (millions)\",\"x\":[\"2017Q3\",\"2017Q4\",\"2018Q1\",\"2018Q2\",\"2018Q3\",\"2018Q4\",\"2019Q1\",\"2019Q2\",\"2019Q3\",\"2019Q4\",\"2020Q1\",\"2020Q2\",\"2020Q3\",\"2020Q4\",\"2021Q1\",\"2021Q2\",\"2021Q3\",\"2021Q4\",\"2022Q1\",\"2022Q2\",\"2022Q3\",\"2022Q4\",\"2023Q1\",\"2023Q2\",\"2023Q3\"],\"y\":[9070,8554,8984,9789,9948,9374,9611,10184,10660,10326,10104,6313,10594,11243,10357,12344,12248,11357,10871,12234,12687,13315,12390,12825,12939],\"yaxis\":\"y2\",\"type\":\"scatter\"}],                        {\"template\":{\"data\":{\"histogram2dcontour\":[{\"type\":\"histogram2dcontour\",\"colorbar\":{\"outlinewidth\":0,\"ticks\":\"\"},\"colorscale\":[[0.0,\"#0d0887\"],[0.1111111111111111,\"#46039f\"],[0.2222222222222222,\"#7201a8\"],[0.3333333333333333,\"#9c179e\"],[0.4444444444444444,\"#bd3786\"],[0.5555555555555556,\"#d8576b\"],[0.6666666666666666,\"#ed7953\"],[0.7777777777777778,\"#fb9f3a\"],[0.8888888888888888,\"#fdca26\"],[1.0,\"#f0f921\"]]}],\"choropleth\":[{\"type\":\"choropleth\",\"colorbar\":{\"outlinewidth\":0,\"ticks\":\"\"}}],\"histogram2d\":[{\"type\":\"histogram2d\",\"colorbar\":{\"outlinewidth\":0,\"ticks\":\"\"},\"colorscale\":[[0.0,\"#0d0887\"],[0.1111111111111111,\"#46039f\"],[0.2222222222222222,\"#7201a8\"],[0.3333333333333333,\"#9c179e\"],[0.4444444444444444,\"#bd3786\"],[0.5555555555555556,\"#d8576b\"],[0.6666666666666666,\"#ed7953\"],[0.7777777777777778,\"#fb9f3a\"],[0.8888888888888888,\"#fdca26\"],[1.0,\"#f0f921\"]]}],\"heatmap\":[{\"type\":\"heatmap\",\"colorbar\":{\"outlinewidth\":0,\"ticks\":\"\"},\"colorscale\":[[0.0,\"#0d0887\"],[0.1111111111111111,\"#46039f\"],[0.2222222222222222,\"#7201a8\"],[0.3333333333333333,\"#9c179e\"],[0.4444444444444444,\"#bd3786\"],[0.5555555555555556,\"#d8576b\"],[0.6666666666666666,\"#ed7953\"],[0.7777777777777778,\"#fb9f3a\"],[0.8888888888888888,\"#fdca26\"],[1.0,\"#f0f921\"]]}],\"heatmapgl\":[{\"type\":\"heatmapgl\",\"colorbar\":{\"outlinewidth\":0,\"ticks\":\"\"},\"colorscale\":[[0.0,\"#0d0887\"],[0.1111111111111111,\"#46039f\"],[0.2222222222222222,\"#7201a8\"],[0.3333333333333333,\"#9c179e\"],[0.4444444444444444,\"#bd3786\"],[0.5555555555555556,\"#d8576b\"],[0.6666666666666666,\"#ed7953\"],[0.7777777777777778,\"#fb9f3a\"],[0.8888888888888888,\"#fdca26\"],[1.0,\"#f0f921\"]]}],\"contourcarpet\":[{\"type\":\"contourcarpet\",\"colorbar\":{\"outlinewidth\":0,\"ticks\":\"\"}}],\"contour\":[{\"type\":\"contour\",\"colorbar\":{\"outlinewidth\":0,\"ticks\":\"\"},\"colorscale\":[[0.0,\"#0d0887\"],[0.1111111111111111,\"#46039f\"],[0.2222222222222222,\"#7201a8\"],[0.3333333333333333,\"#9c179e\"],[0.4444444444444444,\"#bd3786\"],[0.5555555555555556,\"#d8576b\"],[0.6666666666666666,\"#ed7953\"],[0.7777777777777778,\"#fb9f3a\"],[0.8888888888888888,\"#fdca26\"],[1.0,\"#f0f921\"]]}],\"surface\":[{\"type\":\"surface\",\"colorbar\":{\"outlinewidth\":0,\"ticks\":\"\"},\"colorscale\":[[0.0,\"#0d0887\"],[0.1111111111111111,\"#46039f\"],[0.2222222222222222,\"#7201a8\"],[0.3333333333333333,\"#9c179e\"],[0.4444444444444444,\"#bd3786\"],[0.5555555555555556,\"#d8576b\"],[0.6666666666666666,\"#ed7953\"],[0.7777777777777778,\"#fb9f3a\"],[0.8888888888888888,\"#fdca26\"],[1.0,\"#f0f921\"]]}],\"mesh3d\":[{\"type\":\"mesh3d\",\"colorbar\":{\"outlinewidth\":0,\"ticks\":\"\"}}],\"scatter\":[{\"fillpattern\":{\"fillmode\":\"overlay\",\"size\":10,\"solidity\":0.2},\"type\":\"scatter\"}],\"parcoords\":[{\"type\":\"parcoords\",\"line\":{\"colorbar\":{\"outlinewidth\":0,\"ticks\":\"\"}}}],\"scatterpolargl\":[{\"type\":\"scatterpolargl\",\"marker\":{\"colorbar\":{\"outlinewidth\":0,\"ticks\":\"\"}}}],\"bar\":[{\"error_x\":{\"color\":\"#2a3f5f\"},\"error_y\":{\"color\":\"#2a3f5f\"},\"marker\":{\"line\":{\"color\":\"#E5ECF6\",\"width\":0.5},\"pattern\":{\"fillmode\":\"overlay\",\"size\":10,\"solidity\":0.2}},\"type\":\"bar\"}],\"scattergeo\":[{\"type\":\"scattergeo\",\"marker\":{\"colorbar\":{\"outlinewidth\":0,\"ticks\":\"\"}}}],\"scatterpolar\":[{\"type\":\"scatterpolar\",\"marker\":{\"colorbar\":{\"outlinewidth\":0,\"ticks\":\"\"}}}],\"histogram\":[{\"marker\":{\"pattern\":{\"fillmode\":\"overlay\",\"size\":10,\"solidity\":0.2}},\"type\":\"histogram\"}],\"scattergl\":[{\"type\":\"scattergl\",\"marker\":{\"colorbar\":{\"outlinewidth\":0,\"ticks\":\"\"}}}],\"scatter3d\":[{\"type\":\"scatter3d\",\"line\":{\"colorbar\":{\"outlinewidth\":0,\"ticks\":\"\"}},\"marker\":{\"colorbar\":{\"outlinewidth\":0,\"ticks\":\"\"}}}],\"scattermapbox\":[{\"type\":\"scattermapbox\",\"marker\":{\"colorbar\":{\"outlinewidth\":0,\"ticks\":\"\"}}}],\"scatterternary\":[{\"type\":\"scatterternary\",\"marker\":{\"colorbar\":{\"outlinewidth\":0,\"ticks\":\"\"}}}],\"scattercarpet\":[{\"type\":\"scattercarpet\",\"marker\":{\"colorbar\":{\"outlinewidth\":0,\"ticks\":\"\"}}}],\"carpet\":[{\"aaxis\":{\"endlinecolor\":\"#2a3f5f\",\"gridcolor\":\"white\",\"linecolor\":\"white\",\"minorgridcolor\":\"white\",\"startlinecolor\":\"#2a3f5f\"},\"baxis\":{\"endlinecolor\":\"#2a3f5f\",\"gridcolor\":\"white\",\"linecolor\":\"white\",\"minorgridcolor\":\"white\",\"startlinecolor\":\"#2a3f5f\"},\"type\":\"carpet\"}],\"table\":[{\"cells\":{\"fill\":{\"color\":\"#EBF0F8\"},\"line\":{\"color\":\"white\"}},\"header\":{\"fill\":{\"color\":\"#C8D4E3\"},\"line\":{\"color\":\"white\"}},\"type\":\"table\"}],\"barpolar\":[{\"marker\":{\"line\":{\"color\":\"#E5ECF6\",\"width\":0.5},\"pattern\":{\"fillmode\":\"overlay\",\"size\":10,\"solidity\":0.2}},\"type\":\"barpolar\"}],\"pie\":[{\"automargin\":true,\"type\":\"pie\"}]},\"layout\":{\"autotypenumbers\":\"strict\",\"colorway\":[\"#636efa\",\"#EF553B\",\"#00cc96\",\"#ab63fa\",\"#FFA15A\",\"#19d3f3\",\"#FF6692\",\"#B6E880\",\"#FF97FF\",\"#FECB52\"],\"font\":{\"color\":\"#2a3f5f\"},\"hovermode\":\"closest\",\"hoverlabel\":{\"align\":\"left\"},\"paper_bgcolor\":\"white\",\"plot_bgcolor\":\"#E5ECF6\",\"polar\":{\"bgcolor\":\"#E5ECF6\",\"angularaxis\":{\"gridcolor\":\"white\",\"linecolor\":\"white\",\"ticks\":\"\"},\"radialaxis\":{\"gridcolor\":\"white\",\"linecolor\":\"white\",\"ticks\":\"\"}},\"ternary\":{\"bgcolor\":\"#E5ECF6\",\"aaxis\":{\"gridcolor\":\"white\",\"linecolor\":\"white\",\"ticks\":\"\"},\"baxis\":{\"gridcolor\":\"white\",\"linecolor\":\"white\",\"ticks\":\"\"},\"caxis\":{\"gridcolor\":\"white\",\"linecolor\":\"white\",\"ticks\":\"\"}},\"coloraxis\":{\"colorbar\":{\"outlinewidth\":0,\"ticks\":\"\"}},\"colorscale\":{\"sequential\":[[0.0,\"#0d0887\"],[0.1111111111111111,\"#46039f\"],[0.2222222222222222,\"#7201a8\"],[0.3333333333333333,\"#9c179e\"],[0.4444444444444444,\"#bd3786\"],[0.5555555555555556,\"#d8576b\"],[0.6666666666666666,\"#ed7953\"],[0.7777777777777778,\"#fb9f3a\"],[0.8888888888888888,\"#fdca26\"],[1.0,\"#f0f921\"]],\"sequentialminus\":[[0.0,\"#0d0887\"],[0.1111111111111111,\"#46039f\"],[0.2222222222222222,\"#7201a8\"],[0.3333333333333333,\"#9c179e\"],[0.4444444444444444,\"#bd3786\"],[0.5555555555555556,\"#d8576b\"],[0.6666666666666666,\"#ed7953\"],[0.7777777777777778,\"#fb9f3a\"],[0.8888888888888888,\"#fdca26\"],[1.0,\"#f0f921\"]],\"diverging\":[[0,\"#8e0152\"],[0.1,\"#c51b7d\"],[0.2,\"#de77ae\"],[0.3,\"#f1b6da\"],[0.4,\"#fde0ef\"],[0.5,\"#f7f7f7\"],[0.6,\"#e6f5d0\"],[0.7,\"#b8e186\"],[0.8,\"#7fbc41\"],[0.9,\"#4d9221\"],[1,\"#276419\"]]},\"xaxis\":{\"gridcolor\":\"white\",\"linecolor\":\"white\",\"ticks\":\"\",\"title\":{\"standoff\":15},\"zerolinecolor\":\"white\",\"automargin\":true,\"zerolinewidth\":2},\"yaxis\":{\"gridcolor\":\"white\",\"linecolor\":\"white\",\"ticks\":\"\",\"title\":{\"standoff\":15},\"zerolinecolor\":\"white\",\"automargin\":true,\"zerolinewidth\":2},\"scene\":{\"xaxis\":{\"backgroundcolor\":\"#E5ECF6\",\"gridcolor\":\"white\",\"linecolor\":\"white\",\"showbackground\":true,\"ticks\":\"\",\"zerolinecolor\":\"white\",\"gridwidth\":2},\"yaxis\":{\"backgroundcolor\":\"#E5ECF6\",\"gridcolor\":\"white\",\"linecolor\":\"white\",\"showbackground\":true,\"ticks\":\"\",\"zerolinecolor\":\"white\",\"gridwidth\":2},\"zaxis\":{\"backgroundcolor\":\"#E5ECF6\",\"gridcolor\":\"white\",\"linecolor\":\"white\",\"showbackground\":true,\"ticks\":\"\",\"zerolinecolor\":\"white\",\"gridwidth\":2}},\"shapedefaults\":{\"line\":{\"color\":\"#2a3f5f\"}},\"annotationdefaults\":{\"arrowcolor\":\"#2a3f5f\",\"arrowhead\":0,\"arrowwidth\":1},\"geo\":{\"bgcolor\":\"white\",\"landcolor\":\"#E5ECF6\",\"subunitcolor\":\"white\",\"showland\":true,\"showlakes\":true,\"lakecolor\":\"white\"},\"title\":{\"x\":0.05},\"mapbox\":{\"style\":\"light\"}}},\"xaxis\":{\"anchor\":\"y\",\"domain\":[0.0,1.0],\"title\":{\"text\":\"QY\"}},\"yaxis\":{\"anchor\":\"x\",\"domain\":[0.0,1.0],\"title\":{\"text\":\"GDP (%)\"}},\"legend\":{\"title\":{\"text\":\"Independent\"},\"tracegroupgap\":0},\"title\":{\"text\":\"GDP_USA and Revenue Over Quarters\"},\"yaxis2\":{\"title\":{\"text\":\"Revenue (millions)\"},\"overlaying\":\"y\",\"side\":\"right\",\"showgrid\":false}},                        {\"responsive\": true}                    ).then(function(){\n",
       "                            \n",
       "var gd = document.getElementById('52770ac4-34e1-443a-8ee1-af5ac16c4444');\n",
       "var x = new MutationObserver(function (mutations, observer) {{\n",
       "        var display = window.getComputedStyle(gd).display;\n",
       "        if (!display || display === 'none') {{\n",
       "            console.log([gd, 'removed!']);\n",
       "            Plotly.purge(gd);\n",
       "            observer.disconnect();\n",
       "        }}\n",
       "}});\n",
       "\n",
       "// Listen for the removal of the full notebook cells\n",
       "var notebookContainer = gd.closest('#notebook-container');\n",
       "if (notebookContainer) {{\n",
       "    x.observe(notebookContainer, {childList: true});\n",
       "}}\n",
       "\n",
       "// Listen for the clearing of the current output cell\n",
       "var outputEl = gd.closest('.output');\n",
       "if (outputEl) {{\n",
       "    x.observe(outputEl, {childList: true});\n",
       "}}\n",
       "\n",
       "                        })                };                });            </script>        </div>"
      ]
     },
     "metadata": {},
     "output_type": "display_data"
    }
   ],
   "source": [
    "# Create the initial line plot \n",
    "fig = px.line(df, x='QY', y=['GDP_USA'], title='GDP_USA and Revenue Over Quarters',\n",
    "              labels={'value': 'GDP_USA', 'variable': 'Independent'}, markers=True)\n",
    "\n",
    "# Add Revenue data as a secondary y-axis\n",
    "fig.add_trace(\n",
    "    go.Scatter(x=df['QY'], y=df['Revenue'], name='Revenue (millions)', yaxis='y2')\n",
    ")\n",
    "\n",
    "# Create a layout with two y-axes\n",
    "fig.update_layout(\n",
    "    yaxis=dict(\n",
    "        title='GDP (%)',\n",
    "    ),\n",
    "    yaxis2=dict(\n",
    "        title='Revenue (millions)',\n",
    "        overlaying='y',\n",
    "        side='right',\n",
    "        showgrid=False,  # To not duplicate grid lines\n",
    "    )\n",
    ")\n",
    "\n",
    "# Show the plot\n",
    "fig.show()\n"
   ]
  },
  {
   "cell_type": "markdown",
   "id": "c694890e",
   "metadata": {
    "papermill": {
     "duration": 0.028504,
     "end_time": "2023-12-22T21:17:56.777557",
     "exception": false,
     "start_time": "2023-12-22T21:17:56.749053",
     "status": "completed"
    },
    "tags": []
   },
   "source": [
    "## **GDP EU**"
   ]
  },
  {
   "cell_type": "code",
   "execution_count": 13,
   "id": "9b233816",
   "metadata": {
    "execution": {
     "iopub.execute_input": "2023-12-22T21:17:56.835808Z",
     "iopub.status.busy": "2023-12-22T21:17:56.835382Z",
     "iopub.status.idle": "2023-12-22T21:17:56.926157Z",
     "shell.execute_reply": "2023-12-22T21:17:56.924983Z"
    },
    "papermill": {
     "duration": 0.12321,
     "end_time": "2023-12-22T21:17:56.928854",
     "exception": false,
     "start_time": "2023-12-22T21:17:56.805644",
     "status": "completed"
    },
    "tags": []
   },
   "outputs": [
    {
     "data": {
      "text/html": [
       "<div>                            <div id=\"e5ec2b5d-8f4c-42fd-a2e6-c0d4f5e07e27\" class=\"plotly-graph-div\" style=\"height:525px; width:100%;\"></div>            <script type=\"text/javascript\">                require([\"plotly\"], function(Plotly) {                    window.PLOTLYENV=window.PLOTLYENV || {};                                    if (document.getElementById(\"e5ec2b5d-8f4c-42fd-a2e6-c0d4f5e07e27\")) {                    Plotly.newPlot(                        \"e5ec2b5d-8f4c-42fd-a2e6-c0d4f5e07e27\",                        [{\"hovertemplate\":\"Independent=GPD_EU\\u003cbr\\u003eQY=%{x}\\u003cbr\\u003eGPD_EU=%{y}\\u003cextra\\u003e\\u003c\\u002fextra\\u003e\",\"legendgroup\":\"GPD_EU\",\"line\":{\"color\":\"#636efa\",\"dash\":\"solid\"},\"marker\":{\"symbol\":\"circle\"},\"mode\":\"markers+lines\",\"name\":\"GPD_EU\",\"orientation\":\"v\",\"showlegend\":true,\"x\":[\"2017Q3\",\"2017Q4\",\"2018Q1\",\"2018Q2\",\"2018Q3\",\"2018Q4\",\"2019Q1\",\"2019Q2\",\"2019Q3\",\"2019Q4\",\"2020Q1\",\"2020Q2\",\"2020Q3\",\"2020Q4\",\"2021Q1\",\"2021Q2\",\"2021Q3\",\"2021Q4\",\"2022Q1\",\"2022Q2\",\"2022Q3\",\"2022Q4\",\"2023Q1\",\"2023Q2\",\"2023Q3\"],\"xaxis\":\"x\",\"y\":[0.008,0.008,0.002,0.006,0.001,0.007,0.006,0.004,0.002,0.001,-0.03,-0.109,0.112,0.002,0.006,0.021,0.02,0.007,0.007,0.007,0.004,-0.001,0.001,0.0,0.001],\"yaxis\":\"y\",\"type\":\"scatter\"},{\"name\":\"Revenue (millions)\",\"x\":[\"2017Q3\",\"2017Q4\",\"2018Q1\",\"2018Q2\",\"2018Q3\",\"2018Q4\",\"2019Q1\",\"2019Q2\",\"2019Q3\",\"2019Q4\",\"2020Q1\",\"2020Q2\",\"2020Q3\",\"2020Q4\",\"2021Q1\",\"2021Q2\",\"2021Q3\",\"2021Q4\",\"2022Q1\",\"2022Q2\",\"2022Q3\",\"2022Q4\",\"2023Q1\",\"2023Q2\",\"2023Q3\"],\"y\":[9070,8554,8984,9789,9948,9374,9611,10184,10660,10326,10104,6313,10594,11243,10357,12344,12248,11357,10871,12234,12687,13315,12390,12825,12939],\"yaxis\":\"y2\",\"type\":\"scatter\"}],                        {\"template\":{\"data\":{\"histogram2dcontour\":[{\"type\":\"histogram2dcontour\",\"colorbar\":{\"outlinewidth\":0,\"ticks\":\"\"},\"colorscale\":[[0.0,\"#0d0887\"],[0.1111111111111111,\"#46039f\"],[0.2222222222222222,\"#7201a8\"],[0.3333333333333333,\"#9c179e\"],[0.4444444444444444,\"#bd3786\"],[0.5555555555555556,\"#d8576b\"],[0.6666666666666666,\"#ed7953\"],[0.7777777777777778,\"#fb9f3a\"],[0.8888888888888888,\"#fdca26\"],[1.0,\"#f0f921\"]]}],\"choropleth\":[{\"type\":\"choropleth\",\"colorbar\":{\"outlinewidth\":0,\"ticks\":\"\"}}],\"histogram2d\":[{\"type\":\"histogram2d\",\"colorbar\":{\"outlinewidth\":0,\"ticks\":\"\"},\"colorscale\":[[0.0,\"#0d0887\"],[0.1111111111111111,\"#46039f\"],[0.2222222222222222,\"#7201a8\"],[0.3333333333333333,\"#9c179e\"],[0.4444444444444444,\"#bd3786\"],[0.5555555555555556,\"#d8576b\"],[0.6666666666666666,\"#ed7953\"],[0.7777777777777778,\"#fb9f3a\"],[0.8888888888888888,\"#fdca26\"],[1.0,\"#f0f921\"]]}],\"heatmap\":[{\"type\":\"heatmap\",\"colorbar\":{\"outlinewidth\":0,\"ticks\":\"\"},\"colorscale\":[[0.0,\"#0d0887\"],[0.1111111111111111,\"#46039f\"],[0.2222222222222222,\"#7201a8\"],[0.3333333333333333,\"#9c179e\"],[0.4444444444444444,\"#bd3786\"],[0.5555555555555556,\"#d8576b\"],[0.6666666666666666,\"#ed7953\"],[0.7777777777777778,\"#fb9f3a\"],[0.8888888888888888,\"#fdca26\"],[1.0,\"#f0f921\"]]}],\"heatmapgl\":[{\"type\":\"heatmapgl\",\"colorbar\":{\"outlinewidth\":0,\"ticks\":\"\"},\"colorscale\":[[0.0,\"#0d0887\"],[0.1111111111111111,\"#46039f\"],[0.2222222222222222,\"#7201a8\"],[0.3333333333333333,\"#9c179e\"],[0.4444444444444444,\"#bd3786\"],[0.5555555555555556,\"#d8576b\"],[0.6666666666666666,\"#ed7953\"],[0.7777777777777778,\"#fb9f3a\"],[0.8888888888888888,\"#fdca26\"],[1.0,\"#f0f921\"]]}],\"contourcarpet\":[{\"type\":\"contourcarpet\",\"colorbar\":{\"outlinewidth\":0,\"ticks\":\"\"}}],\"contour\":[{\"type\":\"contour\",\"colorbar\":{\"outlinewidth\":0,\"ticks\":\"\"},\"colorscale\":[[0.0,\"#0d0887\"],[0.1111111111111111,\"#46039f\"],[0.2222222222222222,\"#7201a8\"],[0.3333333333333333,\"#9c179e\"],[0.4444444444444444,\"#bd3786\"],[0.5555555555555556,\"#d8576b\"],[0.6666666666666666,\"#ed7953\"],[0.7777777777777778,\"#fb9f3a\"],[0.8888888888888888,\"#fdca26\"],[1.0,\"#f0f921\"]]}],\"surface\":[{\"type\":\"surface\",\"colorbar\":{\"outlinewidth\":0,\"ticks\":\"\"},\"colorscale\":[[0.0,\"#0d0887\"],[0.1111111111111111,\"#46039f\"],[0.2222222222222222,\"#7201a8\"],[0.3333333333333333,\"#9c179e\"],[0.4444444444444444,\"#bd3786\"],[0.5555555555555556,\"#d8576b\"],[0.6666666666666666,\"#ed7953\"],[0.7777777777777778,\"#fb9f3a\"],[0.8888888888888888,\"#fdca26\"],[1.0,\"#f0f921\"]]}],\"mesh3d\":[{\"type\":\"mesh3d\",\"colorbar\":{\"outlinewidth\":0,\"ticks\":\"\"}}],\"scatter\":[{\"fillpattern\":{\"fillmode\":\"overlay\",\"size\":10,\"solidity\":0.2},\"type\":\"scatter\"}],\"parcoords\":[{\"type\":\"parcoords\",\"line\":{\"colorbar\":{\"outlinewidth\":0,\"ticks\":\"\"}}}],\"scatterpolargl\":[{\"type\":\"scatterpolargl\",\"marker\":{\"colorbar\":{\"outlinewidth\":0,\"ticks\":\"\"}}}],\"bar\":[{\"error_x\":{\"color\":\"#2a3f5f\"},\"error_y\":{\"color\":\"#2a3f5f\"},\"marker\":{\"line\":{\"color\":\"#E5ECF6\",\"width\":0.5},\"pattern\":{\"fillmode\":\"overlay\",\"size\":10,\"solidity\":0.2}},\"type\":\"bar\"}],\"scattergeo\":[{\"type\":\"scattergeo\",\"marker\":{\"colorbar\":{\"outlinewidth\":0,\"ticks\":\"\"}}}],\"scatterpolar\":[{\"type\":\"scatterpolar\",\"marker\":{\"colorbar\":{\"outlinewidth\":0,\"ticks\":\"\"}}}],\"histogram\":[{\"marker\":{\"pattern\":{\"fillmode\":\"overlay\",\"size\":10,\"solidity\":0.2}},\"type\":\"histogram\"}],\"scattergl\":[{\"type\":\"scattergl\",\"marker\":{\"colorbar\":{\"outlinewidth\":0,\"ticks\":\"\"}}}],\"scatter3d\":[{\"type\":\"scatter3d\",\"line\":{\"colorbar\":{\"outlinewidth\":0,\"ticks\":\"\"}},\"marker\":{\"colorbar\":{\"outlinewidth\":0,\"ticks\":\"\"}}}],\"scattermapbox\":[{\"type\":\"scattermapbox\",\"marker\":{\"colorbar\":{\"outlinewidth\":0,\"ticks\":\"\"}}}],\"scatterternary\":[{\"type\":\"scatterternary\",\"marker\":{\"colorbar\":{\"outlinewidth\":0,\"ticks\":\"\"}}}],\"scattercarpet\":[{\"type\":\"scattercarpet\",\"marker\":{\"colorbar\":{\"outlinewidth\":0,\"ticks\":\"\"}}}],\"carpet\":[{\"aaxis\":{\"endlinecolor\":\"#2a3f5f\",\"gridcolor\":\"white\",\"linecolor\":\"white\",\"minorgridcolor\":\"white\",\"startlinecolor\":\"#2a3f5f\"},\"baxis\":{\"endlinecolor\":\"#2a3f5f\",\"gridcolor\":\"white\",\"linecolor\":\"white\",\"minorgridcolor\":\"white\",\"startlinecolor\":\"#2a3f5f\"},\"type\":\"carpet\"}],\"table\":[{\"cells\":{\"fill\":{\"color\":\"#EBF0F8\"},\"line\":{\"color\":\"white\"}},\"header\":{\"fill\":{\"color\":\"#C8D4E3\"},\"line\":{\"color\":\"white\"}},\"type\":\"table\"}],\"barpolar\":[{\"marker\":{\"line\":{\"color\":\"#E5ECF6\",\"width\":0.5},\"pattern\":{\"fillmode\":\"overlay\",\"size\":10,\"solidity\":0.2}},\"type\":\"barpolar\"}],\"pie\":[{\"automargin\":true,\"type\":\"pie\"}]},\"layout\":{\"autotypenumbers\":\"strict\",\"colorway\":[\"#636efa\",\"#EF553B\",\"#00cc96\",\"#ab63fa\",\"#FFA15A\",\"#19d3f3\",\"#FF6692\",\"#B6E880\",\"#FF97FF\",\"#FECB52\"],\"font\":{\"color\":\"#2a3f5f\"},\"hovermode\":\"closest\",\"hoverlabel\":{\"align\":\"left\"},\"paper_bgcolor\":\"white\",\"plot_bgcolor\":\"#E5ECF6\",\"polar\":{\"bgcolor\":\"#E5ECF6\",\"angularaxis\":{\"gridcolor\":\"white\",\"linecolor\":\"white\",\"ticks\":\"\"},\"radialaxis\":{\"gridcolor\":\"white\",\"linecolor\":\"white\",\"ticks\":\"\"}},\"ternary\":{\"bgcolor\":\"#E5ECF6\",\"aaxis\":{\"gridcolor\":\"white\",\"linecolor\":\"white\",\"ticks\":\"\"},\"baxis\":{\"gridcolor\":\"white\",\"linecolor\":\"white\",\"ticks\":\"\"},\"caxis\":{\"gridcolor\":\"white\",\"linecolor\":\"white\",\"ticks\":\"\"}},\"coloraxis\":{\"colorbar\":{\"outlinewidth\":0,\"ticks\":\"\"}},\"colorscale\":{\"sequential\":[[0.0,\"#0d0887\"],[0.1111111111111111,\"#46039f\"],[0.2222222222222222,\"#7201a8\"],[0.3333333333333333,\"#9c179e\"],[0.4444444444444444,\"#bd3786\"],[0.5555555555555556,\"#d8576b\"],[0.6666666666666666,\"#ed7953\"],[0.7777777777777778,\"#fb9f3a\"],[0.8888888888888888,\"#fdca26\"],[1.0,\"#f0f921\"]],\"sequentialminus\":[[0.0,\"#0d0887\"],[0.1111111111111111,\"#46039f\"],[0.2222222222222222,\"#7201a8\"],[0.3333333333333333,\"#9c179e\"],[0.4444444444444444,\"#bd3786\"],[0.5555555555555556,\"#d8576b\"],[0.6666666666666666,\"#ed7953\"],[0.7777777777777778,\"#fb9f3a\"],[0.8888888888888888,\"#fdca26\"],[1.0,\"#f0f921\"]],\"diverging\":[[0,\"#8e0152\"],[0.1,\"#c51b7d\"],[0.2,\"#de77ae\"],[0.3,\"#f1b6da\"],[0.4,\"#fde0ef\"],[0.5,\"#f7f7f7\"],[0.6,\"#e6f5d0\"],[0.7,\"#b8e186\"],[0.8,\"#7fbc41\"],[0.9,\"#4d9221\"],[1,\"#276419\"]]},\"xaxis\":{\"gridcolor\":\"white\",\"linecolor\":\"white\",\"ticks\":\"\",\"title\":{\"standoff\":15},\"zerolinecolor\":\"white\",\"automargin\":true,\"zerolinewidth\":2},\"yaxis\":{\"gridcolor\":\"white\",\"linecolor\":\"white\",\"ticks\":\"\",\"title\":{\"standoff\":15},\"zerolinecolor\":\"white\",\"automargin\":true,\"zerolinewidth\":2},\"scene\":{\"xaxis\":{\"backgroundcolor\":\"#E5ECF6\",\"gridcolor\":\"white\",\"linecolor\":\"white\",\"showbackground\":true,\"ticks\":\"\",\"zerolinecolor\":\"white\",\"gridwidth\":2},\"yaxis\":{\"backgroundcolor\":\"#E5ECF6\",\"gridcolor\":\"white\",\"linecolor\":\"white\",\"showbackground\":true,\"ticks\":\"\",\"zerolinecolor\":\"white\",\"gridwidth\":2},\"zaxis\":{\"backgroundcolor\":\"#E5ECF6\",\"gridcolor\":\"white\",\"linecolor\":\"white\",\"showbackground\":true,\"ticks\":\"\",\"zerolinecolor\":\"white\",\"gridwidth\":2}},\"shapedefaults\":{\"line\":{\"color\":\"#2a3f5f\"}},\"annotationdefaults\":{\"arrowcolor\":\"#2a3f5f\",\"arrowhead\":0,\"arrowwidth\":1},\"geo\":{\"bgcolor\":\"white\",\"landcolor\":\"#E5ECF6\",\"subunitcolor\":\"white\",\"showland\":true,\"showlakes\":true,\"lakecolor\":\"white\"},\"title\":{\"x\":0.05},\"mapbox\":{\"style\":\"light\"}}},\"xaxis\":{\"anchor\":\"y\",\"domain\":[0.0,1.0],\"title\":{\"text\":\"QY\"}},\"yaxis\":{\"anchor\":\"x\",\"domain\":[0.0,1.0],\"title\":{\"text\":\"GDP (%)\"}},\"legend\":{\"title\":{\"text\":\"Independent\"},\"tracegroupgap\":0},\"title\":{\"text\":\"GDP_EU and Revenue Over Quarters\"},\"yaxis2\":{\"title\":{\"text\":\"Revenue (millions)\"},\"overlaying\":\"y\",\"side\":\"right\",\"showgrid\":false}},                        {\"responsive\": true}                    ).then(function(){\n",
       "                            \n",
       "var gd = document.getElementById('e5ec2b5d-8f4c-42fd-a2e6-c0d4f5e07e27');\n",
       "var x = new MutationObserver(function (mutations, observer) {{\n",
       "        var display = window.getComputedStyle(gd).display;\n",
       "        if (!display || display === 'none') {{\n",
       "            console.log([gd, 'removed!']);\n",
       "            Plotly.purge(gd);\n",
       "            observer.disconnect();\n",
       "        }}\n",
       "}});\n",
       "\n",
       "// Listen for the removal of the full notebook cells\n",
       "var notebookContainer = gd.closest('#notebook-container');\n",
       "if (notebookContainer) {{\n",
       "    x.observe(notebookContainer, {childList: true});\n",
       "}}\n",
       "\n",
       "// Listen for the clearing of the current output cell\n",
       "var outputEl = gd.closest('.output');\n",
       "if (outputEl) {{\n",
       "    x.observe(outputEl, {childList: true});\n",
       "}}\n",
       "\n",
       "                        })                };                });            </script>        </div>"
      ]
     },
     "metadata": {},
     "output_type": "display_data"
    }
   ],
   "source": [
    "# Create the initial line plot \n",
    "fig = px.line(df, x='QY', y=['GPD_EU'], title='GDP_EU and Revenue Over Quarters',\n",
    "              labels={'value': 'GPD_EU', 'variable': 'Independent'}, markers=True)\n",
    "\n",
    "# Add Revenue data as a secondary y-axis\n",
    "fig.add_trace(\n",
    "    go.Scatter(x=df['QY'], y=df['Revenue'], name='Revenue (millions)', yaxis='y2')\n",
    ")\n",
    "\n",
    "# Create a layout with two y-axes\n",
    "fig.update_layout(\n",
    "    yaxis=dict(\n",
    "        title='GDP (%)',\n",
    "    ),\n",
    "    yaxis2=dict(\n",
    "        title='Revenue (millions)',\n",
    "        overlaying='y',\n",
    "        side='right',\n",
    "        showgrid=False,  # To not duplicate grid lines\n",
    "    )\n",
    ")\n",
    "\n",
    "# Show the plot\n",
    "fig.show()"
   ]
  },
  {
   "cell_type": "markdown",
   "id": "2ca9ab69",
   "metadata": {
    "papermill": {
     "duration": 0.028311,
     "end_time": "2023-12-22T21:17:56.986769",
     "exception": false,
     "start_time": "2023-12-22T21:17:56.958458",
     "status": "completed"
    },
    "tags": []
   },
   "source": [
    "## **GDP China**"
   ]
  },
  {
   "cell_type": "code",
   "execution_count": 14,
   "id": "0fef0cd2",
   "metadata": {
    "execution": {
     "iopub.execute_input": "2023-12-22T21:17:57.047728Z",
     "iopub.status.busy": "2023-12-22T21:17:57.047214Z",
     "iopub.status.idle": "2023-12-22T21:17:57.134529Z",
     "shell.execute_reply": "2023-12-22T21:17:57.133211Z"
    },
    "papermill": {
     "duration": 0.121456,
     "end_time": "2023-12-22T21:17:57.137380",
     "exception": false,
     "start_time": "2023-12-22T21:17:57.015924",
     "status": "completed"
    },
    "tags": []
   },
   "outputs": [
    {
     "data": {
      "text/html": [
       "<div>                            <div id=\"c8906242-af5f-4785-82d1-4532886d0fbd\" class=\"plotly-graph-div\" style=\"height:525px; width:100%;\"></div>            <script type=\"text/javascript\">                require([\"plotly\"], function(Plotly) {                    window.PLOTLYENV=window.PLOTLYENV || {};                                    if (document.getElementById(\"c8906242-af5f-4785-82d1-4532886d0fbd\")) {                    Plotly.newPlot(                        \"c8906242-af5f-4785-82d1-4532886d0fbd\",                        [{\"hovertemplate\":\"Independent=GDP_China\\u003cbr\\u003eQY=%{x}\\u003cbr\\u003eGDP_China=%{y}\\u003cextra\\u003e\\u003c\\u002fextra\\u003e\",\"legendgroup\":\"GDP_China\",\"line\":{\"color\":\"#636efa\",\"dash\":\"solid\"},\"marker\":{\"symbol\":\"circle\"},\"mode\":\"markers+lines\",\"name\":\"GDP_China\",\"orientation\":\"v\",\"showlegend\":true,\"x\":[\"2017Q3\",\"2017Q4\",\"2018Q1\",\"2018Q2\",\"2018Q3\",\"2018Q4\",\"2019Q1\",\"2019Q2\",\"2019Q3\",\"2019Q4\",\"2020Q1\",\"2020Q2\",\"2020Q3\",\"2020Q4\",\"2021Q1\",\"2021Q2\",\"2021Q3\",\"2021Q4\",\"2022Q1\",\"2022Q2\",\"2022Q3\",\"2022Q4\",\"2023Q1\",\"2023Q2\",\"2023Q3\"],\"xaxis\":\"x\",\"y\":[0.016,0.016,0.019,0.017,0.014,0.014,0.017,0.014,0.014,0.011,-0.102,0.116,0.032,0.024,0.009,0.016,0.003,0.015,0.013,-0.024,0.039,0.0,0.022,0.008,0.013],\"yaxis\":\"y\",\"type\":\"scatter\"},{\"name\":\"Revenue (millions)\",\"x\":[\"2017Q3\",\"2017Q4\",\"2018Q1\",\"2018Q2\",\"2018Q3\",\"2018Q4\",\"2019Q1\",\"2019Q2\",\"2019Q3\",\"2019Q4\",\"2020Q1\",\"2020Q2\",\"2020Q3\",\"2020Q4\",\"2021Q1\",\"2021Q2\",\"2021Q3\",\"2021Q4\",\"2022Q1\",\"2022Q2\",\"2022Q3\",\"2022Q4\",\"2023Q1\",\"2023Q2\",\"2023Q3\"],\"y\":[9070,8554,8984,9789,9948,9374,9611,10184,10660,10326,10104,6313,10594,11243,10357,12344,12248,11357,10871,12234,12687,13315,12390,12825,12939],\"yaxis\":\"y2\",\"type\":\"scatter\"}],                        {\"template\":{\"data\":{\"histogram2dcontour\":[{\"type\":\"histogram2dcontour\",\"colorbar\":{\"outlinewidth\":0,\"ticks\":\"\"},\"colorscale\":[[0.0,\"#0d0887\"],[0.1111111111111111,\"#46039f\"],[0.2222222222222222,\"#7201a8\"],[0.3333333333333333,\"#9c179e\"],[0.4444444444444444,\"#bd3786\"],[0.5555555555555556,\"#d8576b\"],[0.6666666666666666,\"#ed7953\"],[0.7777777777777778,\"#fb9f3a\"],[0.8888888888888888,\"#fdca26\"],[1.0,\"#f0f921\"]]}],\"choropleth\":[{\"type\":\"choropleth\",\"colorbar\":{\"outlinewidth\":0,\"ticks\":\"\"}}],\"histogram2d\":[{\"type\":\"histogram2d\",\"colorbar\":{\"outlinewidth\":0,\"ticks\":\"\"},\"colorscale\":[[0.0,\"#0d0887\"],[0.1111111111111111,\"#46039f\"],[0.2222222222222222,\"#7201a8\"],[0.3333333333333333,\"#9c179e\"],[0.4444444444444444,\"#bd3786\"],[0.5555555555555556,\"#d8576b\"],[0.6666666666666666,\"#ed7953\"],[0.7777777777777778,\"#fb9f3a\"],[0.8888888888888888,\"#fdca26\"],[1.0,\"#f0f921\"]]}],\"heatmap\":[{\"type\":\"heatmap\",\"colorbar\":{\"outlinewidth\":0,\"ticks\":\"\"},\"colorscale\":[[0.0,\"#0d0887\"],[0.1111111111111111,\"#46039f\"],[0.2222222222222222,\"#7201a8\"],[0.3333333333333333,\"#9c179e\"],[0.4444444444444444,\"#bd3786\"],[0.5555555555555556,\"#d8576b\"],[0.6666666666666666,\"#ed7953\"],[0.7777777777777778,\"#fb9f3a\"],[0.8888888888888888,\"#fdca26\"],[1.0,\"#f0f921\"]]}],\"heatmapgl\":[{\"type\":\"heatmapgl\",\"colorbar\":{\"outlinewidth\":0,\"ticks\":\"\"},\"colorscale\":[[0.0,\"#0d0887\"],[0.1111111111111111,\"#46039f\"],[0.2222222222222222,\"#7201a8\"],[0.3333333333333333,\"#9c179e\"],[0.4444444444444444,\"#bd3786\"],[0.5555555555555556,\"#d8576b\"],[0.6666666666666666,\"#ed7953\"],[0.7777777777777778,\"#fb9f3a\"],[0.8888888888888888,\"#fdca26\"],[1.0,\"#f0f921\"]]}],\"contourcarpet\":[{\"type\":\"contourcarpet\",\"colorbar\":{\"outlinewidth\":0,\"ticks\":\"\"}}],\"contour\":[{\"type\":\"contour\",\"colorbar\":{\"outlinewidth\":0,\"ticks\":\"\"},\"colorscale\":[[0.0,\"#0d0887\"],[0.1111111111111111,\"#46039f\"],[0.2222222222222222,\"#7201a8\"],[0.3333333333333333,\"#9c179e\"],[0.4444444444444444,\"#bd3786\"],[0.5555555555555556,\"#d8576b\"],[0.6666666666666666,\"#ed7953\"],[0.7777777777777778,\"#fb9f3a\"],[0.8888888888888888,\"#fdca26\"],[1.0,\"#f0f921\"]]}],\"surface\":[{\"type\":\"surface\",\"colorbar\":{\"outlinewidth\":0,\"ticks\":\"\"},\"colorscale\":[[0.0,\"#0d0887\"],[0.1111111111111111,\"#46039f\"],[0.2222222222222222,\"#7201a8\"],[0.3333333333333333,\"#9c179e\"],[0.4444444444444444,\"#bd3786\"],[0.5555555555555556,\"#d8576b\"],[0.6666666666666666,\"#ed7953\"],[0.7777777777777778,\"#fb9f3a\"],[0.8888888888888888,\"#fdca26\"],[1.0,\"#f0f921\"]]}],\"mesh3d\":[{\"type\":\"mesh3d\",\"colorbar\":{\"outlinewidth\":0,\"ticks\":\"\"}}],\"scatter\":[{\"fillpattern\":{\"fillmode\":\"overlay\",\"size\":10,\"solidity\":0.2},\"type\":\"scatter\"}],\"parcoords\":[{\"type\":\"parcoords\",\"line\":{\"colorbar\":{\"outlinewidth\":0,\"ticks\":\"\"}}}],\"scatterpolargl\":[{\"type\":\"scatterpolargl\",\"marker\":{\"colorbar\":{\"outlinewidth\":0,\"ticks\":\"\"}}}],\"bar\":[{\"error_x\":{\"color\":\"#2a3f5f\"},\"error_y\":{\"color\":\"#2a3f5f\"},\"marker\":{\"line\":{\"color\":\"#E5ECF6\",\"width\":0.5},\"pattern\":{\"fillmode\":\"overlay\",\"size\":10,\"solidity\":0.2}},\"type\":\"bar\"}],\"scattergeo\":[{\"type\":\"scattergeo\",\"marker\":{\"colorbar\":{\"outlinewidth\":0,\"ticks\":\"\"}}}],\"scatterpolar\":[{\"type\":\"scatterpolar\",\"marker\":{\"colorbar\":{\"outlinewidth\":0,\"ticks\":\"\"}}}],\"histogram\":[{\"marker\":{\"pattern\":{\"fillmode\":\"overlay\",\"size\":10,\"solidity\":0.2}},\"type\":\"histogram\"}],\"scattergl\":[{\"type\":\"scattergl\",\"marker\":{\"colorbar\":{\"outlinewidth\":0,\"ticks\":\"\"}}}],\"scatter3d\":[{\"type\":\"scatter3d\",\"line\":{\"colorbar\":{\"outlinewidth\":0,\"ticks\":\"\"}},\"marker\":{\"colorbar\":{\"outlinewidth\":0,\"ticks\":\"\"}}}],\"scattermapbox\":[{\"type\":\"scattermapbox\",\"marker\":{\"colorbar\":{\"outlinewidth\":0,\"ticks\":\"\"}}}],\"scatterternary\":[{\"type\":\"scatterternary\",\"marker\":{\"colorbar\":{\"outlinewidth\":0,\"ticks\":\"\"}}}],\"scattercarpet\":[{\"type\":\"scattercarpet\",\"marker\":{\"colorbar\":{\"outlinewidth\":0,\"ticks\":\"\"}}}],\"carpet\":[{\"aaxis\":{\"endlinecolor\":\"#2a3f5f\",\"gridcolor\":\"white\",\"linecolor\":\"white\",\"minorgridcolor\":\"white\",\"startlinecolor\":\"#2a3f5f\"},\"baxis\":{\"endlinecolor\":\"#2a3f5f\",\"gridcolor\":\"white\",\"linecolor\":\"white\",\"minorgridcolor\":\"white\",\"startlinecolor\":\"#2a3f5f\"},\"type\":\"carpet\"}],\"table\":[{\"cells\":{\"fill\":{\"color\":\"#EBF0F8\"},\"line\":{\"color\":\"white\"}},\"header\":{\"fill\":{\"color\":\"#C8D4E3\"},\"line\":{\"color\":\"white\"}},\"type\":\"table\"}],\"barpolar\":[{\"marker\":{\"line\":{\"color\":\"#E5ECF6\",\"width\":0.5},\"pattern\":{\"fillmode\":\"overlay\",\"size\":10,\"solidity\":0.2}},\"type\":\"barpolar\"}],\"pie\":[{\"automargin\":true,\"type\":\"pie\"}]},\"layout\":{\"autotypenumbers\":\"strict\",\"colorway\":[\"#636efa\",\"#EF553B\",\"#00cc96\",\"#ab63fa\",\"#FFA15A\",\"#19d3f3\",\"#FF6692\",\"#B6E880\",\"#FF97FF\",\"#FECB52\"],\"font\":{\"color\":\"#2a3f5f\"},\"hovermode\":\"closest\",\"hoverlabel\":{\"align\":\"left\"},\"paper_bgcolor\":\"white\",\"plot_bgcolor\":\"#E5ECF6\",\"polar\":{\"bgcolor\":\"#E5ECF6\",\"angularaxis\":{\"gridcolor\":\"white\",\"linecolor\":\"white\",\"ticks\":\"\"},\"radialaxis\":{\"gridcolor\":\"white\",\"linecolor\":\"white\",\"ticks\":\"\"}},\"ternary\":{\"bgcolor\":\"#E5ECF6\",\"aaxis\":{\"gridcolor\":\"white\",\"linecolor\":\"white\",\"ticks\":\"\"},\"baxis\":{\"gridcolor\":\"white\",\"linecolor\":\"white\",\"ticks\":\"\"},\"caxis\":{\"gridcolor\":\"white\",\"linecolor\":\"white\",\"ticks\":\"\"}},\"coloraxis\":{\"colorbar\":{\"outlinewidth\":0,\"ticks\":\"\"}},\"colorscale\":{\"sequential\":[[0.0,\"#0d0887\"],[0.1111111111111111,\"#46039f\"],[0.2222222222222222,\"#7201a8\"],[0.3333333333333333,\"#9c179e\"],[0.4444444444444444,\"#bd3786\"],[0.5555555555555556,\"#d8576b\"],[0.6666666666666666,\"#ed7953\"],[0.7777777777777778,\"#fb9f3a\"],[0.8888888888888888,\"#fdca26\"],[1.0,\"#f0f921\"]],\"sequentialminus\":[[0.0,\"#0d0887\"],[0.1111111111111111,\"#46039f\"],[0.2222222222222222,\"#7201a8\"],[0.3333333333333333,\"#9c179e\"],[0.4444444444444444,\"#bd3786\"],[0.5555555555555556,\"#d8576b\"],[0.6666666666666666,\"#ed7953\"],[0.7777777777777778,\"#fb9f3a\"],[0.8888888888888888,\"#fdca26\"],[1.0,\"#f0f921\"]],\"diverging\":[[0,\"#8e0152\"],[0.1,\"#c51b7d\"],[0.2,\"#de77ae\"],[0.3,\"#f1b6da\"],[0.4,\"#fde0ef\"],[0.5,\"#f7f7f7\"],[0.6,\"#e6f5d0\"],[0.7,\"#b8e186\"],[0.8,\"#7fbc41\"],[0.9,\"#4d9221\"],[1,\"#276419\"]]},\"xaxis\":{\"gridcolor\":\"white\",\"linecolor\":\"white\",\"ticks\":\"\",\"title\":{\"standoff\":15},\"zerolinecolor\":\"white\",\"automargin\":true,\"zerolinewidth\":2},\"yaxis\":{\"gridcolor\":\"white\",\"linecolor\":\"white\",\"ticks\":\"\",\"title\":{\"standoff\":15},\"zerolinecolor\":\"white\",\"automargin\":true,\"zerolinewidth\":2},\"scene\":{\"xaxis\":{\"backgroundcolor\":\"#E5ECF6\",\"gridcolor\":\"white\",\"linecolor\":\"white\",\"showbackground\":true,\"ticks\":\"\",\"zerolinecolor\":\"white\",\"gridwidth\":2},\"yaxis\":{\"backgroundcolor\":\"#E5ECF6\",\"gridcolor\":\"white\",\"linecolor\":\"white\",\"showbackground\":true,\"ticks\":\"\",\"zerolinecolor\":\"white\",\"gridwidth\":2},\"zaxis\":{\"backgroundcolor\":\"#E5ECF6\",\"gridcolor\":\"white\",\"linecolor\":\"white\",\"showbackground\":true,\"ticks\":\"\",\"zerolinecolor\":\"white\",\"gridwidth\":2}},\"shapedefaults\":{\"line\":{\"color\":\"#2a3f5f\"}},\"annotationdefaults\":{\"arrowcolor\":\"#2a3f5f\",\"arrowhead\":0,\"arrowwidth\":1},\"geo\":{\"bgcolor\":\"white\",\"landcolor\":\"#E5ECF6\",\"subunitcolor\":\"white\",\"showland\":true,\"showlakes\":true,\"lakecolor\":\"white\"},\"title\":{\"x\":0.05},\"mapbox\":{\"style\":\"light\"}}},\"xaxis\":{\"anchor\":\"y\",\"domain\":[0.0,1.0],\"title\":{\"text\":\"QY\"}},\"yaxis\":{\"anchor\":\"x\",\"domain\":[0.0,1.0],\"title\":{\"text\":\"GDP (%)\"}},\"legend\":{\"title\":{\"text\":\"Independent\"},\"tracegroupgap\":0},\"title\":{\"text\":\"GDP_China and Revenue Over Quarters\"},\"yaxis2\":{\"title\":{\"text\":\"Revenue (millions)\"},\"overlaying\":\"y\",\"side\":\"right\",\"showgrid\":false}},                        {\"responsive\": true}                    ).then(function(){\n",
       "                            \n",
       "var gd = document.getElementById('c8906242-af5f-4785-82d1-4532886d0fbd');\n",
       "var x = new MutationObserver(function (mutations, observer) {{\n",
       "        var display = window.getComputedStyle(gd).display;\n",
       "        if (!display || display === 'none') {{\n",
       "            console.log([gd, 'removed!']);\n",
       "            Plotly.purge(gd);\n",
       "            observer.disconnect();\n",
       "        }}\n",
       "}});\n",
       "\n",
       "// Listen for the removal of the full notebook cells\n",
       "var notebookContainer = gd.closest('#notebook-container');\n",
       "if (notebookContainer) {{\n",
       "    x.observe(notebookContainer, {childList: true});\n",
       "}}\n",
       "\n",
       "// Listen for the clearing of the current output cell\n",
       "var outputEl = gd.closest('.output');\n",
       "if (outputEl) {{\n",
       "    x.observe(outputEl, {childList: true});\n",
       "}}\n",
       "\n",
       "                        })                };                });            </script>        </div>"
      ]
     },
     "metadata": {},
     "output_type": "display_data"
    }
   ],
   "source": [
    "# Create the initial line plot \n",
    "fig = px.line(df, x='QY', y=['GDP_China'], title='GDP_China and Revenue Over Quarters',\n",
    "              labels={'value': 'GDP_China', 'variable': 'Independent'}, markers=True)\n",
    "\n",
    "# Add Revenue data as a secondary y-axis\n",
    "fig.add_trace(\n",
    "    go.Scatter(x=df['QY'], y=df['Revenue'], name='Revenue (millions)', yaxis='y2')\n",
    ")\n",
    "\n",
    "# Create a layout with two y-axes\n",
    "fig.update_layout(\n",
    "    yaxis=dict(\n",
    "        title='GDP (%)',\n",
    "    ),\n",
    "    yaxis2=dict(\n",
    "        title='Revenue (millions)',\n",
    "        overlaying='y',\n",
    "        side='right',\n",
    "        showgrid=False,  # To not duplicate grid lines\n",
    "    )\n",
    ")\n",
    "\n",
    "# Show the plot\n",
    "fig.show()"
   ]
  },
  {
   "cell_type": "markdown",
   "id": "47da5c9f",
   "metadata": {
    "papermill": {
     "duration": 0.028811,
     "end_time": "2023-12-22T21:17:57.196882",
     "exception": false,
     "start_time": "2023-12-22T21:17:57.168071",
     "status": "completed"
    },
    "tags": []
   },
   "source": [
    "## **Combined Alpha Score**"
   ]
  },
  {
   "cell_type": "code",
   "execution_count": 15,
   "id": "0b15862a",
   "metadata": {
    "execution": {
     "iopub.execute_input": "2023-12-22T21:17:57.258787Z",
     "iopub.status.busy": "2023-12-22T21:17:57.258266Z",
     "iopub.status.idle": "2023-12-22T21:17:57.344945Z",
     "shell.execute_reply": "2023-12-22T21:17:57.343396Z"
    },
    "papermill": {
     "duration": 0.121306,
     "end_time": "2023-12-22T21:17:57.348054",
     "exception": false,
     "start_time": "2023-12-22T21:17:57.226748",
     "status": "completed"
    },
    "tags": []
   },
   "outputs": [
    {
     "data": {
      "text/html": [
       "<div>                            <div id=\"5f573cb7-c79c-4d22-adfe-023d2b373b70\" class=\"plotly-graph-div\" style=\"height:525px; width:100%;\"></div>            <script type=\"text/javascript\">                require([\"plotly\"], function(Plotly) {                    window.PLOTLYENV=window.PLOTLYENV || {};                                    if (document.getElementById(\"5f573cb7-c79c-4d22-adfe-023d2b373b70\")) {                    Plotly.newPlot(                        \"5f573cb7-c79c-4d22-adfe-023d2b373b70\",                        [{\"hovertemplate\":\"Independent=Combined Alpha Score\\u003cbr\\u003eQY=%{x}\\u003cbr\\u003eCombined Alpha Score=%{y}\\u003cextra\\u003e\\u003c\\u002fextra\\u003e\",\"legendgroup\":\"Combined Alpha Score\",\"line\":{\"color\":\"#636efa\",\"dash\":\"solid\"},\"marker\":{\"symbol\":\"circle\"},\"mode\":\"markers+lines\",\"name\":\"Combined Alpha Score\",\"orientation\":\"v\",\"showlegend\":true,\"x\":[\"2017Q3\",\"2017Q4\",\"2018Q1\",\"2018Q2\",\"2018Q3\",\"2018Q4\",\"2019Q1\",\"2019Q2\",\"2019Q3\",\"2019Q4\",\"2020Q1\",\"2020Q2\",\"2020Q3\",\"2020Q4\",\"2021Q1\",\"2021Q2\",\"2021Q3\",\"2021Q4\",\"2022Q1\",\"2022Q2\",\"2022Q3\",\"2022Q4\",\"2023Q1\",\"2023Q2\",\"2023Q3\"],\"xaxis\":\"x\",\"y\":[24,20,38,39,71,64,73,42,43,65,39,56,35,60,71,48,61,32,38,26,20,22,41,34,27],\"yaxis\":\"y\",\"type\":\"scatter\"},{\"name\":\"Revenue (millions)\",\"x\":[\"2017Q3\",\"2017Q4\",\"2018Q1\",\"2018Q2\",\"2018Q3\",\"2018Q4\",\"2019Q1\",\"2019Q2\",\"2019Q3\",\"2019Q4\",\"2020Q1\",\"2020Q2\",\"2020Q3\",\"2020Q4\",\"2021Q1\",\"2021Q2\",\"2021Q3\",\"2021Q4\",\"2022Q1\",\"2022Q2\",\"2022Q3\",\"2022Q4\",\"2023Q1\",\"2023Q2\",\"2023Q3\"],\"y\":[9070,8554,8984,9789,9948,9374,9611,10184,10660,10326,10104,6313,10594,11243,10357,12344,12248,11357,10871,12234,12687,13315,12390,12825,12939],\"yaxis\":\"y2\",\"type\":\"scatter\"}],                        {\"template\":{\"data\":{\"histogram2dcontour\":[{\"type\":\"histogram2dcontour\",\"colorbar\":{\"outlinewidth\":0,\"ticks\":\"\"},\"colorscale\":[[0.0,\"#0d0887\"],[0.1111111111111111,\"#46039f\"],[0.2222222222222222,\"#7201a8\"],[0.3333333333333333,\"#9c179e\"],[0.4444444444444444,\"#bd3786\"],[0.5555555555555556,\"#d8576b\"],[0.6666666666666666,\"#ed7953\"],[0.7777777777777778,\"#fb9f3a\"],[0.8888888888888888,\"#fdca26\"],[1.0,\"#f0f921\"]]}],\"choropleth\":[{\"type\":\"choropleth\",\"colorbar\":{\"outlinewidth\":0,\"ticks\":\"\"}}],\"histogram2d\":[{\"type\":\"histogram2d\",\"colorbar\":{\"outlinewidth\":0,\"ticks\":\"\"},\"colorscale\":[[0.0,\"#0d0887\"],[0.1111111111111111,\"#46039f\"],[0.2222222222222222,\"#7201a8\"],[0.3333333333333333,\"#9c179e\"],[0.4444444444444444,\"#bd3786\"],[0.5555555555555556,\"#d8576b\"],[0.6666666666666666,\"#ed7953\"],[0.7777777777777778,\"#fb9f3a\"],[0.8888888888888888,\"#fdca26\"],[1.0,\"#f0f921\"]]}],\"heatmap\":[{\"type\":\"heatmap\",\"colorbar\":{\"outlinewidth\":0,\"ticks\":\"\"},\"colorscale\":[[0.0,\"#0d0887\"],[0.1111111111111111,\"#46039f\"],[0.2222222222222222,\"#7201a8\"],[0.3333333333333333,\"#9c179e\"],[0.4444444444444444,\"#bd3786\"],[0.5555555555555556,\"#d8576b\"],[0.6666666666666666,\"#ed7953\"],[0.7777777777777778,\"#fb9f3a\"],[0.8888888888888888,\"#fdca26\"],[1.0,\"#f0f921\"]]}],\"heatmapgl\":[{\"type\":\"heatmapgl\",\"colorbar\":{\"outlinewidth\":0,\"ticks\":\"\"},\"colorscale\":[[0.0,\"#0d0887\"],[0.1111111111111111,\"#46039f\"],[0.2222222222222222,\"#7201a8\"],[0.3333333333333333,\"#9c179e\"],[0.4444444444444444,\"#bd3786\"],[0.5555555555555556,\"#d8576b\"],[0.6666666666666666,\"#ed7953\"],[0.7777777777777778,\"#fb9f3a\"],[0.8888888888888888,\"#fdca26\"],[1.0,\"#f0f921\"]]}],\"contourcarpet\":[{\"type\":\"contourcarpet\",\"colorbar\":{\"outlinewidth\":0,\"ticks\":\"\"}}],\"contour\":[{\"type\":\"contour\",\"colorbar\":{\"outlinewidth\":0,\"ticks\":\"\"},\"colorscale\":[[0.0,\"#0d0887\"],[0.1111111111111111,\"#46039f\"],[0.2222222222222222,\"#7201a8\"],[0.3333333333333333,\"#9c179e\"],[0.4444444444444444,\"#bd3786\"],[0.5555555555555556,\"#d8576b\"],[0.6666666666666666,\"#ed7953\"],[0.7777777777777778,\"#fb9f3a\"],[0.8888888888888888,\"#fdca26\"],[1.0,\"#f0f921\"]]}],\"surface\":[{\"type\":\"surface\",\"colorbar\":{\"outlinewidth\":0,\"ticks\":\"\"},\"colorscale\":[[0.0,\"#0d0887\"],[0.1111111111111111,\"#46039f\"],[0.2222222222222222,\"#7201a8\"],[0.3333333333333333,\"#9c179e\"],[0.4444444444444444,\"#bd3786\"],[0.5555555555555556,\"#d8576b\"],[0.6666666666666666,\"#ed7953\"],[0.7777777777777778,\"#fb9f3a\"],[0.8888888888888888,\"#fdca26\"],[1.0,\"#f0f921\"]]}],\"mesh3d\":[{\"type\":\"mesh3d\",\"colorbar\":{\"outlinewidth\":0,\"ticks\":\"\"}}],\"scatter\":[{\"fillpattern\":{\"fillmode\":\"overlay\",\"size\":10,\"solidity\":0.2},\"type\":\"scatter\"}],\"parcoords\":[{\"type\":\"parcoords\",\"line\":{\"colorbar\":{\"outlinewidth\":0,\"ticks\":\"\"}}}],\"scatterpolargl\":[{\"type\":\"scatterpolargl\",\"marker\":{\"colorbar\":{\"outlinewidth\":0,\"ticks\":\"\"}}}],\"bar\":[{\"error_x\":{\"color\":\"#2a3f5f\"},\"error_y\":{\"color\":\"#2a3f5f\"},\"marker\":{\"line\":{\"color\":\"#E5ECF6\",\"width\":0.5},\"pattern\":{\"fillmode\":\"overlay\",\"size\":10,\"solidity\":0.2}},\"type\":\"bar\"}],\"scattergeo\":[{\"type\":\"scattergeo\",\"marker\":{\"colorbar\":{\"outlinewidth\":0,\"ticks\":\"\"}}}],\"scatterpolar\":[{\"type\":\"scatterpolar\",\"marker\":{\"colorbar\":{\"outlinewidth\":0,\"ticks\":\"\"}}}],\"histogram\":[{\"marker\":{\"pattern\":{\"fillmode\":\"overlay\",\"size\":10,\"solidity\":0.2}},\"type\":\"histogram\"}],\"scattergl\":[{\"type\":\"scattergl\",\"marker\":{\"colorbar\":{\"outlinewidth\":0,\"ticks\":\"\"}}}],\"scatter3d\":[{\"type\":\"scatter3d\",\"line\":{\"colorbar\":{\"outlinewidth\":0,\"ticks\":\"\"}},\"marker\":{\"colorbar\":{\"outlinewidth\":0,\"ticks\":\"\"}}}],\"scattermapbox\":[{\"type\":\"scattermapbox\",\"marker\":{\"colorbar\":{\"outlinewidth\":0,\"ticks\":\"\"}}}],\"scatterternary\":[{\"type\":\"scatterternary\",\"marker\":{\"colorbar\":{\"outlinewidth\":0,\"ticks\":\"\"}}}],\"scattercarpet\":[{\"type\":\"scattercarpet\",\"marker\":{\"colorbar\":{\"outlinewidth\":0,\"ticks\":\"\"}}}],\"carpet\":[{\"aaxis\":{\"endlinecolor\":\"#2a3f5f\",\"gridcolor\":\"white\",\"linecolor\":\"white\",\"minorgridcolor\":\"white\",\"startlinecolor\":\"#2a3f5f\"},\"baxis\":{\"endlinecolor\":\"#2a3f5f\",\"gridcolor\":\"white\",\"linecolor\":\"white\",\"minorgridcolor\":\"white\",\"startlinecolor\":\"#2a3f5f\"},\"type\":\"carpet\"}],\"table\":[{\"cells\":{\"fill\":{\"color\":\"#EBF0F8\"},\"line\":{\"color\":\"white\"}},\"header\":{\"fill\":{\"color\":\"#C8D4E3\"},\"line\":{\"color\":\"white\"}},\"type\":\"table\"}],\"barpolar\":[{\"marker\":{\"line\":{\"color\":\"#E5ECF6\",\"width\":0.5},\"pattern\":{\"fillmode\":\"overlay\",\"size\":10,\"solidity\":0.2}},\"type\":\"barpolar\"}],\"pie\":[{\"automargin\":true,\"type\":\"pie\"}]},\"layout\":{\"autotypenumbers\":\"strict\",\"colorway\":[\"#636efa\",\"#EF553B\",\"#00cc96\",\"#ab63fa\",\"#FFA15A\",\"#19d3f3\",\"#FF6692\",\"#B6E880\",\"#FF97FF\",\"#FECB52\"],\"font\":{\"color\":\"#2a3f5f\"},\"hovermode\":\"closest\",\"hoverlabel\":{\"align\":\"left\"},\"paper_bgcolor\":\"white\",\"plot_bgcolor\":\"#E5ECF6\",\"polar\":{\"bgcolor\":\"#E5ECF6\",\"angularaxis\":{\"gridcolor\":\"white\",\"linecolor\":\"white\",\"ticks\":\"\"},\"radialaxis\":{\"gridcolor\":\"white\",\"linecolor\":\"white\",\"ticks\":\"\"}},\"ternary\":{\"bgcolor\":\"#E5ECF6\",\"aaxis\":{\"gridcolor\":\"white\",\"linecolor\":\"white\",\"ticks\":\"\"},\"baxis\":{\"gridcolor\":\"white\",\"linecolor\":\"white\",\"ticks\":\"\"},\"caxis\":{\"gridcolor\":\"white\",\"linecolor\":\"white\",\"ticks\":\"\"}},\"coloraxis\":{\"colorbar\":{\"outlinewidth\":0,\"ticks\":\"\"}},\"colorscale\":{\"sequential\":[[0.0,\"#0d0887\"],[0.1111111111111111,\"#46039f\"],[0.2222222222222222,\"#7201a8\"],[0.3333333333333333,\"#9c179e\"],[0.4444444444444444,\"#bd3786\"],[0.5555555555555556,\"#d8576b\"],[0.6666666666666666,\"#ed7953\"],[0.7777777777777778,\"#fb9f3a\"],[0.8888888888888888,\"#fdca26\"],[1.0,\"#f0f921\"]],\"sequentialminus\":[[0.0,\"#0d0887\"],[0.1111111111111111,\"#46039f\"],[0.2222222222222222,\"#7201a8\"],[0.3333333333333333,\"#9c179e\"],[0.4444444444444444,\"#bd3786\"],[0.5555555555555556,\"#d8576b\"],[0.6666666666666666,\"#ed7953\"],[0.7777777777777778,\"#fb9f3a\"],[0.8888888888888888,\"#fdca26\"],[1.0,\"#f0f921\"]],\"diverging\":[[0,\"#8e0152\"],[0.1,\"#c51b7d\"],[0.2,\"#de77ae\"],[0.3,\"#f1b6da\"],[0.4,\"#fde0ef\"],[0.5,\"#f7f7f7\"],[0.6,\"#e6f5d0\"],[0.7,\"#b8e186\"],[0.8,\"#7fbc41\"],[0.9,\"#4d9221\"],[1,\"#276419\"]]},\"xaxis\":{\"gridcolor\":\"white\",\"linecolor\":\"white\",\"ticks\":\"\",\"title\":{\"standoff\":15},\"zerolinecolor\":\"white\",\"automargin\":true,\"zerolinewidth\":2},\"yaxis\":{\"gridcolor\":\"white\",\"linecolor\":\"white\",\"ticks\":\"\",\"title\":{\"standoff\":15},\"zerolinecolor\":\"white\",\"automargin\":true,\"zerolinewidth\":2},\"scene\":{\"xaxis\":{\"backgroundcolor\":\"#E5ECF6\",\"gridcolor\":\"white\",\"linecolor\":\"white\",\"showbackground\":true,\"ticks\":\"\",\"zerolinecolor\":\"white\",\"gridwidth\":2},\"yaxis\":{\"backgroundcolor\":\"#E5ECF6\",\"gridcolor\":\"white\",\"linecolor\":\"white\",\"showbackground\":true,\"ticks\":\"\",\"zerolinecolor\":\"white\",\"gridwidth\":2},\"zaxis\":{\"backgroundcolor\":\"#E5ECF6\",\"gridcolor\":\"white\",\"linecolor\":\"white\",\"showbackground\":true,\"ticks\":\"\",\"zerolinecolor\":\"white\",\"gridwidth\":2}},\"shapedefaults\":{\"line\":{\"color\":\"#2a3f5f\"}},\"annotationdefaults\":{\"arrowcolor\":\"#2a3f5f\",\"arrowhead\":0,\"arrowwidth\":1},\"geo\":{\"bgcolor\":\"white\",\"landcolor\":\"#E5ECF6\",\"subunitcolor\":\"white\",\"showland\":true,\"showlakes\":true,\"lakecolor\":\"white\"},\"title\":{\"x\":0.05},\"mapbox\":{\"style\":\"light\"}}},\"xaxis\":{\"anchor\":\"y\",\"domain\":[0.0,1.0],\"title\":{\"text\":\"QY\"}},\"yaxis\":{\"anchor\":\"x\",\"domain\":[0.0,1.0],\"title\":{\"text\":\"GDP (%)\"}},\"legend\":{\"title\":{\"text\":\"Independent\"},\"tracegroupgap\":0},\"title\":{\"text\":\"Combined Alpha Score and Revenue Over Quarters\"},\"yaxis2\":{\"title\":{\"text\":\"Revenue (millions)\"},\"overlaying\":\"y\",\"side\":\"right\",\"showgrid\":false}},                        {\"responsive\": true}                    ).then(function(){\n",
       "                            \n",
       "var gd = document.getElementById('5f573cb7-c79c-4d22-adfe-023d2b373b70');\n",
       "var x = new MutationObserver(function (mutations, observer) {{\n",
       "        var display = window.getComputedStyle(gd).display;\n",
       "        if (!display || display === 'none') {{\n",
       "            console.log([gd, 'removed!']);\n",
       "            Plotly.purge(gd);\n",
       "            observer.disconnect();\n",
       "        }}\n",
       "}});\n",
       "\n",
       "// Listen for the removal of the full notebook cells\n",
       "var notebookContainer = gd.closest('#notebook-container');\n",
       "if (notebookContainer) {{\n",
       "    x.observe(notebookContainer, {childList: true});\n",
       "}}\n",
       "\n",
       "// Listen for the clearing of the current output cell\n",
       "var outputEl = gd.closest('.output');\n",
       "if (outputEl) {{\n",
       "    x.observe(outputEl, {childList: true});\n",
       "}}\n",
       "\n",
       "                        })                };                });            </script>        </div>"
      ]
     },
     "metadata": {},
     "output_type": "display_data"
    }
   ],
   "source": [
    "# Create the initial line plot \n",
    "fig = px.line(df, x='QY', y=['Combined Alpha Score'], title='Combined Alpha Score and Revenue Over Quarters',\n",
    "              labels={'value': 'Combined Alpha Score', 'variable': 'Independent'}, markers=True)\n",
    "\n",
    "# Add Revenue data as a secondary y-axis\n",
    "fig.add_trace(\n",
    "    go.Scatter(x=df['QY'], y=df['Revenue'], name='Revenue (millions)', yaxis='y2')\n",
    ")\n",
    "\n",
    "# Create a layout with two y-axes\n",
    "fig.update_layout(\n",
    "    yaxis=dict(\n",
    "        title='GDP (%)',\n",
    "    ),\n",
    "    yaxis2=dict(\n",
    "        title='Revenue (millions)',\n",
    "        overlaying='y',\n",
    "        side='right',\n",
    "        showgrid=False,  # To not duplicate grid lines\n",
    "    )\n",
    ")\n",
    "\n",
    "# Show the plot\n",
    "fig.show()"
   ]
  },
  {
   "cell_type": "markdown",
   "id": "8ccb4ea3",
   "metadata": {
    "papermill": {
     "duration": 0.029252,
     "end_time": "2023-12-22T21:17:57.407295",
     "exception": false,
     "start_time": "2023-12-22T21:17:57.378043",
     "status": "completed"
    },
    "tags": []
   },
   "source": [
    "## **Euro vs Dollar**"
   ]
  },
  {
   "cell_type": "code",
   "execution_count": 16,
   "id": "0188d428",
   "metadata": {
    "execution": {
     "iopub.execute_input": "2023-12-22T21:17:57.468517Z",
     "iopub.status.busy": "2023-12-22T21:17:57.468035Z",
     "iopub.status.idle": "2023-12-22T21:17:57.560904Z",
     "shell.execute_reply": "2023-12-22T21:17:57.559426Z"
    },
    "papermill": {
     "duration": 0.127101,
     "end_time": "2023-12-22T21:17:57.564118",
     "exception": false,
     "start_time": "2023-12-22T21:17:57.437017",
     "status": "completed"
    },
    "tags": []
   },
   "outputs": [
    {
     "data": {
      "text/html": [
       "<div>                            <div id=\"57a9c411-19de-4dc8-b192-524e2dc3bdc4\" class=\"plotly-graph-div\" style=\"height:525px; width:100%;\"></div>            <script type=\"text/javascript\">                require([\"plotly\"], function(Plotly) {                    window.PLOTLYENV=window.PLOTLYENV || {};                                    if (document.getElementById(\"57a9c411-19de-4dc8-b192-524e2dc3bdc4\")) {                    Plotly.newPlot(                        \"57a9c411-19de-4dc8-b192-524e2dc3bdc4\",                        [{\"hovertemplate\":\"Independent=Euro_dollar\\u003cbr\\u003eQY=%{x}\\u003cbr\\u003eEuro_dollar=%{y}\\u003cextra\\u003e\\u003c\\u002fextra\\u003e\",\"legendgroup\":\"Euro_dollar\",\"line\":{\"color\":\"#636efa\",\"dash\":\"solid\"},\"marker\":{\"symbol\":\"circle\"},\"mode\":\"markers+lines\",\"name\":\"Euro_dollar\",\"orientation\":\"v\",\"showlegend\":true,\"x\":[\"2017Q3\",\"2017Q4\",\"2018Q1\",\"2018Q2\",\"2018Q3\",\"2018Q4\",\"2019Q1\",\"2019Q2\",\"2019Q3\",\"2019Q4\",\"2020Q1\",\"2020Q2\",\"2020Q3\",\"2020Q4\",\"2021Q1\",\"2021Q2\",\"2021Q3\",\"2021Q4\",\"2022Q1\",\"2022Q2\",\"2022Q3\",\"2022Q4\",\"2023Q1\",\"2023Q2\",\"2023Q3\"],\"xaxis\":\"x\",\"y\":[1.181,1.2,1.232,1.168,1.161,1.147,1.122,1.137,1.09,1.121,1.103,1.123,1.172,1.221,1.173,1.186,1.158,1.137,1.107,1.048,0.98,1.07,1.084,1.091,1.057],\"yaxis\":\"y\",\"type\":\"scatter\"},{\"name\":\"Revenue (millions)\",\"x\":[\"2017Q3\",\"2017Q4\",\"2018Q1\",\"2018Q2\",\"2018Q3\",\"2018Q4\",\"2019Q1\",\"2019Q2\",\"2019Q3\",\"2019Q4\",\"2020Q1\",\"2020Q2\",\"2020Q3\",\"2020Q4\",\"2021Q1\",\"2021Q2\",\"2021Q3\",\"2021Q4\",\"2022Q1\",\"2022Q2\",\"2022Q3\",\"2022Q4\",\"2023Q1\",\"2023Q2\",\"2023Q3\"],\"y\":[9070,8554,8984,9789,9948,9374,9611,10184,10660,10326,10104,6313,10594,11243,10357,12344,12248,11357,10871,12234,12687,13315,12390,12825,12939],\"yaxis\":\"y2\",\"type\":\"scatter\"}],                        {\"template\":{\"data\":{\"histogram2dcontour\":[{\"type\":\"histogram2dcontour\",\"colorbar\":{\"outlinewidth\":0,\"ticks\":\"\"},\"colorscale\":[[0.0,\"#0d0887\"],[0.1111111111111111,\"#46039f\"],[0.2222222222222222,\"#7201a8\"],[0.3333333333333333,\"#9c179e\"],[0.4444444444444444,\"#bd3786\"],[0.5555555555555556,\"#d8576b\"],[0.6666666666666666,\"#ed7953\"],[0.7777777777777778,\"#fb9f3a\"],[0.8888888888888888,\"#fdca26\"],[1.0,\"#f0f921\"]]}],\"choropleth\":[{\"type\":\"choropleth\",\"colorbar\":{\"outlinewidth\":0,\"ticks\":\"\"}}],\"histogram2d\":[{\"type\":\"histogram2d\",\"colorbar\":{\"outlinewidth\":0,\"ticks\":\"\"},\"colorscale\":[[0.0,\"#0d0887\"],[0.1111111111111111,\"#46039f\"],[0.2222222222222222,\"#7201a8\"],[0.3333333333333333,\"#9c179e\"],[0.4444444444444444,\"#bd3786\"],[0.5555555555555556,\"#d8576b\"],[0.6666666666666666,\"#ed7953\"],[0.7777777777777778,\"#fb9f3a\"],[0.8888888888888888,\"#fdca26\"],[1.0,\"#f0f921\"]]}],\"heatmap\":[{\"type\":\"heatmap\",\"colorbar\":{\"outlinewidth\":0,\"ticks\":\"\"},\"colorscale\":[[0.0,\"#0d0887\"],[0.1111111111111111,\"#46039f\"],[0.2222222222222222,\"#7201a8\"],[0.3333333333333333,\"#9c179e\"],[0.4444444444444444,\"#bd3786\"],[0.5555555555555556,\"#d8576b\"],[0.6666666666666666,\"#ed7953\"],[0.7777777777777778,\"#fb9f3a\"],[0.8888888888888888,\"#fdca26\"],[1.0,\"#f0f921\"]]}],\"heatmapgl\":[{\"type\":\"heatmapgl\",\"colorbar\":{\"outlinewidth\":0,\"ticks\":\"\"},\"colorscale\":[[0.0,\"#0d0887\"],[0.1111111111111111,\"#46039f\"],[0.2222222222222222,\"#7201a8\"],[0.3333333333333333,\"#9c179e\"],[0.4444444444444444,\"#bd3786\"],[0.5555555555555556,\"#d8576b\"],[0.6666666666666666,\"#ed7953\"],[0.7777777777777778,\"#fb9f3a\"],[0.8888888888888888,\"#fdca26\"],[1.0,\"#f0f921\"]]}],\"contourcarpet\":[{\"type\":\"contourcarpet\",\"colorbar\":{\"outlinewidth\":0,\"ticks\":\"\"}}],\"contour\":[{\"type\":\"contour\",\"colorbar\":{\"outlinewidth\":0,\"ticks\":\"\"},\"colorscale\":[[0.0,\"#0d0887\"],[0.1111111111111111,\"#46039f\"],[0.2222222222222222,\"#7201a8\"],[0.3333333333333333,\"#9c179e\"],[0.4444444444444444,\"#bd3786\"],[0.5555555555555556,\"#d8576b\"],[0.6666666666666666,\"#ed7953\"],[0.7777777777777778,\"#fb9f3a\"],[0.8888888888888888,\"#fdca26\"],[1.0,\"#f0f921\"]]}],\"surface\":[{\"type\":\"surface\",\"colorbar\":{\"outlinewidth\":0,\"ticks\":\"\"},\"colorscale\":[[0.0,\"#0d0887\"],[0.1111111111111111,\"#46039f\"],[0.2222222222222222,\"#7201a8\"],[0.3333333333333333,\"#9c179e\"],[0.4444444444444444,\"#bd3786\"],[0.5555555555555556,\"#d8576b\"],[0.6666666666666666,\"#ed7953\"],[0.7777777777777778,\"#fb9f3a\"],[0.8888888888888888,\"#fdca26\"],[1.0,\"#f0f921\"]]}],\"mesh3d\":[{\"type\":\"mesh3d\",\"colorbar\":{\"outlinewidth\":0,\"ticks\":\"\"}}],\"scatter\":[{\"fillpattern\":{\"fillmode\":\"overlay\",\"size\":10,\"solidity\":0.2},\"type\":\"scatter\"}],\"parcoords\":[{\"type\":\"parcoords\",\"line\":{\"colorbar\":{\"outlinewidth\":0,\"ticks\":\"\"}}}],\"scatterpolargl\":[{\"type\":\"scatterpolargl\",\"marker\":{\"colorbar\":{\"outlinewidth\":0,\"ticks\":\"\"}}}],\"bar\":[{\"error_x\":{\"color\":\"#2a3f5f\"},\"error_y\":{\"color\":\"#2a3f5f\"},\"marker\":{\"line\":{\"color\":\"#E5ECF6\",\"width\":0.5},\"pattern\":{\"fillmode\":\"overlay\",\"size\":10,\"solidity\":0.2}},\"type\":\"bar\"}],\"scattergeo\":[{\"type\":\"scattergeo\",\"marker\":{\"colorbar\":{\"outlinewidth\":0,\"ticks\":\"\"}}}],\"scatterpolar\":[{\"type\":\"scatterpolar\",\"marker\":{\"colorbar\":{\"outlinewidth\":0,\"ticks\":\"\"}}}],\"histogram\":[{\"marker\":{\"pattern\":{\"fillmode\":\"overlay\",\"size\":10,\"solidity\":0.2}},\"type\":\"histogram\"}],\"scattergl\":[{\"type\":\"scattergl\",\"marker\":{\"colorbar\":{\"outlinewidth\":0,\"ticks\":\"\"}}}],\"scatter3d\":[{\"type\":\"scatter3d\",\"line\":{\"colorbar\":{\"outlinewidth\":0,\"ticks\":\"\"}},\"marker\":{\"colorbar\":{\"outlinewidth\":0,\"ticks\":\"\"}}}],\"scattermapbox\":[{\"type\":\"scattermapbox\",\"marker\":{\"colorbar\":{\"outlinewidth\":0,\"ticks\":\"\"}}}],\"scatterternary\":[{\"type\":\"scatterternary\",\"marker\":{\"colorbar\":{\"outlinewidth\":0,\"ticks\":\"\"}}}],\"scattercarpet\":[{\"type\":\"scattercarpet\",\"marker\":{\"colorbar\":{\"outlinewidth\":0,\"ticks\":\"\"}}}],\"carpet\":[{\"aaxis\":{\"endlinecolor\":\"#2a3f5f\",\"gridcolor\":\"white\",\"linecolor\":\"white\",\"minorgridcolor\":\"white\",\"startlinecolor\":\"#2a3f5f\"},\"baxis\":{\"endlinecolor\":\"#2a3f5f\",\"gridcolor\":\"white\",\"linecolor\":\"white\",\"minorgridcolor\":\"white\",\"startlinecolor\":\"#2a3f5f\"},\"type\":\"carpet\"}],\"table\":[{\"cells\":{\"fill\":{\"color\":\"#EBF0F8\"},\"line\":{\"color\":\"white\"}},\"header\":{\"fill\":{\"color\":\"#C8D4E3\"},\"line\":{\"color\":\"white\"}},\"type\":\"table\"}],\"barpolar\":[{\"marker\":{\"line\":{\"color\":\"#E5ECF6\",\"width\":0.5},\"pattern\":{\"fillmode\":\"overlay\",\"size\":10,\"solidity\":0.2}},\"type\":\"barpolar\"}],\"pie\":[{\"automargin\":true,\"type\":\"pie\"}]},\"layout\":{\"autotypenumbers\":\"strict\",\"colorway\":[\"#636efa\",\"#EF553B\",\"#00cc96\",\"#ab63fa\",\"#FFA15A\",\"#19d3f3\",\"#FF6692\",\"#B6E880\",\"#FF97FF\",\"#FECB52\"],\"font\":{\"color\":\"#2a3f5f\"},\"hovermode\":\"closest\",\"hoverlabel\":{\"align\":\"left\"},\"paper_bgcolor\":\"white\",\"plot_bgcolor\":\"#E5ECF6\",\"polar\":{\"bgcolor\":\"#E5ECF6\",\"angularaxis\":{\"gridcolor\":\"white\",\"linecolor\":\"white\",\"ticks\":\"\"},\"radialaxis\":{\"gridcolor\":\"white\",\"linecolor\":\"white\",\"ticks\":\"\"}},\"ternary\":{\"bgcolor\":\"#E5ECF6\",\"aaxis\":{\"gridcolor\":\"white\",\"linecolor\":\"white\",\"ticks\":\"\"},\"baxis\":{\"gridcolor\":\"white\",\"linecolor\":\"white\",\"ticks\":\"\"},\"caxis\":{\"gridcolor\":\"white\",\"linecolor\":\"white\",\"ticks\":\"\"}},\"coloraxis\":{\"colorbar\":{\"outlinewidth\":0,\"ticks\":\"\"}},\"colorscale\":{\"sequential\":[[0.0,\"#0d0887\"],[0.1111111111111111,\"#46039f\"],[0.2222222222222222,\"#7201a8\"],[0.3333333333333333,\"#9c179e\"],[0.4444444444444444,\"#bd3786\"],[0.5555555555555556,\"#d8576b\"],[0.6666666666666666,\"#ed7953\"],[0.7777777777777778,\"#fb9f3a\"],[0.8888888888888888,\"#fdca26\"],[1.0,\"#f0f921\"]],\"sequentialminus\":[[0.0,\"#0d0887\"],[0.1111111111111111,\"#46039f\"],[0.2222222222222222,\"#7201a8\"],[0.3333333333333333,\"#9c179e\"],[0.4444444444444444,\"#bd3786\"],[0.5555555555555556,\"#d8576b\"],[0.6666666666666666,\"#ed7953\"],[0.7777777777777778,\"#fb9f3a\"],[0.8888888888888888,\"#fdca26\"],[1.0,\"#f0f921\"]],\"diverging\":[[0,\"#8e0152\"],[0.1,\"#c51b7d\"],[0.2,\"#de77ae\"],[0.3,\"#f1b6da\"],[0.4,\"#fde0ef\"],[0.5,\"#f7f7f7\"],[0.6,\"#e6f5d0\"],[0.7,\"#b8e186\"],[0.8,\"#7fbc41\"],[0.9,\"#4d9221\"],[1,\"#276419\"]]},\"xaxis\":{\"gridcolor\":\"white\",\"linecolor\":\"white\",\"ticks\":\"\",\"title\":{\"standoff\":15},\"zerolinecolor\":\"white\",\"automargin\":true,\"zerolinewidth\":2},\"yaxis\":{\"gridcolor\":\"white\",\"linecolor\":\"white\",\"ticks\":\"\",\"title\":{\"standoff\":15},\"zerolinecolor\":\"white\",\"automargin\":true,\"zerolinewidth\":2},\"scene\":{\"xaxis\":{\"backgroundcolor\":\"#E5ECF6\",\"gridcolor\":\"white\",\"linecolor\":\"white\",\"showbackground\":true,\"ticks\":\"\",\"zerolinecolor\":\"white\",\"gridwidth\":2},\"yaxis\":{\"backgroundcolor\":\"#E5ECF6\",\"gridcolor\":\"white\",\"linecolor\":\"white\",\"showbackground\":true,\"ticks\":\"\",\"zerolinecolor\":\"white\",\"gridwidth\":2},\"zaxis\":{\"backgroundcolor\":\"#E5ECF6\",\"gridcolor\":\"white\",\"linecolor\":\"white\",\"showbackground\":true,\"ticks\":\"\",\"zerolinecolor\":\"white\",\"gridwidth\":2}},\"shapedefaults\":{\"line\":{\"color\":\"#2a3f5f\"}},\"annotationdefaults\":{\"arrowcolor\":\"#2a3f5f\",\"arrowhead\":0,\"arrowwidth\":1},\"geo\":{\"bgcolor\":\"white\",\"landcolor\":\"#E5ECF6\",\"subunitcolor\":\"white\",\"showland\":true,\"showlakes\":true,\"lakecolor\":\"white\"},\"title\":{\"x\":0.05},\"mapbox\":{\"style\":\"light\"}}},\"xaxis\":{\"anchor\":\"y\",\"domain\":[0.0,1.0],\"title\":{\"text\":\"QY\"}},\"yaxis\":{\"anchor\":\"x\",\"domain\":[0.0,1.0],\"title\":{\"text\":\"GDP (%)\"}},\"legend\":{\"title\":{\"text\":\"Independent\"},\"tracegroupgap\":0},\"title\":{\"text\":\"Euro_dollar and Revenue Over Quarters\"},\"yaxis2\":{\"title\":{\"text\":\"Revenue (millions)\"},\"overlaying\":\"y\",\"side\":\"right\",\"showgrid\":false}},                        {\"responsive\": true}                    ).then(function(){\n",
       "                            \n",
       "var gd = document.getElementById('57a9c411-19de-4dc8-b192-524e2dc3bdc4');\n",
       "var x = new MutationObserver(function (mutations, observer) {{\n",
       "        var display = window.getComputedStyle(gd).display;\n",
       "        if (!display || display === 'none') {{\n",
       "            console.log([gd, 'removed!']);\n",
       "            Plotly.purge(gd);\n",
       "            observer.disconnect();\n",
       "        }}\n",
       "}});\n",
       "\n",
       "// Listen for the removal of the full notebook cells\n",
       "var notebookContainer = gd.closest('#notebook-container');\n",
       "if (notebookContainer) {{\n",
       "    x.observe(notebookContainer, {childList: true});\n",
       "}}\n",
       "\n",
       "// Listen for the clearing of the current output cell\n",
       "var outputEl = gd.closest('.output');\n",
       "if (outputEl) {{\n",
       "    x.observe(outputEl, {childList: true});\n",
       "}}\n",
       "\n",
       "                        })                };                });            </script>        </div>"
      ]
     },
     "metadata": {},
     "output_type": "display_data"
    }
   ],
   "source": [
    "# Create the initial line plot \n",
    "fig = px.line(df, x='QY', y=['Euro_dollar'], title='Euro_dollar and Revenue Over Quarters',\n",
    "              labels={'value': 'Euro_dollar', 'variable': 'Independent'}, markers=True)\n",
    "\n",
    "# Add Revenue data as a secondary y-axis\n",
    "fig.add_trace(\n",
    "    go.Scatter(x=df['QY'], y=df['Revenue'], name='Revenue (millions)', yaxis='y2')\n",
    ")\n",
    "\n",
    "# Create a layout with two y-axes\n",
    "fig.update_layout(\n",
    "    yaxis=dict(\n",
    "        title='GDP (%)',\n",
    "    ),\n",
    "    yaxis2=dict(\n",
    "        title='Revenue (millions)',\n",
    "        overlaying='y',\n",
    "        side='right',\n",
    "        showgrid=False,  # To not duplicate grid lines\n",
    "    )\n",
    ")\n",
    "\n",
    "# Show the plot\n",
    "fig.show()"
   ]
  },
  {
   "cell_type": "markdown",
   "id": "be921e9f",
   "metadata": {
    "papermill": {
     "duration": 0.031254,
     "end_time": "2023-12-22T21:17:57.626385",
     "exception": false,
     "start_time": "2023-12-22T21:17:57.595131",
     "status": "completed"
    },
    "tags": []
   },
   "source": [
    "## **Yeun vs Dollar**"
   ]
  },
  {
   "cell_type": "code",
   "execution_count": 17,
   "id": "972ff64e",
   "metadata": {
    "execution": {
     "iopub.execute_input": "2023-12-22T21:17:57.693070Z",
     "iopub.status.busy": "2023-12-22T21:17:57.692594Z",
     "iopub.status.idle": "2023-12-22T21:17:57.785517Z",
     "shell.execute_reply": "2023-12-22T21:17:57.784226Z"
    },
    "papermill": {
     "duration": 0.129952,
     "end_time": "2023-12-22T21:17:57.788241",
     "exception": false,
     "start_time": "2023-12-22T21:17:57.658289",
     "status": "completed"
    },
    "tags": []
   },
   "outputs": [
    {
     "data": {
      "text/html": [
       "<div>                            <div id=\"8a843751-5479-4a4d-a542-7f6ddc843829\" class=\"plotly-graph-div\" style=\"height:525px; width:100%;\"></div>            <script type=\"text/javascript\">                require([\"plotly\"], function(Plotly) {                    window.PLOTLYENV=window.PLOTLYENV || {};                                    if (document.getElementById(\"8a843751-5479-4a4d-a542-7f6ddc843829\")) {                    Plotly.newPlot(                        \"8a843751-5479-4a4d-a542-7f6ddc843829\",                        [{\"hovertemplate\":\"Independent=Yen_dollar\\u003cbr\\u003eQY=%{x}\\u003cbr\\u003eYen_dollar=%{y}\\u003cextra\\u003e\\u003c\\u002fextra\\u003e\",\"legendgroup\":\"Yen_dollar\",\"line\":{\"color\":\"#636efa\",\"dash\":\"solid\"},\"marker\":{\"symbol\":\"circle\"},\"mode\":\"markers+lines\",\"name\":\"Yen_dollar\",\"orientation\":\"v\",\"showlegend\":true,\"x\":[\"2017Q3\",\"2017Q4\",\"2018Q1\",\"2018Q2\",\"2018Q3\",\"2018Q4\",\"2019Q1\",\"2019Q2\",\"2019Q3\",\"2019Q4\",\"2020Q1\",\"2020Q2\",\"2020Q3\",\"2020Q4\",\"2021Q1\",\"2021Q2\",\"2021Q3\",\"2021Q4\",\"2022Q1\",\"2022Q2\",\"2022Q3\",\"2022Q4\",\"2023Q1\",\"2023Q2\",\"2023Q3\"],\"xaxis\":\"x\",\"y\":[6.647,6.513,6.26,6.634,6.875,6.869,6.722,6.868,7.139,6.959,7.093,7.068,6.783,6.502,6.563,6.468,6.447,6.361,6.353,6.693,7.142,6.923,6.874,7.268,7.296],\"yaxis\":\"y\",\"type\":\"scatter\"},{\"name\":\"Revenue (millions)\",\"x\":[\"2017Q3\",\"2017Q4\",\"2018Q1\",\"2018Q2\",\"2018Q3\",\"2018Q4\",\"2019Q1\",\"2019Q2\",\"2019Q3\",\"2019Q4\",\"2020Q1\",\"2020Q2\",\"2020Q3\",\"2020Q4\",\"2021Q1\",\"2021Q2\",\"2021Q3\",\"2021Q4\",\"2022Q1\",\"2022Q2\",\"2022Q3\",\"2022Q4\",\"2023Q1\",\"2023Q2\",\"2023Q3\"],\"y\":[9070,8554,8984,9789,9948,9374,9611,10184,10660,10326,10104,6313,10594,11243,10357,12344,12248,11357,10871,12234,12687,13315,12390,12825,12939],\"yaxis\":\"y2\",\"type\":\"scatter\"}],                        {\"template\":{\"data\":{\"histogram2dcontour\":[{\"type\":\"histogram2dcontour\",\"colorbar\":{\"outlinewidth\":0,\"ticks\":\"\"},\"colorscale\":[[0.0,\"#0d0887\"],[0.1111111111111111,\"#46039f\"],[0.2222222222222222,\"#7201a8\"],[0.3333333333333333,\"#9c179e\"],[0.4444444444444444,\"#bd3786\"],[0.5555555555555556,\"#d8576b\"],[0.6666666666666666,\"#ed7953\"],[0.7777777777777778,\"#fb9f3a\"],[0.8888888888888888,\"#fdca26\"],[1.0,\"#f0f921\"]]}],\"choropleth\":[{\"type\":\"choropleth\",\"colorbar\":{\"outlinewidth\":0,\"ticks\":\"\"}}],\"histogram2d\":[{\"type\":\"histogram2d\",\"colorbar\":{\"outlinewidth\":0,\"ticks\":\"\"},\"colorscale\":[[0.0,\"#0d0887\"],[0.1111111111111111,\"#46039f\"],[0.2222222222222222,\"#7201a8\"],[0.3333333333333333,\"#9c179e\"],[0.4444444444444444,\"#bd3786\"],[0.5555555555555556,\"#d8576b\"],[0.6666666666666666,\"#ed7953\"],[0.7777777777777778,\"#fb9f3a\"],[0.8888888888888888,\"#fdca26\"],[1.0,\"#f0f921\"]]}],\"heatmap\":[{\"type\":\"heatmap\",\"colorbar\":{\"outlinewidth\":0,\"ticks\":\"\"},\"colorscale\":[[0.0,\"#0d0887\"],[0.1111111111111111,\"#46039f\"],[0.2222222222222222,\"#7201a8\"],[0.3333333333333333,\"#9c179e\"],[0.4444444444444444,\"#bd3786\"],[0.5555555555555556,\"#d8576b\"],[0.6666666666666666,\"#ed7953\"],[0.7777777777777778,\"#fb9f3a\"],[0.8888888888888888,\"#fdca26\"],[1.0,\"#f0f921\"]]}],\"heatmapgl\":[{\"type\":\"heatmapgl\",\"colorbar\":{\"outlinewidth\":0,\"ticks\":\"\"},\"colorscale\":[[0.0,\"#0d0887\"],[0.1111111111111111,\"#46039f\"],[0.2222222222222222,\"#7201a8\"],[0.3333333333333333,\"#9c179e\"],[0.4444444444444444,\"#bd3786\"],[0.5555555555555556,\"#d8576b\"],[0.6666666666666666,\"#ed7953\"],[0.7777777777777778,\"#fb9f3a\"],[0.8888888888888888,\"#fdca26\"],[1.0,\"#f0f921\"]]}],\"contourcarpet\":[{\"type\":\"contourcarpet\",\"colorbar\":{\"outlinewidth\":0,\"ticks\":\"\"}}],\"contour\":[{\"type\":\"contour\",\"colorbar\":{\"outlinewidth\":0,\"ticks\":\"\"},\"colorscale\":[[0.0,\"#0d0887\"],[0.1111111111111111,\"#46039f\"],[0.2222222222222222,\"#7201a8\"],[0.3333333333333333,\"#9c179e\"],[0.4444444444444444,\"#bd3786\"],[0.5555555555555556,\"#d8576b\"],[0.6666666666666666,\"#ed7953\"],[0.7777777777777778,\"#fb9f3a\"],[0.8888888888888888,\"#fdca26\"],[1.0,\"#f0f921\"]]}],\"surface\":[{\"type\":\"surface\",\"colorbar\":{\"outlinewidth\":0,\"ticks\":\"\"},\"colorscale\":[[0.0,\"#0d0887\"],[0.1111111111111111,\"#46039f\"],[0.2222222222222222,\"#7201a8\"],[0.3333333333333333,\"#9c179e\"],[0.4444444444444444,\"#bd3786\"],[0.5555555555555556,\"#d8576b\"],[0.6666666666666666,\"#ed7953\"],[0.7777777777777778,\"#fb9f3a\"],[0.8888888888888888,\"#fdca26\"],[1.0,\"#f0f921\"]]}],\"mesh3d\":[{\"type\":\"mesh3d\",\"colorbar\":{\"outlinewidth\":0,\"ticks\":\"\"}}],\"scatter\":[{\"fillpattern\":{\"fillmode\":\"overlay\",\"size\":10,\"solidity\":0.2},\"type\":\"scatter\"}],\"parcoords\":[{\"type\":\"parcoords\",\"line\":{\"colorbar\":{\"outlinewidth\":0,\"ticks\":\"\"}}}],\"scatterpolargl\":[{\"type\":\"scatterpolargl\",\"marker\":{\"colorbar\":{\"outlinewidth\":0,\"ticks\":\"\"}}}],\"bar\":[{\"error_x\":{\"color\":\"#2a3f5f\"},\"error_y\":{\"color\":\"#2a3f5f\"},\"marker\":{\"line\":{\"color\":\"#E5ECF6\",\"width\":0.5},\"pattern\":{\"fillmode\":\"overlay\",\"size\":10,\"solidity\":0.2}},\"type\":\"bar\"}],\"scattergeo\":[{\"type\":\"scattergeo\",\"marker\":{\"colorbar\":{\"outlinewidth\":0,\"ticks\":\"\"}}}],\"scatterpolar\":[{\"type\":\"scatterpolar\",\"marker\":{\"colorbar\":{\"outlinewidth\":0,\"ticks\":\"\"}}}],\"histogram\":[{\"marker\":{\"pattern\":{\"fillmode\":\"overlay\",\"size\":10,\"solidity\":0.2}},\"type\":\"histogram\"}],\"scattergl\":[{\"type\":\"scattergl\",\"marker\":{\"colorbar\":{\"outlinewidth\":0,\"ticks\":\"\"}}}],\"scatter3d\":[{\"type\":\"scatter3d\",\"line\":{\"colorbar\":{\"outlinewidth\":0,\"ticks\":\"\"}},\"marker\":{\"colorbar\":{\"outlinewidth\":0,\"ticks\":\"\"}}}],\"scattermapbox\":[{\"type\":\"scattermapbox\",\"marker\":{\"colorbar\":{\"outlinewidth\":0,\"ticks\":\"\"}}}],\"scatterternary\":[{\"type\":\"scatterternary\",\"marker\":{\"colorbar\":{\"outlinewidth\":0,\"ticks\":\"\"}}}],\"scattercarpet\":[{\"type\":\"scattercarpet\",\"marker\":{\"colorbar\":{\"outlinewidth\":0,\"ticks\":\"\"}}}],\"carpet\":[{\"aaxis\":{\"endlinecolor\":\"#2a3f5f\",\"gridcolor\":\"white\",\"linecolor\":\"white\",\"minorgridcolor\":\"white\",\"startlinecolor\":\"#2a3f5f\"},\"baxis\":{\"endlinecolor\":\"#2a3f5f\",\"gridcolor\":\"white\",\"linecolor\":\"white\",\"minorgridcolor\":\"white\",\"startlinecolor\":\"#2a3f5f\"},\"type\":\"carpet\"}],\"table\":[{\"cells\":{\"fill\":{\"color\":\"#EBF0F8\"},\"line\":{\"color\":\"white\"}},\"header\":{\"fill\":{\"color\":\"#C8D4E3\"},\"line\":{\"color\":\"white\"}},\"type\":\"table\"}],\"barpolar\":[{\"marker\":{\"line\":{\"color\":\"#E5ECF6\",\"width\":0.5},\"pattern\":{\"fillmode\":\"overlay\",\"size\":10,\"solidity\":0.2}},\"type\":\"barpolar\"}],\"pie\":[{\"automargin\":true,\"type\":\"pie\"}]},\"layout\":{\"autotypenumbers\":\"strict\",\"colorway\":[\"#636efa\",\"#EF553B\",\"#00cc96\",\"#ab63fa\",\"#FFA15A\",\"#19d3f3\",\"#FF6692\",\"#B6E880\",\"#FF97FF\",\"#FECB52\"],\"font\":{\"color\":\"#2a3f5f\"},\"hovermode\":\"closest\",\"hoverlabel\":{\"align\":\"left\"},\"paper_bgcolor\":\"white\",\"plot_bgcolor\":\"#E5ECF6\",\"polar\":{\"bgcolor\":\"#E5ECF6\",\"angularaxis\":{\"gridcolor\":\"white\",\"linecolor\":\"white\",\"ticks\":\"\"},\"radialaxis\":{\"gridcolor\":\"white\",\"linecolor\":\"white\",\"ticks\":\"\"}},\"ternary\":{\"bgcolor\":\"#E5ECF6\",\"aaxis\":{\"gridcolor\":\"white\",\"linecolor\":\"white\",\"ticks\":\"\"},\"baxis\":{\"gridcolor\":\"white\",\"linecolor\":\"white\",\"ticks\":\"\"},\"caxis\":{\"gridcolor\":\"white\",\"linecolor\":\"white\",\"ticks\":\"\"}},\"coloraxis\":{\"colorbar\":{\"outlinewidth\":0,\"ticks\":\"\"}},\"colorscale\":{\"sequential\":[[0.0,\"#0d0887\"],[0.1111111111111111,\"#46039f\"],[0.2222222222222222,\"#7201a8\"],[0.3333333333333333,\"#9c179e\"],[0.4444444444444444,\"#bd3786\"],[0.5555555555555556,\"#d8576b\"],[0.6666666666666666,\"#ed7953\"],[0.7777777777777778,\"#fb9f3a\"],[0.8888888888888888,\"#fdca26\"],[1.0,\"#f0f921\"]],\"sequentialminus\":[[0.0,\"#0d0887\"],[0.1111111111111111,\"#46039f\"],[0.2222222222222222,\"#7201a8\"],[0.3333333333333333,\"#9c179e\"],[0.4444444444444444,\"#bd3786\"],[0.5555555555555556,\"#d8576b\"],[0.6666666666666666,\"#ed7953\"],[0.7777777777777778,\"#fb9f3a\"],[0.8888888888888888,\"#fdca26\"],[1.0,\"#f0f921\"]],\"diverging\":[[0,\"#8e0152\"],[0.1,\"#c51b7d\"],[0.2,\"#de77ae\"],[0.3,\"#f1b6da\"],[0.4,\"#fde0ef\"],[0.5,\"#f7f7f7\"],[0.6,\"#e6f5d0\"],[0.7,\"#b8e186\"],[0.8,\"#7fbc41\"],[0.9,\"#4d9221\"],[1,\"#276419\"]]},\"xaxis\":{\"gridcolor\":\"white\",\"linecolor\":\"white\",\"ticks\":\"\",\"title\":{\"standoff\":15},\"zerolinecolor\":\"white\",\"automargin\":true,\"zerolinewidth\":2},\"yaxis\":{\"gridcolor\":\"white\",\"linecolor\":\"white\",\"ticks\":\"\",\"title\":{\"standoff\":15},\"zerolinecolor\":\"white\",\"automargin\":true,\"zerolinewidth\":2},\"scene\":{\"xaxis\":{\"backgroundcolor\":\"#E5ECF6\",\"gridcolor\":\"white\",\"linecolor\":\"white\",\"showbackground\":true,\"ticks\":\"\",\"zerolinecolor\":\"white\",\"gridwidth\":2},\"yaxis\":{\"backgroundcolor\":\"#E5ECF6\",\"gridcolor\":\"white\",\"linecolor\":\"white\",\"showbackground\":true,\"ticks\":\"\",\"zerolinecolor\":\"white\",\"gridwidth\":2},\"zaxis\":{\"backgroundcolor\":\"#E5ECF6\",\"gridcolor\":\"white\",\"linecolor\":\"white\",\"showbackground\":true,\"ticks\":\"\",\"zerolinecolor\":\"white\",\"gridwidth\":2}},\"shapedefaults\":{\"line\":{\"color\":\"#2a3f5f\"}},\"annotationdefaults\":{\"arrowcolor\":\"#2a3f5f\",\"arrowhead\":0,\"arrowwidth\":1},\"geo\":{\"bgcolor\":\"white\",\"landcolor\":\"#E5ECF6\",\"subunitcolor\":\"white\",\"showland\":true,\"showlakes\":true,\"lakecolor\":\"white\"},\"title\":{\"x\":0.05},\"mapbox\":{\"style\":\"light\"}}},\"xaxis\":{\"anchor\":\"y\",\"domain\":[0.0,1.0],\"title\":{\"text\":\"QY\"}},\"yaxis\":{\"anchor\":\"x\",\"domain\":[0.0,1.0],\"title\":{\"text\":\"GDP (%)\"}},\"legend\":{\"title\":{\"text\":\"Independent\"},\"tracegroupgap\":0},\"title\":{\"text\":\"Yen_dollar and Revenue Over Quarters\"},\"yaxis2\":{\"title\":{\"text\":\"Revenue (millions)\"},\"overlaying\":\"y\",\"side\":\"right\",\"showgrid\":false}},                        {\"responsive\": true}                    ).then(function(){\n",
       "                            \n",
       "var gd = document.getElementById('8a843751-5479-4a4d-a542-7f6ddc843829');\n",
       "var x = new MutationObserver(function (mutations, observer) {{\n",
       "        var display = window.getComputedStyle(gd).display;\n",
       "        if (!display || display === 'none') {{\n",
       "            console.log([gd, 'removed!']);\n",
       "            Plotly.purge(gd);\n",
       "            observer.disconnect();\n",
       "        }}\n",
       "}});\n",
       "\n",
       "// Listen for the removal of the full notebook cells\n",
       "var notebookContainer = gd.closest('#notebook-container');\n",
       "if (notebookContainer) {{\n",
       "    x.observe(notebookContainer, {childList: true});\n",
       "}}\n",
       "\n",
       "// Listen for the clearing of the current output cell\n",
       "var outputEl = gd.closest('.output');\n",
       "if (outputEl) {{\n",
       "    x.observe(outputEl, {childList: true});\n",
       "}}\n",
       "\n",
       "                        })                };                });            </script>        </div>"
      ]
     },
     "metadata": {},
     "output_type": "display_data"
    }
   ],
   "source": [
    "# Create the initial line plot \n",
    "fig = px.line(df, x='QY', y=['Yen_dollar'], title='Yen_dollar and Revenue Over Quarters',\n",
    "              labels={'value': 'Yen_dollar', 'variable': 'Independent'}, markers=True)\n",
    "\n",
    "# Add Revenue data as a secondary y-axis\n",
    "fig.add_trace(\n",
    "    go.Scatter(x=df['QY'], y=df['Revenue'], name='Revenue (millions)', yaxis='y2')\n",
    ")\n",
    "\n",
    "# Create a layout with two y-axes\n",
    "fig.update_layout(\n",
    "    yaxis=dict(\n",
    "        title='GDP (%)',\n",
    "    ),\n",
    "    yaxis2=dict(\n",
    "        title='Revenue (millions)',\n",
    "        overlaying='y',\n",
    "        side='right',\n",
    "        showgrid=False,  # To not duplicate grid lines\n",
    "    )\n",
    ")\n",
    "\n",
    "# Show the plot\n",
    "fig.show()"
   ]
  },
  {
   "cell_type": "markdown",
   "id": "5c8c3323",
   "metadata": {
    "papermill": {
     "duration": 0.029763,
     "end_time": "2023-12-22T21:17:57.848723",
     "exception": false,
     "start_time": "2023-12-22T21:17:57.818960",
     "status": "completed"
    },
    "tags": []
   },
   "source": [
    "## **Online Sale**"
   ]
  },
  {
   "cell_type": "code",
   "execution_count": 18,
   "id": "c518b2df",
   "metadata": {
    "execution": {
     "iopub.execute_input": "2023-12-22T21:17:57.911347Z",
     "iopub.status.busy": "2023-12-22T21:17:57.910816Z",
     "iopub.status.idle": "2023-12-22T21:17:58.001271Z",
     "shell.execute_reply": "2023-12-22T21:17:57.999720Z"
    },
    "papermill": {
     "duration": 0.125826,
     "end_time": "2023-12-22T21:17:58.004443",
     "exception": false,
     "start_time": "2023-12-22T21:17:57.878617",
     "status": "completed"
    },
    "tags": []
   },
   "outputs": [
    {
     "data": {
      "text/html": [
       "<div>                            <div id=\"2115dfc7-c258-482f-8a77-39b5d251986b\" class=\"plotly-graph-div\" style=\"height:525px; width:100%;\"></div>            <script type=\"text/javascript\">                require([\"plotly\"], function(Plotly) {                    window.PLOTLYENV=window.PLOTLYENV || {};                                    if (document.getElementById(\"2115dfc7-c258-482f-8a77-39b5d251986b\")) {                    Plotly.newPlot(                        \"2115dfc7-c258-482f-8a77-39b5d251986b\",                        [{\"hovertemplate\":\"Independent=Online Sales\\u003cbr\\u003eQY=%{x}\\u003cbr\\u003eOnline Sales=%{y}\\u003cextra\\u003e\\u003c\\u002fextra\\u003e\",\"legendgroup\":\"Online Sales\",\"line\":{\"color\":\"#636efa\",\"dash\":\"solid\"},\"marker\":{\"symbol\":\"circle\"},\"mode\":\"markers+lines\",\"name\":\"Online Sales\",\"orientation\":\"v\",\"showlegend\":true,\"x\":[\"2017Q3\",\"2017Q4\",\"2018Q1\",\"2018Q2\",\"2018Q3\",\"2018Q4\",\"2019Q1\",\"2019Q2\",\"2019Q3\",\"2019Q4\",\"2020Q1\",\"2020Q2\",\"2020Q3\",\"2020Q4\",\"2021Q1\",\"2021Q2\",\"2021Q3\",\"2021Q4\",\"2022Q1\",\"2022Q2\",\"2022Q3\",\"2022Q4\",\"2023Q1\",\"2023Q2\",\"2023Q3\"],\"xaxis\":\"x\",\"y\":[0,0,0,0,0,2831,0,0,3412,3422,3447,2703,3821,4506,4134,4675,4921,4912,4790,5034,5312,5659,5583,0,5581],\"yaxis\":\"y\",\"type\":\"scatter\"},{\"name\":\"Revenue (millions)\",\"x\":[\"2017Q3\",\"2017Q4\",\"2018Q1\",\"2018Q2\",\"2018Q3\",\"2018Q4\",\"2019Q1\",\"2019Q2\",\"2019Q3\",\"2019Q4\",\"2020Q1\",\"2020Q2\",\"2020Q3\",\"2020Q4\",\"2021Q1\",\"2021Q2\",\"2021Q3\",\"2021Q4\",\"2022Q1\",\"2022Q2\",\"2022Q3\",\"2022Q4\",\"2023Q1\",\"2023Q2\",\"2023Q3\"],\"y\":[9070,8554,8984,9789,9948,9374,9611,10184,10660,10326,10104,6313,10594,11243,10357,12344,12248,11357,10871,12234,12687,13315,12390,12825,12939],\"yaxis\":\"y2\",\"type\":\"scatter\"}],                        {\"template\":{\"data\":{\"histogram2dcontour\":[{\"type\":\"histogram2dcontour\",\"colorbar\":{\"outlinewidth\":0,\"ticks\":\"\"},\"colorscale\":[[0.0,\"#0d0887\"],[0.1111111111111111,\"#46039f\"],[0.2222222222222222,\"#7201a8\"],[0.3333333333333333,\"#9c179e\"],[0.4444444444444444,\"#bd3786\"],[0.5555555555555556,\"#d8576b\"],[0.6666666666666666,\"#ed7953\"],[0.7777777777777778,\"#fb9f3a\"],[0.8888888888888888,\"#fdca26\"],[1.0,\"#f0f921\"]]}],\"choropleth\":[{\"type\":\"choropleth\",\"colorbar\":{\"outlinewidth\":0,\"ticks\":\"\"}}],\"histogram2d\":[{\"type\":\"histogram2d\",\"colorbar\":{\"outlinewidth\":0,\"ticks\":\"\"},\"colorscale\":[[0.0,\"#0d0887\"],[0.1111111111111111,\"#46039f\"],[0.2222222222222222,\"#7201a8\"],[0.3333333333333333,\"#9c179e\"],[0.4444444444444444,\"#bd3786\"],[0.5555555555555556,\"#d8576b\"],[0.6666666666666666,\"#ed7953\"],[0.7777777777777778,\"#fb9f3a\"],[0.8888888888888888,\"#fdca26\"],[1.0,\"#f0f921\"]]}],\"heatmap\":[{\"type\":\"heatmap\",\"colorbar\":{\"outlinewidth\":0,\"ticks\":\"\"},\"colorscale\":[[0.0,\"#0d0887\"],[0.1111111111111111,\"#46039f\"],[0.2222222222222222,\"#7201a8\"],[0.3333333333333333,\"#9c179e\"],[0.4444444444444444,\"#bd3786\"],[0.5555555555555556,\"#d8576b\"],[0.6666666666666666,\"#ed7953\"],[0.7777777777777778,\"#fb9f3a\"],[0.8888888888888888,\"#fdca26\"],[1.0,\"#f0f921\"]]}],\"heatmapgl\":[{\"type\":\"heatmapgl\",\"colorbar\":{\"outlinewidth\":0,\"ticks\":\"\"},\"colorscale\":[[0.0,\"#0d0887\"],[0.1111111111111111,\"#46039f\"],[0.2222222222222222,\"#7201a8\"],[0.3333333333333333,\"#9c179e\"],[0.4444444444444444,\"#bd3786\"],[0.5555555555555556,\"#d8576b\"],[0.6666666666666666,\"#ed7953\"],[0.7777777777777778,\"#fb9f3a\"],[0.8888888888888888,\"#fdca26\"],[1.0,\"#f0f921\"]]}],\"contourcarpet\":[{\"type\":\"contourcarpet\",\"colorbar\":{\"outlinewidth\":0,\"ticks\":\"\"}}],\"contour\":[{\"type\":\"contour\",\"colorbar\":{\"outlinewidth\":0,\"ticks\":\"\"},\"colorscale\":[[0.0,\"#0d0887\"],[0.1111111111111111,\"#46039f\"],[0.2222222222222222,\"#7201a8\"],[0.3333333333333333,\"#9c179e\"],[0.4444444444444444,\"#bd3786\"],[0.5555555555555556,\"#d8576b\"],[0.6666666666666666,\"#ed7953\"],[0.7777777777777778,\"#fb9f3a\"],[0.8888888888888888,\"#fdca26\"],[1.0,\"#f0f921\"]]}],\"surface\":[{\"type\":\"surface\",\"colorbar\":{\"outlinewidth\":0,\"ticks\":\"\"},\"colorscale\":[[0.0,\"#0d0887\"],[0.1111111111111111,\"#46039f\"],[0.2222222222222222,\"#7201a8\"],[0.3333333333333333,\"#9c179e\"],[0.4444444444444444,\"#bd3786\"],[0.5555555555555556,\"#d8576b\"],[0.6666666666666666,\"#ed7953\"],[0.7777777777777778,\"#fb9f3a\"],[0.8888888888888888,\"#fdca26\"],[1.0,\"#f0f921\"]]}],\"mesh3d\":[{\"type\":\"mesh3d\",\"colorbar\":{\"outlinewidth\":0,\"ticks\":\"\"}}],\"scatter\":[{\"fillpattern\":{\"fillmode\":\"overlay\",\"size\":10,\"solidity\":0.2},\"type\":\"scatter\"}],\"parcoords\":[{\"type\":\"parcoords\",\"line\":{\"colorbar\":{\"outlinewidth\":0,\"ticks\":\"\"}}}],\"scatterpolargl\":[{\"type\":\"scatterpolargl\",\"marker\":{\"colorbar\":{\"outlinewidth\":0,\"ticks\":\"\"}}}],\"bar\":[{\"error_x\":{\"color\":\"#2a3f5f\"},\"error_y\":{\"color\":\"#2a3f5f\"},\"marker\":{\"line\":{\"color\":\"#E5ECF6\",\"width\":0.5},\"pattern\":{\"fillmode\":\"overlay\",\"size\":10,\"solidity\":0.2}},\"type\":\"bar\"}],\"scattergeo\":[{\"type\":\"scattergeo\",\"marker\":{\"colorbar\":{\"outlinewidth\":0,\"ticks\":\"\"}}}],\"scatterpolar\":[{\"type\":\"scatterpolar\",\"marker\":{\"colorbar\":{\"outlinewidth\":0,\"ticks\":\"\"}}}],\"histogram\":[{\"marker\":{\"pattern\":{\"fillmode\":\"overlay\",\"size\":10,\"solidity\":0.2}},\"type\":\"histogram\"}],\"scattergl\":[{\"type\":\"scattergl\",\"marker\":{\"colorbar\":{\"outlinewidth\":0,\"ticks\":\"\"}}}],\"scatter3d\":[{\"type\":\"scatter3d\",\"line\":{\"colorbar\":{\"outlinewidth\":0,\"ticks\":\"\"}},\"marker\":{\"colorbar\":{\"outlinewidth\":0,\"ticks\":\"\"}}}],\"scattermapbox\":[{\"type\":\"scattermapbox\",\"marker\":{\"colorbar\":{\"outlinewidth\":0,\"ticks\":\"\"}}}],\"scatterternary\":[{\"type\":\"scatterternary\",\"marker\":{\"colorbar\":{\"outlinewidth\":0,\"ticks\":\"\"}}}],\"scattercarpet\":[{\"type\":\"scattercarpet\",\"marker\":{\"colorbar\":{\"outlinewidth\":0,\"ticks\":\"\"}}}],\"carpet\":[{\"aaxis\":{\"endlinecolor\":\"#2a3f5f\",\"gridcolor\":\"white\",\"linecolor\":\"white\",\"minorgridcolor\":\"white\",\"startlinecolor\":\"#2a3f5f\"},\"baxis\":{\"endlinecolor\":\"#2a3f5f\",\"gridcolor\":\"white\",\"linecolor\":\"white\",\"minorgridcolor\":\"white\",\"startlinecolor\":\"#2a3f5f\"},\"type\":\"carpet\"}],\"table\":[{\"cells\":{\"fill\":{\"color\":\"#EBF0F8\"},\"line\":{\"color\":\"white\"}},\"header\":{\"fill\":{\"color\":\"#C8D4E3\"},\"line\":{\"color\":\"white\"}},\"type\":\"table\"}],\"barpolar\":[{\"marker\":{\"line\":{\"color\":\"#E5ECF6\",\"width\":0.5},\"pattern\":{\"fillmode\":\"overlay\",\"size\":10,\"solidity\":0.2}},\"type\":\"barpolar\"}],\"pie\":[{\"automargin\":true,\"type\":\"pie\"}]},\"layout\":{\"autotypenumbers\":\"strict\",\"colorway\":[\"#636efa\",\"#EF553B\",\"#00cc96\",\"#ab63fa\",\"#FFA15A\",\"#19d3f3\",\"#FF6692\",\"#B6E880\",\"#FF97FF\",\"#FECB52\"],\"font\":{\"color\":\"#2a3f5f\"},\"hovermode\":\"closest\",\"hoverlabel\":{\"align\":\"left\"},\"paper_bgcolor\":\"white\",\"plot_bgcolor\":\"#E5ECF6\",\"polar\":{\"bgcolor\":\"#E5ECF6\",\"angularaxis\":{\"gridcolor\":\"white\",\"linecolor\":\"white\",\"ticks\":\"\"},\"radialaxis\":{\"gridcolor\":\"white\",\"linecolor\":\"white\",\"ticks\":\"\"}},\"ternary\":{\"bgcolor\":\"#E5ECF6\",\"aaxis\":{\"gridcolor\":\"white\",\"linecolor\":\"white\",\"ticks\":\"\"},\"baxis\":{\"gridcolor\":\"white\",\"linecolor\":\"white\",\"ticks\":\"\"},\"caxis\":{\"gridcolor\":\"white\",\"linecolor\":\"white\",\"ticks\":\"\"}},\"coloraxis\":{\"colorbar\":{\"outlinewidth\":0,\"ticks\":\"\"}},\"colorscale\":{\"sequential\":[[0.0,\"#0d0887\"],[0.1111111111111111,\"#46039f\"],[0.2222222222222222,\"#7201a8\"],[0.3333333333333333,\"#9c179e\"],[0.4444444444444444,\"#bd3786\"],[0.5555555555555556,\"#d8576b\"],[0.6666666666666666,\"#ed7953\"],[0.7777777777777778,\"#fb9f3a\"],[0.8888888888888888,\"#fdca26\"],[1.0,\"#f0f921\"]],\"sequentialminus\":[[0.0,\"#0d0887\"],[0.1111111111111111,\"#46039f\"],[0.2222222222222222,\"#7201a8\"],[0.3333333333333333,\"#9c179e\"],[0.4444444444444444,\"#bd3786\"],[0.5555555555555556,\"#d8576b\"],[0.6666666666666666,\"#ed7953\"],[0.7777777777777778,\"#fb9f3a\"],[0.8888888888888888,\"#fdca26\"],[1.0,\"#f0f921\"]],\"diverging\":[[0,\"#8e0152\"],[0.1,\"#c51b7d\"],[0.2,\"#de77ae\"],[0.3,\"#f1b6da\"],[0.4,\"#fde0ef\"],[0.5,\"#f7f7f7\"],[0.6,\"#e6f5d0\"],[0.7,\"#b8e186\"],[0.8,\"#7fbc41\"],[0.9,\"#4d9221\"],[1,\"#276419\"]]},\"xaxis\":{\"gridcolor\":\"white\",\"linecolor\":\"white\",\"ticks\":\"\",\"title\":{\"standoff\":15},\"zerolinecolor\":\"white\",\"automargin\":true,\"zerolinewidth\":2},\"yaxis\":{\"gridcolor\":\"white\",\"linecolor\":\"white\",\"ticks\":\"\",\"title\":{\"standoff\":15},\"zerolinecolor\":\"white\",\"automargin\":true,\"zerolinewidth\":2},\"scene\":{\"xaxis\":{\"backgroundcolor\":\"#E5ECF6\",\"gridcolor\":\"white\",\"linecolor\":\"white\",\"showbackground\":true,\"ticks\":\"\",\"zerolinecolor\":\"white\",\"gridwidth\":2},\"yaxis\":{\"backgroundcolor\":\"#E5ECF6\",\"gridcolor\":\"white\",\"linecolor\":\"white\",\"showbackground\":true,\"ticks\":\"\",\"zerolinecolor\":\"white\",\"gridwidth\":2},\"zaxis\":{\"backgroundcolor\":\"#E5ECF6\",\"gridcolor\":\"white\",\"linecolor\":\"white\",\"showbackground\":true,\"ticks\":\"\",\"zerolinecolor\":\"white\",\"gridwidth\":2}},\"shapedefaults\":{\"line\":{\"color\":\"#2a3f5f\"}},\"annotationdefaults\":{\"arrowcolor\":\"#2a3f5f\",\"arrowhead\":0,\"arrowwidth\":1},\"geo\":{\"bgcolor\":\"white\",\"landcolor\":\"#E5ECF6\",\"subunitcolor\":\"white\",\"showland\":true,\"showlakes\":true,\"lakecolor\":\"white\"},\"title\":{\"x\":0.05},\"mapbox\":{\"style\":\"light\"}}},\"xaxis\":{\"anchor\":\"y\",\"domain\":[0.0,1.0],\"title\":{\"text\":\"QY\"}},\"yaxis\":{\"anchor\":\"x\",\"domain\":[0.0,1.0],\"title\":{\"text\":\"GDP (%)\"}},\"legend\":{\"title\":{\"text\":\"Independent\"},\"tracegroupgap\":0},\"title\":{\"text\":\"Online Sales and Revenue Over Quarters\"},\"yaxis2\":{\"title\":{\"text\":\"Revenue (millions)\"},\"overlaying\":\"y\",\"side\":\"right\",\"showgrid\":false}},                        {\"responsive\": true}                    ).then(function(){\n",
       "                            \n",
       "var gd = document.getElementById('2115dfc7-c258-482f-8a77-39b5d251986b');\n",
       "var x = new MutationObserver(function (mutations, observer) {{\n",
       "        var display = window.getComputedStyle(gd).display;\n",
       "        if (!display || display === 'none') {{\n",
       "            console.log([gd, 'removed!']);\n",
       "            Plotly.purge(gd);\n",
       "            observer.disconnect();\n",
       "        }}\n",
       "}});\n",
       "\n",
       "// Listen for the removal of the full notebook cells\n",
       "var notebookContainer = gd.closest('#notebook-container');\n",
       "if (notebookContainer) {{\n",
       "    x.observe(notebookContainer, {childList: true});\n",
       "}}\n",
       "\n",
       "// Listen for the clearing of the current output cell\n",
       "var outputEl = gd.closest('.output');\n",
       "if (outputEl) {{\n",
       "    x.observe(outputEl, {childList: true});\n",
       "}}\n",
       "\n",
       "                        })                };                });            </script>        </div>"
      ]
     },
     "metadata": {},
     "output_type": "display_data"
    }
   ],
   "source": [
    "# Create the initial line plot \n",
    "fig = px.line(df, x='QY', y=['Online Sales'], title='Online Sales and Revenue Over Quarters',\n",
    "              labels={'value': 'Online Sales', 'variable': 'Independent'}, markers=True)\n",
    "\n",
    "# Add Revenue data as a secondary y-axis\n",
    "fig.add_trace(\n",
    "    go.Scatter(x=df['QY'], y=df['Revenue'], name='Revenue (millions)', yaxis='y2')\n",
    ")\n",
    "\n",
    "# Create a layout with two y-axes\n",
    "fig.update_layout(\n",
    "    yaxis=dict(\n",
    "        title='GDP (%)',\n",
    "    ),\n",
    "    yaxis2=dict(\n",
    "        title='Revenue (millions)',\n",
    "        overlaying='y',\n",
    "        side='right',\n",
    "        showgrid=False,  # To not duplicate grid lines\n",
    "    )\n",
    ")\n",
    "\n",
    "# Show the plot\n",
    "fig.show()"
   ]
  },
  {
   "cell_type": "markdown",
   "id": "5982f1b5",
   "metadata": {
    "papermill": {
     "duration": 0.030081,
     "end_time": "2023-12-22T21:17:58.065460",
     "exception": false,
     "start_time": "2023-12-22T21:17:58.035379",
     "status": "completed"
    },
    "tags": []
   },
   "source": [
    "## **Retail Sale**"
   ]
  },
  {
   "cell_type": "code",
   "execution_count": 19,
   "id": "0ea35bea",
   "metadata": {
    "execution": {
     "iopub.execute_input": "2023-12-22T21:17:58.130393Z",
     "iopub.status.busy": "2023-12-22T21:17:58.129862Z",
     "iopub.status.idle": "2023-12-22T21:17:58.220597Z",
     "shell.execute_reply": "2023-12-22T21:17:58.219172Z"
    },
    "papermill": {
     "duration": 0.12715,
     "end_time": "2023-12-22T21:17:58.223264",
     "exception": false,
     "start_time": "2023-12-22T21:17:58.096114",
     "status": "completed"
    },
    "tags": []
   },
   "outputs": [
    {
     "data": {
      "text/html": [
       "<div>                            <div id=\"7f54f9cd-ef68-4f24-8c70-cf570db0b0bf\" class=\"plotly-graph-div\" style=\"height:525px; width:100%;\"></div>            <script type=\"text/javascript\">                require([\"plotly\"], function(Plotly) {                    window.PLOTLYENV=window.PLOTLYENV || {};                                    if (document.getElementById(\"7f54f9cd-ef68-4f24-8c70-cf570db0b0bf\")) {                    Plotly.newPlot(                        \"7f54f9cd-ef68-4f24-8c70-cf570db0b0bf\",                        [{\"hovertemplate\":\"Independent=Retail Sales\\u003cbr\\u003eQY=%{x}\\u003cbr\\u003eRetail Sales=%{y}\\u003cextra\\u003e\\u003c\\u002fextra\\u003e\",\"legendgroup\":\"Retail Sales\",\"line\":{\"color\":\"#636efa\",\"dash\":\"solid\"},\"marker\":{\"symbol\":\"circle\"},\"mode\":\"markers+lines\",\"name\":\"Retail Sales\",\"orientation\":\"v\",\"showlegend\":true,\"x\":[\"2017Q3\",\"2017Q4\",\"2018Q1\",\"2018Q2\",\"2018Q3\",\"2018Q4\",\"2019Q1\",\"2019Q2\",\"2019Q3\",\"2019Q4\",\"2020Q1\",\"2020Q2\",\"2020Q3\",\"2020Q4\",\"2021Q1\",\"2021Q2\",\"2021Q3\",\"2021Q4\",\"2022Q1\",\"2022Q2\",\"2022Q3\",\"2022Q4\",\"2023Q1\",\"2023Q2\",\"2023Q3\"],\"xaxis\":\"x\",\"y\":[2535,2484,2611,2798,2851,0,3095,3255,0,0,0,0,0,0,0,0,0,0,0,0,0,0,0,0,0],\"yaxis\":\"y\",\"type\":\"scatter\"},{\"name\":\"Revenue (millions)\",\"x\":[\"2017Q3\",\"2017Q4\",\"2018Q1\",\"2018Q2\",\"2018Q3\",\"2018Q4\",\"2019Q1\",\"2019Q2\",\"2019Q3\",\"2019Q4\",\"2020Q1\",\"2020Q2\",\"2020Q3\",\"2020Q4\",\"2021Q1\",\"2021Q2\",\"2021Q3\",\"2021Q4\",\"2022Q1\",\"2022Q2\",\"2022Q3\",\"2022Q4\",\"2023Q1\",\"2023Q2\",\"2023Q3\"],\"y\":[9070,8554,8984,9789,9948,9374,9611,10184,10660,10326,10104,6313,10594,11243,10357,12344,12248,11357,10871,12234,12687,13315,12390,12825,12939],\"yaxis\":\"y2\",\"type\":\"scatter\"}],                        {\"template\":{\"data\":{\"histogram2dcontour\":[{\"type\":\"histogram2dcontour\",\"colorbar\":{\"outlinewidth\":0,\"ticks\":\"\"},\"colorscale\":[[0.0,\"#0d0887\"],[0.1111111111111111,\"#46039f\"],[0.2222222222222222,\"#7201a8\"],[0.3333333333333333,\"#9c179e\"],[0.4444444444444444,\"#bd3786\"],[0.5555555555555556,\"#d8576b\"],[0.6666666666666666,\"#ed7953\"],[0.7777777777777778,\"#fb9f3a\"],[0.8888888888888888,\"#fdca26\"],[1.0,\"#f0f921\"]]}],\"choropleth\":[{\"type\":\"choropleth\",\"colorbar\":{\"outlinewidth\":0,\"ticks\":\"\"}}],\"histogram2d\":[{\"type\":\"histogram2d\",\"colorbar\":{\"outlinewidth\":0,\"ticks\":\"\"},\"colorscale\":[[0.0,\"#0d0887\"],[0.1111111111111111,\"#46039f\"],[0.2222222222222222,\"#7201a8\"],[0.3333333333333333,\"#9c179e\"],[0.4444444444444444,\"#bd3786\"],[0.5555555555555556,\"#d8576b\"],[0.6666666666666666,\"#ed7953\"],[0.7777777777777778,\"#fb9f3a\"],[0.8888888888888888,\"#fdca26\"],[1.0,\"#f0f921\"]]}],\"heatmap\":[{\"type\":\"heatmap\",\"colorbar\":{\"outlinewidth\":0,\"ticks\":\"\"},\"colorscale\":[[0.0,\"#0d0887\"],[0.1111111111111111,\"#46039f\"],[0.2222222222222222,\"#7201a8\"],[0.3333333333333333,\"#9c179e\"],[0.4444444444444444,\"#bd3786\"],[0.5555555555555556,\"#d8576b\"],[0.6666666666666666,\"#ed7953\"],[0.7777777777777778,\"#fb9f3a\"],[0.8888888888888888,\"#fdca26\"],[1.0,\"#f0f921\"]]}],\"heatmapgl\":[{\"type\":\"heatmapgl\",\"colorbar\":{\"outlinewidth\":0,\"ticks\":\"\"},\"colorscale\":[[0.0,\"#0d0887\"],[0.1111111111111111,\"#46039f\"],[0.2222222222222222,\"#7201a8\"],[0.3333333333333333,\"#9c179e\"],[0.4444444444444444,\"#bd3786\"],[0.5555555555555556,\"#d8576b\"],[0.6666666666666666,\"#ed7953\"],[0.7777777777777778,\"#fb9f3a\"],[0.8888888888888888,\"#fdca26\"],[1.0,\"#f0f921\"]]}],\"contourcarpet\":[{\"type\":\"contourcarpet\",\"colorbar\":{\"outlinewidth\":0,\"ticks\":\"\"}}],\"contour\":[{\"type\":\"contour\",\"colorbar\":{\"outlinewidth\":0,\"ticks\":\"\"},\"colorscale\":[[0.0,\"#0d0887\"],[0.1111111111111111,\"#46039f\"],[0.2222222222222222,\"#7201a8\"],[0.3333333333333333,\"#9c179e\"],[0.4444444444444444,\"#bd3786\"],[0.5555555555555556,\"#d8576b\"],[0.6666666666666666,\"#ed7953\"],[0.7777777777777778,\"#fb9f3a\"],[0.8888888888888888,\"#fdca26\"],[1.0,\"#f0f921\"]]}],\"surface\":[{\"type\":\"surface\",\"colorbar\":{\"outlinewidth\":0,\"ticks\":\"\"},\"colorscale\":[[0.0,\"#0d0887\"],[0.1111111111111111,\"#46039f\"],[0.2222222222222222,\"#7201a8\"],[0.3333333333333333,\"#9c179e\"],[0.4444444444444444,\"#bd3786\"],[0.5555555555555556,\"#d8576b\"],[0.6666666666666666,\"#ed7953\"],[0.7777777777777778,\"#fb9f3a\"],[0.8888888888888888,\"#fdca26\"],[1.0,\"#f0f921\"]]}],\"mesh3d\":[{\"type\":\"mesh3d\",\"colorbar\":{\"outlinewidth\":0,\"ticks\":\"\"}}],\"scatter\":[{\"fillpattern\":{\"fillmode\":\"overlay\",\"size\":10,\"solidity\":0.2},\"type\":\"scatter\"}],\"parcoords\":[{\"type\":\"parcoords\",\"line\":{\"colorbar\":{\"outlinewidth\":0,\"ticks\":\"\"}}}],\"scatterpolargl\":[{\"type\":\"scatterpolargl\",\"marker\":{\"colorbar\":{\"outlinewidth\":0,\"ticks\":\"\"}}}],\"bar\":[{\"error_x\":{\"color\":\"#2a3f5f\"},\"error_y\":{\"color\":\"#2a3f5f\"},\"marker\":{\"line\":{\"color\":\"#E5ECF6\",\"width\":0.5},\"pattern\":{\"fillmode\":\"overlay\",\"size\":10,\"solidity\":0.2}},\"type\":\"bar\"}],\"scattergeo\":[{\"type\":\"scattergeo\",\"marker\":{\"colorbar\":{\"outlinewidth\":0,\"ticks\":\"\"}}}],\"scatterpolar\":[{\"type\":\"scatterpolar\",\"marker\":{\"colorbar\":{\"outlinewidth\":0,\"ticks\":\"\"}}}],\"histogram\":[{\"marker\":{\"pattern\":{\"fillmode\":\"overlay\",\"size\":10,\"solidity\":0.2}},\"type\":\"histogram\"}],\"scattergl\":[{\"type\":\"scattergl\",\"marker\":{\"colorbar\":{\"outlinewidth\":0,\"ticks\":\"\"}}}],\"scatter3d\":[{\"type\":\"scatter3d\",\"line\":{\"colorbar\":{\"outlinewidth\":0,\"ticks\":\"\"}},\"marker\":{\"colorbar\":{\"outlinewidth\":0,\"ticks\":\"\"}}}],\"scattermapbox\":[{\"type\":\"scattermapbox\",\"marker\":{\"colorbar\":{\"outlinewidth\":0,\"ticks\":\"\"}}}],\"scatterternary\":[{\"type\":\"scatterternary\",\"marker\":{\"colorbar\":{\"outlinewidth\":0,\"ticks\":\"\"}}}],\"scattercarpet\":[{\"type\":\"scattercarpet\",\"marker\":{\"colorbar\":{\"outlinewidth\":0,\"ticks\":\"\"}}}],\"carpet\":[{\"aaxis\":{\"endlinecolor\":\"#2a3f5f\",\"gridcolor\":\"white\",\"linecolor\":\"white\",\"minorgridcolor\":\"white\",\"startlinecolor\":\"#2a3f5f\"},\"baxis\":{\"endlinecolor\":\"#2a3f5f\",\"gridcolor\":\"white\",\"linecolor\":\"white\",\"minorgridcolor\":\"white\",\"startlinecolor\":\"#2a3f5f\"},\"type\":\"carpet\"}],\"table\":[{\"cells\":{\"fill\":{\"color\":\"#EBF0F8\"},\"line\":{\"color\":\"white\"}},\"header\":{\"fill\":{\"color\":\"#C8D4E3\"},\"line\":{\"color\":\"white\"}},\"type\":\"table\"}],\"barpolar\":[{\"marker\":{\"line\":{\"color\":\"#E5ECF6\",\"width\":0.5},\"pattern\":{\"fillmode\":\"overlay\",\"size\":10,\"solidity\":0.2}},\"type\":\"barpolar\"}],\"pie\":[{\"automargin\":true,\"type\":\"pie\"}]},\"layout\":{\"autotypenumbers\":\"strict\",\"colorway\":[\"#636efa\",\"#EF553B\",\"#00cc96\",\"#ab63fa\",\"#FFA15A\",\"#19d3f3\",\"#FF6692\",\"#B6E880\",\"#FF97FF\",\"#FECB52\"],\"font\":{\"color\":\"#2a3f5f\"},\"hovermode\":\"closest\",\"hoverlabel\":{\"align\":\"left\"},\"paper_bgcolor\":\"white\",\"plot_bgcolor\":\"#E5ECF6\",\"polar\":{\"bgcolor\":\"#E5ECF6\",\"angularaxis\":{\"gridcolor\":\"white\",\"linecolor\":\"white\",\"ticks\":\"\"},\"radialaxis\":{\"gridcolor\":\"white\",\"linecolor\":\"white\",\"ticks\":\"\"}},\"ternary\":{\"bgcolor\":\"#E5ECF6\",\"aaxis\":{\"gridcolor\":\"white\",\"linecolor\":\"white\",\"ticks\":\"\"},\"baxis\":{\"gridcolor\":\"white\",\"linecolor\":\"white\",\"ticks\":\"\"},\"caxis\":{\"gridcolor\":\"white\",\"linecolor\":\"white\",\"ticks\":\"\"}},\"coloraxis\":{\"colorbar\":{\"outlinewidth\":0,\"ticks\":\"\"}},\"colorscale\":{\"sequential\":[[0.0,\"#0d0887\"],[0.1111111111111111,\"#46039f\"],[0.2222222222222222,\"#7201a8\"],[0.3333333333333333,\"#9c179e\"],[0.4444444444444444,\"#bd3786\"],[0.5555555555555556,\"#d8576b\"],[0.6666666666666666,\"#ed7953\"],[0.7777777777777778,\"#fb9f3a\"],[0.8888888888888888,\"#fdca26\"],[1.0,\"#f0f921\"]],\"sequentialminus\":[[0.0,\"#0d0887\"],[0.1111111111111111,\"#46039f\"],[0.2222222222222222,\"#7201a8\"],[0.3333333333333333,\"#9c179e\"],[0.4444444444444444,\"#bd3786\"],[0.5555555555555556,\"#d8576b\"],[0.6666666666666666,\"#ed7953\"],[0.7777777777777778,\"#fb9f3a\"],[0.8888888888888888,\"#fdca26\"],[1.0,\"#f0f921\"]],\"diverging\":[[0,\"#8e0152\"],[0.1,\"#c51b7d\"],[0.2,\"#de77ae\"],[0.3,\"#f1b6da\"],[0.4,\"#fde0ef\"],[0.5,\"#f7f7f7\"],[0.6,\"#e6f5d0\"],[0.7,\"#b8e186\"],[0.8,\"#7fbc41\"],[0.9,\"#4d9221\"],[1,\"#276419\"]]},\"xaxis\":{\"gridcolor\":\"white\",\"linecolor\":\"white\",\"ticks\":\"\",\"title\":{\"standoff\":15},\"zerolinecolor\":\"white\",\"automargin\":true,\"zerolinewidth\":2},\"yaxis\":{\"gridcolor\":\"white\",\"linecolor\":\"white\",\"ticks\":\"\",\"title\":{\"standoff\":15},\"zerolinecolor\":\"white\",\"automargin\":true,\"zerolinewidth\":2},\"scene\":{\"xaxis\":{\"backgroundcolor\":\"#E5ECF6\",\"gridcolor\":\"white\",\"linecolor\":\"white\",\"showbackground\":true,\"ticks\":\"\",\"zerolinecolor\":\"white\",\"gridwidth\":2},\"yaxis\":{\"backgroundcolor\":\"#E5ECF6\",\"gridcolor\":\"white\",\"linecolor\":\"white\",\"showbackground\":true,\"ticks\":\"\",\"zerolinecolor\":\"white\",\"gridwidth\":2},\"zaxis\":{\"backgroundcolor\":\"#E5ECF6\",\"gridcolor\":\"white\",\"linecolor\":\"white\",\"showbackground\":true,\"ticks\":\"\",\"zerolinecolor\":\"white\",\"gridwidth\":2}},\"shapedefaults\":{\"line\":{\"color\":\"#2a3f5f\"}},\"annotationdefaults\":{\"arrowcolor\":\"#2a3f5f\",\"arrowhead\":0,\"arrowwidth\":1},\"geo\":{\"bgcolor\":\"white\",\"landcolor\":\"#E5ECF6\",\"subunitcolor\":\"white\",\"showland\":true,\"showlakes\":true,\"lakecolor\":\"white\"},\"title\":{\"x\":0.05},\"mapbox\":{\"style\":\"light\"}}},\"xaxis\":{\"anchor\":\"y\",\"domain\":[0.0,1.0],\"title\":{\"text\":\"QY\"}},\"yaxis\":{\"anchor\":\"x\",\"domain\":[0.0,1.0],\"title\":{\"text\":\"GDP (%)\"}},\"legend\":{\"title\":{\"text\":\"Independent\"},\"tracegroupgap\":0},\"title\":{\"text\":\"Retail Sales and Revenue Over Quarters\"},\"yaxis2\":{\"title\":{\"text\":\"Revenue (millions)\"},\"overlaying\":\"y\",\"side\":\"right\",\"showgrid\":false}},                        {\"responsive\": true}                    ).then(function(){\n",
       "                            \n",
       "var gd = document.getElementById('7f54f9cd-ef68-4f24-8c70-cf570db0b0bf');\n",
       "var x = new MutationObserver(function (mutations, observer) {{\n",
       "        var display = window.getComputedStyle(gd).display;\n",
       "        if (!display || display === 'none') {{\n",
       "            console.log([gd, 'removed!']);\n",
       "            Plotly.purge(gd);\n",
       "            observer.disconnect();\n",
       "        }}\n",
       "}});\n",
       "\n",
       "// Listen for the removal of the full notebook cells\n",
       "var notebookContainer = gd.closest('#notebook-container');\n",
       "if (notebookContainer) {{\n",
       "    x.observe(notebookContainer, {childList: true});\n",
       "}}\n",
       "\n",
       "// Listen for the clearing of the current output cell\n",
       "var outputEl = gd.closest('.output');\n",
       "if (outputEl) {{\n",
       "    x.observe(outputEl, {childList: true});\n",
       "}}\n",
       "\n",
       "                        })                };                });            </script>        </div>"
      ]
     },
     "metadata": {},
     "output_type": "display_data"
    }
   ],
   "source": [
    "# Create the initial line plot \n",
    "fig = px.line(df, x='QY', y=['Retail Sales'], title='Retail Sales and Revenue Over Quarters',\n",
    "              labels={'value': 'Retail Sales', 'variable': 'Independent'}, markers=True)\n",
    "\n",
    "# Add Revenue data as a secondary y-axis\n",
    "fig.add_trace(\n",
    "    go.Scatter(x=df['QY'], y=df['Revenue'], name='Revenue (millions)', yaxis='y2')\n",
    ")\n",
    "\n",
    "# Create a layout with two y-axes\n",
    "fig.update_layout(\n",
    "    yaxis=dict(\n",
    "        title='GDP (%)',\n",
    "    ),\n",
    "    yaxis2=dict(\n",
    "        title='Revenue (millions)',\n",
    "        overlaying='y',\n",
    "        side='right',\n",
    "        showgrid=False,  # To not duplicate grid lines\n",
    "    )\n",
    ")\n",
    "\n",
    "# Show the plot\n",
    "fig.show()"
   ]
  },
  {
   "cell_type": "markdown",
   "id": "d1116fd0",
   "metadata": {
    "papermill": {
     "duration": 0.034246,
     "end_time": "2023-12-22T21:17:58.290996",
     "exception": false,
     "start_time": "2023-12-22T21:17:58.256750",
     "status": "completed"
    },
    "tags": []
   },
   "source": [
    "## **Earning Quality Score**"
   ]
  },
  {
   "cell_type": "code",
   "execution_count": 20,
   "id": "763e9010",
   "metadata": {
    "execution": {
     "iopub.execute_input": "2023-12-22T21:17:58.358163Z",
     "iopub.status.busy": "2023-12-22T21:17:58.357654Z",
     "iopub.status.idle": "2023-12-22T21:17:58.445096Z",
     "shell.execute_reply": "2023-12-22T21:17:58.443527Z"
    },
    "papermill": {
     "duration": 0.123739,
     "end_time": "2023-12-22T21:17:58.448007",
     "exception": false,
     "start_time": "2023-12-22T21:17:58.324268",
     "status": "completed"
    },
    "tags": []
   },
   "outputs": [
    {
     "data": {
      "text/html": [
       "<div>                            <div id=\"32f07e57-7916-4301-bb87-95247bfe9e67\" class=\"plotly-graph-div\" style=\"height:525px; width:100%;\"></div>            <script type=\"text/javascript\">                require([\"plotly\"], function(Plotly) {                    window.PLOTLYENV=window.PLOTLYENV || {};                                    if (document.getElementById(\"32f07e57-7916-4301-bb87-95247bfe9e67\")) {                    Plotly.newPlot(                        \"32f07e57-7916-4301-bb87-95247bfe9e67\",                        [{\"hovertemplate\":\"Independent=Earnings Quality Score\\u003cbr\\u003eQY=%{x}\\u003cbr\\u003eEarnings Quality Score=%{y}\\u003cextra\\u003e\\u003c\\u002fextra\\u003e\",\"legendgroup\":\"Earnings Quality Score\",\"line\":{\"color\":\"#636efa\",\"dash\":\"solid\"},\"marker\":{\"symbol\":\"circle\"},\"mode\":\"markers+lines\",\"name\":\"Earnings Quality Score\",\"orientation\":\"v\",\"showlegend\":true,\"x\":[\"2017Q3\",\"2017Q4\",\"2018Q1\",\"2018Q2\",\"2018Q3\",\"2018Q4\",\"2019Q1\",\"2019Q2\",\"2019Q3\",\"2019Q4\",\"2020Q1\",\"2020Q2\",\"2020Q3\",\"2020Q4\",\"2021Q1\",\"2021Q2\",\"2021Q3\",\"2021Q4\",\"2022Q1\",\"2022Q2\",\"2022Q3\",\"2022Q4\",\"2023Q1\",\"2023Q2\",\"2023Q3\"],\"xaxis\":\"x\",\"y\":[80,87,93,90,96,96,96,94,93,88,93,66,86,92,88,96,81,81,75,64,72,50,68,68,63],\"yaxis\":\"y\",\"type\":\"scatter\"},{\"name\":\"Revenue (millions)\",\"x\":[\"2017Q3\",\"2017Q4\",\"2018Q1\",\"2018Q2\",\"2018Q3\",\"2018Q4\",\"2019Q1\",\"2019Q2\",\"2019Q3\",\"2019Q4\",\"2020Q1\",\"2020Q2\",\"2020Q3\",\"2020Q4\",\"2021Q1\",\"2021Q2\",\"2021Q3\",\"2021Q4\",\"2022Q1\",\"2022Q2\",\"2022Q3\",\"2022Q4\",\"2023Q1\",\"2023Q2\",\"2023Q3\"],\"y\":[9070,8554,8984,9789,9948,9374,9611,10184,10660,10326,10104,6313,10594,11243,10357,12344,12248,11357,10871,12234,12687,13315,12390,12825,12939],\"yaxis\":\"y2\",\"type\":\"scatter\"}],                        {\"template\":{\"data\":{\"histogram2dcontour\":[{\"type\":\"histogram2dcontour\",\"colorbar\":{\"outlinewidth\":0,\"ticks\":\"\"},\"colorscale\":[[0.0,\"#0d0887\"],[0.1111111111111111,\"#46039f\"],[0.2222222222222222,\"#7201a8\"],[0.3333333333333333,\"#9c179e\"],[0.4444444444444444,\"#bd3786\"],[0.5555555555555556,\"#d8576b\"],[0.6666666666666666,\"#ed7953\"],[0.7777777777777778,\"#fb9f3a\"],[0.8888888888888888,\"#fdca26\"],[1.0,\"#f0f921\"]]}],\"choropleth\":[{\"type\":\"choropleth\",\"colorbar\":{\"outlinewidth\":0,\"ticks\":\"\"}}],\"histogram2d\":[{\"type\":\"histogram2d\",\"colorbar\":{\"outlinewidth\":0,\"ticks\":\"\"},\"colorscale\":[[0.0,\"#0d0887\"],[0.1111111111111111,\"#46039f\"],[0.2222222222222222,\"#7201a8\"],[0.3333333333333333,\"#9c179e\"],[0.4444444444444444,\"#bd3786\"],[0.5555555555555556,\"#d8576b\"],[0.6666666666666666,\"#ed7953\"],[0.7777777777777778,\"#fb9f3a\"],[0.8888888888888888,\"#fdca26\"],[1.0,\"#f0f921\"]]}],\"heatmap\":[{\"type\":\"heatmap\",\"colorbar\":{\"outlinewidth\":0,\"ticks\":\"\"},\"colorscale\":[[0.0,\"#0d0887\"],[0.1111111111111111,\"#46039f\"],[0.2222222222222222,\"#7201a8\"],[0.3333333333333333,\"#9c179e\"],[0.4444444444444444,\"#bd3786\"],[0.5555555555555556,\"#d8576b\"],[0.6666666666666666,\"#ed7953\"],[0.7777777777777778,\"#fb9f3a\"],[0.8888888888888888,\"#fdca26\"],[1.0,\"#f0f921\"]]}],\"heatmapgl\":[{\"type\":\"heatmapgl\",\"colorbar\":{\"outlinewidth\":0,\"ticks\":\"\"},\"colorscale\":[[0.0,\"#0d0887\"],[0.1111111111111111,\"#46039f\"],[0.2222222222222222,\"#7201a8\"],[0.3333333333333333,\"#9c179e\"],[0.4444444444444444,\"#bd3786\"],[0.5555555555555556,\"#d8576b\"],[0.6666666666666666,\"#ed7953\"],[0.7777777777777778,\"#fb9f3a\"],[0.8888888888888888,\"#fdca26\"],[1.0,\"#f0f921\"]]}],\"contourcarpet\":[{\"type\":\"contourcarpet\",\"colorbar\":{\"outlinewidth\":0,\"ticks\":\"\"}}],\"contour\":[{\"type\":\"contour\",\"colorbar\":{\"outlinewidth\":0,\"ticks\":\"\"},\"colorscale\":[[0.0,\"#0d0887\"],[0.1111111111111111,\"#46039f\"],[0.2222222222222222,\"#7201a8\"],[0.3333333333333333,\"#9c179e\"],[0.4444444444444444,\"#bd3786\"],[0.5555555555555556,\"#d8576b\"],[0.6666666666666666,\"#ed7953\"],[0.7777777777777778,\"#fb9f3a\"],[0.8888888888888888,\"#fdca26\"],[1.0,\"#f0f921\"]]}],\"surface\":[{\"type\":\"surface\",\"colorbar\":{\"outlinewidth\":0,\"ticks\":\"\"},\"colorscale\":[[0.0,\"#0d0887\"],[0.1111111111111111,\"#46039f\"],[0.2222222222222222,\"#7201a8\"],[0.3333333333333333,\"#9c179e\"],[0.4444444444444444,\"#bd3786\"],[0.5555555555555556,\"#d8576b\"],[0.6666666666666666,\"#ed7953\"],[0.7777777777777778,\"#fb9f3a\"],[0.8888888888888888,\"#fdca26\"],[1.0,\"#f0f921\"]]}],\"mesh3d\":[{\"type\":\"mesh3d\",\"colorbar\":{\"outlinewidth\":0,\"ticks\":\"\"}}],\"scatter\":[{\"fillpattern\":{\"fillmode\":\"overlay\",\"size\":10,\"solidity\":0.2},\"type\":\"scatter\"}],\"parcoords\":[{\"type\":\"parcoords\",\"line\":{\"colorbar\":{\"outlinewidth\":0,\"ticks\":\"\"}}}],\"scatterpolargl\":[{\"type\":\"scatterpolargl\",\"marker\":{\"colorbar\":{\"outlinewidth\":0,\"ticks\":\"\"}}}],\"bar\":[{\"error_x\":{\"color\":\"#2a3f5f\"},\"error_y\":{\"color\":\"#2a3f5f\"},\"marker\":{\"line\":{\"color\":\"#E5ECF6\",\"width\":0.5},\"pattern\":{\"fillmode\":\"overlay\",\"size\":10,\"solidity\":0.2}},\"type\":\"bar\"}],\"scattergeo\":[{\"type\":\"scattergeo\",\"marker\":{\"colorbar\":{\"outlinewidth\":0,\"ticks\":\"\"}}}],\"scatterpolar\":[{\"type\":\"scatterpolar\",\"marker\":{\"colorbar\":{\"outlinewidth\":0,\"ticks\":\"\"}}}],\"histogram\":[{\"marker\":{\"pattern\":{\"fillmode\":\"overlay\",\"size\":10,\"solidity\":0.2}},\"type\":\"histogram\"}],\"scattergl\":[{\"type\":\"scattergl\",\"marker\":{\"colorbar\":{\"outlinewidth\":0,\"ticks\":\"\"}}}],\"scatter3d\":[{\"type\":\"scatter3d\",\"line\":{\"colorbar\":{\"outlinewidth\":0,\"ticks\":\"\"}},\"marker\":{\"colorbar\":{\"outlinewidth\":0,\"ticks\":\"\"}}}],\"scattermapbox\":[{\"type\":\"scattermapbox\",\"marker\":{\"colorbar\":{\"outlinewidth\":0,\"ticks\":\"\"}}}],\"scatterternary\":[{\"type\":\"scatterternary\",\"marker\":{\"colorbar\":{\"outlinewidth\":0,\"ticks\":\"\"}}}],\"scattercarpet\":[{\"type\":\"scattercarpet\",\"marker\":{\"colorbar\":{\"outlinewidth\":0,\"ticks\":\"\"}}}],\"carpet\":[{\"aaxis\":{\"endlinecolor\":\"#2a3f5f\",\"gridcolor\":\"white\",\"linecolor\":\"white\",\"minorgridcolor\":\"white\",\"startlinecolor\":\"#2a3f5f\"},\"baxis\":{\"endlinecolor\":\"#2a3f5f\",\"gridcolor\":\"white\",\"linecolor\":\"white\",\"minorgridcolor\":\"white\",\"startlinecolor\":\"#2a3f5f\"},\"type\":\"carpet\"}],\"table\":[{\"cells\":{\"fill\":{\"color\":\"#EBF0F8\"},\"line\":{\"color\":\"white\"}},\"header\":{\"fill\":{\"color\":\"#C8D4E3\"},\"line\":{\"color\":\"white\"}},\"type\":\"table\"}],\"barpolar\":[{\"marker\":{\"line\":{\"color\":\"#E5ECF6\",\"width\":0.5},\"pattern\":{\"fillmode\":\"overlay\",\"size\":10,\"solidity\":0.2}},\"type\":\"barpolar\"}],\"pie\":[{\"automargin\":true,\"type\":\"pie\"}]},\"layout\":{\"autotypenumbers\":\"strict\",\"colorway\":[\"#636efa\",\"#EF553B\",\"#00cc96\",\"#ab63fa\",\"#FFA15A\",\"#19d3f3\",\"#FF6692\",\"#B6E880\",\"#FF97FF\",\"#FECB52\"],\"font\":{\"color\":\"#2a3f5f\"},\"hovermode\":\"closest\",\"hoverlabel\":{\"align\":\"left\"},\"paper_bgcolor\":\"white\",\"plot_bgcolor\":\"#E5ECF6\",\"polar\":{\"bgcolor\":\"#E5ECF6\",\"angularaxis\":{\"gridcolor\":\"white\",\"linecolor\":\"white\",\"ticks\":\"\"},\"radialaxis\":{\"gridcolor\":\"white\",\"linecolor\":\"white\",\"ticks\":\"\"}},\"ternary\":{\"bgcolor\":\"#E5ECF6\",\"aaxis\":{\"gridcolor\":\"white\",\"linecolor\":\"white\",\"ticks\":\"\"},\"baxis\":{\"gridcolor\":\"white\",\"linecolor\":\"white\",\"ticks\":\"\"},\"caxis\":{\"gridcolor\":\"white\",\"linecolor\":\"white\",\"ticks\":\"\"}},\"coloraxis\":{\"colorbar\":{\"outlinewidth\":0,\"ticks\":\"\"}},\"colorscale\":{\"sequential\":[[0.0,\"#0d0887\"],[0.1111111111111111,\"#46039f\"],[0.2222222222222222,\"#7201a8\"],[0.3333333333333333,\"#9c179e\"],[0.4444444444444444,\"#bd3786\"],[0.5555555555555556,\"#d8576b\"],[0.6666666666666666,\"#ed7953\"],[0.7777777777777778,\"#fb9f3a\"],[0.8888888888888888,\"#fdca26\"],[1.0,\"#f0f921\"]],\"sequentialminus\":[[0.0,\"#0d0887\"],[0.1111111111111111,\"#46039f\"],[0.2222222222222222,\"#7201a8\"],[0.3333333333333333,\"#9c179e\"],[0.4444444444444444,\"#bd3786\"],[0.5555555555555556,\"#d8576b\"],[0.6666666666666666,\"#ed7953\"],[0.7777777777777778,\"#fb9f3a\"],[0.8888888888888888,\"#fdca26\"],[1.0,\"#f0f921\"]],\"diverging\":[[0,\"#8e0152\"],[0.1,\"#c51b7d\"],[0.2,\"#de77ae\"],[0.3,\"#f1b6da\"],[0.4,\"#fde0ef\"],[0.5,\"#f7f7f7\"],[0.6,\"#e6f5d0\"],[0.7,\"#b8e186\"],[0.8,\"#7fbc41\"],[0.9,\"#4d9221\"],[1,\"#276419\"]]},\"xaxis\":{\"gridcolor\":\"white\",\"linecolor\":\"white\",\"ticks\":\"\",\"title\":{\"standoff\":15},\"zerolinecolor\":\"white\",\"automargin\":true,\"zerolinewidth\":2},\"yaxis\":{\"gridcolor\":\"white\",\"linecolor\":\"white\",\"ticks\":\"\",\"title\":{\"standoff\":15},\"zerolinecolor\":\"white\",\"automargin\":true,\"zerolinewidth\":2},\"scene\":{\"xaxis\":{\"backgroundcolor\":\"#E5ECF6\",\"gridcolor\":\"white\",\"linecolor\":\"white\",\"showbackground\":true,\"ticks\":\"\",\"zerolinecolor\":\"white\",\"gridwidth\":2},\"yaxis\":{\"backgroundcolor\":\"#E5ECF6\",\"gridcolor\":\"white\",\"linecolor\":\"white\",\"showbackground\":true,\"ticks\":\"\",\"zerolinecolor\":\"white\",\"gridwidth\":2},\"zaxis\":{\"backgroundcolor\":\"#E5ECF6\",\"gridcolor\":\"white\",\"linecolor\":\"white\",\"showbackground\":true,\"ticks\":\"\",\"zerolinecolor\":\"white\",\"gridwidth\":2}},\"shapedefaults\":{\"line\":{\"color\":\"#2a3f5f\"}},\"annotationdefaults\":{\"arrowcolor\":\"#2a3f5f\",\"arrowhead\":0,\"arrowwidth\":1},\"geo\":{\"bgcolor\":\"white\",\"landcolor\":\"#E5ECF6\",\"subunitcolor\":\"white\",\"showland\":true,\"showlakes\":true,\"lakecolor\":\"white\"},\"title\":{\"x\":0.05},\"mapbox\":{\"style\":\"light\"}}},\"xaxis\":{\"anchor\":\"y\",\"domain\":[0.0,1.0],\"title\":{\"text\":\"QY\"}},\"yaxis\":{\"anchor\":\"x\",\"domain\":[0.0,1.0],\"title\":{\"text\":\"GDP (%)\"}},\"legend\":{\"title\":{\"text\":\"Independent\"},\"tracegroupgap\":0},\"title\":{\"text\":\"Earnings Quality Score and Revenue Over Quarters\"},\"yaxis2\":{\"title\":{\"text\":\"Revenue (millions)\"},\"overlaying\":\"y\",\"side\":\"right\",\"showgrid\":false}},                        {\"responsive\": true}                    ).then(function(){\n",
       "                            \n",
       "var gd = document.getElementById('32f07e57-7916-4301-bb87-95247bfe9e67');\n",
       "var x = new MutationObserver(function (mutations, observer) {{\n",
       "        var display = window.getComputedStyle(gd).display;\n",
       "        if (!display || display === 'none') {{\n",
       "            console.log([gd, 'removed!']);\n",
       "            Plotly.purge(gd);\n",
       "            observer.disconnect();\n",
       "        }}\n",
       "}});\n",
       "\n",
       "// Listen for the removal of the full notebook cells\n",
       "var notebookContainer = gd.closest('#notebook-container');\n",
       "if (notebookContainer) {{\n",
       "    x.observe(notebookContainer, {childList: true});\n",
       "}}\n",
       "\n",
       "// Listen for the clearing of the current output cell\n",
       "var outputEl = gd.closest('.output');\n",
       "if (outputEl) {{\n",
       "    x.observe(outputEl, {childList: true});\n",
       "}}\n",
       "\n",
       "                        })                };                });            </script>        </div>"
      ]
     },
     "metadata": {},
     "output_type": "display_data"
    }
   ],
   "source": [
    "# Create the initial line plot \n",
    "fig = px.line(df, x='QY', y=['Earnings Quality Score'], title='Earnings Quality Score and Revenue Over Quarters',\n",
    "              labels={'value': 'Earnings Quality Score', 'variable': 'Independent'}, markers=True)\n",
    "\n",
    "# Add Revenue data as a secondary y-axis\n",
    "fig.add_trace(\n",
    "    go.Scatter(x=df['QY'], y=df['Revenue'], name='Revenue (millions)', yaxis='y2')\n",
    ")\n",
    "\n",
    "# Create a layout with two y-axes\n",
    "fig.update_layout(\n",
    "    yaxis=dict(\n",
    "        title='GDP (%)',\n",
    "    ),\n",
    "    yaxis2=dict(\n",
    "        title='Revenue (millions)',\n",
    "        overlaying='y',\n",
    "        side='right',\n",
    "        showgrid=False,  # To not duplicate grid lines\n",
    "    )\n",
    ")\n",
    "\n",
    "# Show the plot\n",
    "fig.show()"
   ]
  },
  {
   "cell_type": "markdown",
   "id": "62feec9b",
   "metadata": {
    "papermill": {
     "duration": 0.031663,
     "end_time": "2023-12-22T21:17:58.511348",
     "exception": false,
     "start_time": "2023-12-22T21:17:58.479685",
     "status": "completed"
    },
    "tags": []
   },
   "source": [
    "## **CCI**"
   ]
  },
  {
   "cell_type": "code",
   "execution_count": 21,
   "id": "7b19b430",
   "metadata": {
    "execution": {
     "iopub.execute_input": "2023-12-22T21:17:58.581646Z",
     "iopub.status.busy": "2023-12-22T21:17:58.579060Z",
     "iopub.status.idle": "2023-12-22T21:17:58.668156Z",
     "shell.execute_reply": "2023-12-22T21:17:58.666904Z"
    },
    "papermill": {
     "duration": 0.12755,
     "end_time": "2023-12-22T21:17:58.670857",
     "exception": false,
     "start_time": "2023-12-22T21:17:58.543307",
     "status": "completed"
    },
    "tags": []
   },
   "outputs": [
    {
     "data": {
      "text/html": [
       "<div>                            <div id=\"d79e7614-b3dc-4bf9-85a8-0167e8d13c70\" class=\"plotly-graph-div\" style=\"height:525px; width:100%;\"></div>            <script type=\"text/javascript\">                require([\"plotly\"], function(Plotly) {                    window.PLOTLYENV=window.PLOTLYENV || {};                                    if (document.getElementById(\"d79e7614-b3dc-4bf9-85a8-0167e8d13c70\")) {                    Plotly.newPlot(                        \"d79e7614-b3dc-4bf9-85a8-0167e8d13c70\",                        [{\"hovertemplate\":\"Independent=CCI\\u003cbr\\u003eQY=%{x}\\u003cbr\\u003eCCI=%{y}\\u003cextra\\u003e\\u003c\\u002fextra\\u003e\",\"legendgroup\":\"CCI\",\"line\":{\"color\":\"#636efa\",\"dash\":\"solid\"},\"marker\":{\"symbol\":\"circle\"},\"mode\":\"markers+lines\",\"name\":\"CCI\",\"orientation\":\"v\",\"showlegend\":true,\"x\":[\"2017Q3\",\"2017Q4\",\"2018Q1\",\"2018Q2\",\"2018Q3\",\"2018Q4\",\"2019Q1\",\"2019Q2\",\"2019Q3\",\"2019Q4\",\"2020Q1\",\"2020Q2\",\"2020Q3\",\"2020Q4\",\"2021Q1\",\"2021Q2\",\"2021Q3\",\"2021Q4\",\"2022Q1\",\"2022Q2\",\"2022Q3\",\"2022Q4\",\"2023Q1\",\"2023Q2\",\"2023Q3\"],\"xaxis\":\"x\",\"y\":[101.08,101.31,101.46,101.44,101.25,101.0,101.04,101.02,100.85,100.84,100.12,98.01,98.62,98.87,99.45,100.44,100.65,100.08,98.84,97.1,96.38,96.63,97.53,98.19,98.31],\"yaxis\":\"y\",\"type\":\"scatter\"},{\"name\":\"Revenue (millions)\",\"x\":[\"2017Q3\",\"2017Q4\",\"2018Q1\",\"2018Q2\",\"2018Q3\",\"2018Q4\",\"2019Q1\",\"2019Q2\",\"2019Q3\",\"2019Q4\",\"2020Q1\",\"2020Q2\",\"2020Q3\",\"2020Q4\",\"2021Q1\",\"2021Q2\",\"2021Q3\",\"2021Q4\",\"2022Q1\",\"2022Q2\",\"2022Q3\",\"2022Q4\",\"2023Q1\",\"2023Q2\",\"2023Q3\"],\"y\":[9070,8554,8984,9789,9948,9374,9611,10184,10660,10326,10104,6313,10594,11243,10357,12344,12248,11357,10871,12234,12687,13315,12390,12825,12939],\"yaxis\":\"y2\",\"type\":\"scatter\"}],                        {\"template\":{\"data\":{\"histogram2dcontour\":[{\"type\":\"histogram2dcontour\",\"colorbar\":{\"outlinewidth\":0,\"ticks\":\"\"},\"colorscale\":[[0.0,\"#0d0887\"],[0.1111111111111111,\"#46039f\"],[0.2222222222222222,\"#7201a8\"],[0.3333333333333333,\"#9c179e\"],[0.4444444444444444,\"#bd3786\"],[0.5555555555555556,\"#d8576b\"],[0.6666666666666666,\"#ed7953\"],[0.7777777777777778,\"#fb9f3a\"],[0.8888888888888888,\"#fdca26\"],[1.0,\"#f0f921\"]]}],\"choropleth\":[{\"type\":\"choropleth\",\"colorbar\":{\"outlinewidth\":0,\"ticks\":\"\"}}],\"histogram2d\":[{\"type\":\"histogram2d\",\"colorbar\":{\"outlinewidth\":0,\"ticks\":\"\"},\"colorscale\":[[0.0,\"#0d0887\"],[0.1111111111111111,\"#46039f\"],[0.2222222222222222,\"#7201a8\"],[0.3333333333333333,\"#9c179e\"],[0.4444444444444444,\"#bd3786\"],[0.5555555555555556,\"#d8576b\"],[0.6666666666666666,\"#ed7953\"],[0.7777777777777778,\"#fb9f3a\"],[0.8888888888888888,\"#fdca26\"],[1.0,\"#f0f921\"]]}],\"heatmap\":[{\"type\":\"heatmap\",\"colorbar\":{\"outlinewidth\":0,\"ticks\":\"\"},\"colorscale\":[[0.0,\"#0d0887\"],[0.1111111111111111,\"#46039f\"],[0.2222222222222222,\"#7201a8\"],[0.3333333333333333,\"#9c179e\"],[0.4444444444444444,\"#bd3786\"],[0.5555555555555556,\"#d8576b\"],[0.6666666666666666,\"#ed7953\"],[0.7777777777777778,\"#fb9f3a\"],[0.8888888888888888,\"#fdca26\"],[1.0,\"#f0f921\"]]}],\"heatmapgl\":[{\"type\":\"heatmapgl\",\"colorbar\":{\"outlinewidth\":0,\"ticks\":\"\"},\"colorscale\":[[0.0,\"#0d0887\"],[0.1111111111111111,\"#46039f\"],[0.2222222222222222,\"#7201a8\"],[0.3333333333333333,\"#9c179e\"],[0.4444444444444444,\"#bd3786\"],[0.5555555555555556,\"#d8576b\"],[0.6666666666666666,\"#ed7953\"],[0.7777777777777778,\"#fb9f3a\"],[0.8888888888888888,\"#fdca26\"],[1.0,\"#f0f921\"]]}],\"contourcarpet\":[{\"type\":\"contourcarpet\",\"colorbar\":{\"outlinewidth\":0,\"ticks\":\"\"}}],\"contour\":[{\"type\":\"contour\",\"colorbar\":{\"outlinewidth\":0,\"ticks\":\"\"},\"colorscale\":[[0.0,\"#0d0887\"],[0.1111111111111111,\"#46039f\"],[0.2222222222222222,\"#7201a8\"],[0.3333333333333333,\"#9c179e\"],[0.4444444444444444,\"#bd3786\"],[0.5555555555555556,\"#d8576b\"],[0.6666666666666666,\"#ed7953\"],[0.7777777777777778,\"#fb9f3a\"],[0.8888888888888888,\"#fdca26\"],[1.0,\"#f0f921\"]]}],\"surface\":[{\"type\":\"surface\",\"colorbar\":{\"outlinewidth\":0,\"ticks\":\"\"},\"colorscale\":[[0.0,\"#0d0887\"],[0.1111111111111111,\"#46039f\"],[0.2222222222222222,\"#7201a8\"],[0.3333333333333333,\"#9c179e\"],[0.4444444444444444,\"#bd3786\"],[0.5555555555555556,\"#d8576b\"],[0.6666666666666666,\"#ed7953\"],[0.7777777777777778,\"#fb9f3a\"],[0.8888888888888888,\"#fdca26\"],[1.0,\"#f0f921\"]]}],\"mesh3d\":[{\"type\":\"mesh3d\",\"colorbar\":{\"outlinewidth\":0,\"ticks\":\"\"}}],\"scatter\":[{\"fillpattern\":{\"fillmode\":\"overlay\",\"size\":10,\"solidity\":0.2},\"type\":\"scatter\"}],\"parcoords\":[{\"type\":\"parcoords\",\"line\":{\"colorbar\":{\"outlinewidth\":0,\"ticks\":\"\"}}}],\"scatterpolargl\":[{\"type\":\"scatterpolargl\",\"marker\":{\"colorbar\":{\"outlinewidth\":0,\"ticks\":\"\"}}}],\"bar\":[{\"error_x\":{\"color\":\"#2a3f5f\"},\"error_y\":{\"color\":\"#2a3f5f\"},\"marker\":{\"line\":{\"color\":\"#E5ECF6\",\"width\":0.5},\"pattern\":{\"fillmode\":\"overlay\",\"size\":10,\"solidity\":0.2}},\"type\":\"bar\"}],\"scattergeo\":[{\"type\":\"scattergeo\",\"marker\":{\"colorbar\":{\"outlinewidth\":0,\"ticks\":\"\"}}}],\"scatterpolar\":[{\"type\":\"scatterpolar\",\"marker\":{\"colorbar\":{\"outlinewidth\":0,\"ticks\":\"\"}}}],\"histogram\":[{\"marker\":{\"pattern\":{\"fillmode\":\"overlay\",\"size\":10,\"solidity\":0.2}},\"type\":\"histogram\"}],\"scattergl\":[{\"type\":\"scattergl\",\"marker\":{\"colorbar\":{\"outlinewidth\":0,\"ticks\":\"\"}}}],\"scatter3d\":[{\"type\":\"scatter3d\",\"line\":{\"colorbar\":{\"outlinewidth\":0,\"ticks\":\"\"}},\"marker\":{\"colorbar\":{\"outlinewidth\":0,\"ticks\":\"\"}}}],\"scattermapbox\":[{\"type\":\"scattermapbox\",\"marker\":{\"colorbar\":{\"outlinewidth\":0,\"ticks\":\"\"}}}],\"scatterternary\":[{\"type\":\"scatterternary\",\"marker\":{\"colorbar\":{\"outlinewidth\":0,\"ticks\":\"\"}}}],\"scattercarpet\":[{\"type\":\"scattercarpet\",\"marker\":{\"colorbar\":{\"outlinewidth\":0,\"ticks\":\"\"}}}],\"carpet\":[{\"aaxis\":{\"endlinecolor\":\"#2a3f5f\",\"gridcolor\":\"white\",\"linecolor\":\"white\",\"minorgridcolor\":\"white\",\"startlinecolor\":\"#2a3f5f\"},\"baxis\":{\"endlinecolor\":\"#2a3f5f\",\"gridcolor\":\"white\",\"linecolor\":\"white\",\"minorgridcolor\":\"white\",\"startlinecolor\":\"#2a3f5f\"},\"type\":\"carpet\"}],\"table\":[{\"cells\":{\"fill\":{\"color\":\"#EBF0F8\"},\"line\":{\"color\":\"white\"}},\"header\":{\"fill\":{\"color\":\"#C8D4E3\"},\"line\":{\"color\":\"white\"}},\"type\":\"table\"}],\"barpolar\":[{\"marker\":{\"line\":{\"color\":\"#E5ECF6\",\"width\":0.5},\"pattern\":{\"fillmode\":\"overlay\",\"size\":10,\"solidity\":0.2}},\"type\":\"barpolar\"}],\"pie\":[{\"automargin\":true,\"type\":\"pie\"}]},\"layout\":{\"autotypenumbers\":\"strict\",\"colorway\":[\"#636efa\",\"#EF553B\",\"#00cc96\",\"#ab63fa\",\"#FFA15A\",\"#19d3f3\",\"#FF6692\",\"#B6E880\",\"#FF97FF\",\"#FECB52\"],\"font\":{\"color\":\"#2a3f5f\"},\"hovermode\":\"closest\",\"hoverlabel\":{\"align\":\"left\"},\"paper_bgcolor\":\"white\",\"plot_bgcolor\":\"#E5ECF6\",\"polar\":{\"bgcolor\":\"#E5ECF6\",\"angularaxis\":{\"gridcolor\":\"white\",\"linecolor\":\"white\",\"ticks\":\"\"},\"radialaxis\":{\"gridcolor\":\"white\",\"linecolor\":\"white\",\"ticks\":\"\"}},\"ternary\":{\"bgcolor\":\"#E5ECF6\",\"aaxis\":{\"gridcolor\":\"white\",\"linecolor\":\"white\",\"ticks\":\"\"},\"baxis\":{\"gridcolor\":\"white\",\"linecolor\":\"white\",\"ticks\":\"\"},\"caxis\":{\"gridcolor\":\"white\",\"linecolor\":\"white\",\"ticks\":\"\"}},\"coloraxis\":{\"colorbar\":{\"outlinewidth\":0,\"ticks\":\"\"}},\"colorscale\":{\"sequential\":[[0.0,\"#0d0887\"],[0.1111111111111111,\"#46039f\"],[0.2222222222222222,\"#7201a8\"],[0.3333333333333333,\"#9c179e\"],[0.4444444444444444,\"#bd3786\"],[0.5555555555555556,\"#d8576b\"],[0.6666666666666666,\"#ed7953\"],[0.7777777777777778,\"#fb9f3a\"],[0.8888888888888888,\"#fdca26\"],[1.0,\"#f0f921\"]],\"sequentialminus\":[[0.0,\"#0d0887\"],[0.1111111111111111,\"#46039f\"],[0.2222222222222222,\"#7201a8\"],[0.3333333333333333,\"#9c179e\"],[0.4444444444444444,\"#bd3786\"],[0.5555555555555556,\"#d8576b\"],[0.6666666666666666,\"#ed7953\"],[0.7777777777777778,\"#fb9f3a\"],[0.8888888888888888,\"#fdca26\"],[1.0,\"#f0f921\"]],\"diverging\":[[0,\"#8e0152\"],[0.1,\"#c51b7d\"],[0.2,\"#de77ae\"],[0.3,\"#f1b6da\"],[0.4,\"#fde0ef\"],[0.5,\"#f7f7f7\"],[0.6,\"#e6f5d0\"],[0.7,\"#b8e186\"],[0.8,\"#7fbc41\"],[0.9,\"#4d9221\"],[1,\"#276419\"]]},\"xaxis\":{\"gridcolor\":\"white\",\"linecolor\":\"white\",\"ticks\":\"\",\"title\":{\"standoff\":15},\"zerolinecolor\":\"white\",\"automargin\":true,\"zerolinewidth\":2},\"yaxis\":{\"gridcolor\":\"white\",\"linecolor\":\"white\",\"ticks\":\"\",\"title\":{\"standoff\":15},\"zerolinecolor\":\"white\",\"automargin\":true,\"zerolinewidth\":2},\"scene\":{\"xaxis\":{\"backgroundcolor\":\"#E5ECF6\",\"gridcolor\":\"white\",\"linecolor\":\"white\",\"showbackground\":true,\"ticks\":\"\",\"zerolinecolor\":\"white\",\"gridwidth\":2},\"yaxis\":{\"backgroundcolor\":\"#E5ECF6\",\"gridcolor\":\"white\",\"linecolor\":\"white\",\"showbackground\":true,\"ticks\":\"\",\"zerolinecolor\":\"white\",\"gridwidth\":2},\"zaxis\":{\"backgroundcolor\":\"#E5ECF6\",\"gridcolor\":\"white\",\"linecolor\":\"white\",\"showbackground\":true,\"ticks\":\"\",\"zerolinecolor\":\"white\",\"gridwidth\":2}},\"shapedefaults\":{\"line\":{\"color\":\"#2a3f5f\"}},\"annotationdefaults\":{\"arrowcolor\":\"#2a3f5f\",\"arrowhead\":0,\"arrowwidth\":1},\"geo\":{\"bgcolor\":\"white\",\"landcolor\":\"#E5ECF6\",\"subunitcolor\":\"white\",\"showland\":true,\"showlakes\":true,\"lakecolor\":\"white\"},\"title\":{\"x\":0.05},\"mapbox\":{\"style\":\"light\"}}},\"xaxis\":{\"anchor\":\"y\",\"domain\":[0.0,1.0],\"title\":{\"text\":\"QY\"}},\"yaxis\":{\"anchor\":\"x\",\"domain\":[0.0,1.0],\"title\":{\"text\":\"GDP (%)\"}},\"legend\":{\"title\":{\"text\":\"Independent\"},\"tracegroupgap\":0},\"title\":{\"text\":\"CCI and Revenue Over Quarters\"},\"yaxis2\":{\"title\":{\"text\":\"Revenue (millions)\"},\"overlaying\":\"y\",\"side\":\"right\",\"showgrid\":false}},                        {\"responsive\": true}                    ).then(function(){\n",
       "                            \n",
       "var gd = document.getElementById('d79e7614-b3dc-4bf9-85a8-0167e8d13c70');\n",
       "var x = new MutationObserver(function (mutations, observer) {{\n",
       "        var display = window.getComputedStyle(gd).display;\n",
       "        if (!display || display === 'none') {{\n",
       "            console.log([gd, 'removed!']);\n",
       "            Plotly.purge(gd);\n",
       "            observer.disconnect();\n",
       "        }}\n",
       "}});\n",
       "\n",
       "// Listen for the removal of the full notebook cells\n",
       "var notebookContainer = gd.closest('#notebook-container');\n",
       "if (notebookContainer) {{\n",
       "    x.observe(notebookContainer, {childList: true});\n",
       "}}\n",
       "\n",
       "// Listen for the clearing of the current output cell\n",
       "var outputEl = gd.closest('.output');\n",
       "if (outputEl) {{\n",
       "    x.observe(outputEl, {childList: true});\n",
       "}}\n",
       "\n",
       "                        })                };                });            </script>        </div>"
      ]
     },
     "metadata": {},
     "output_type": "display_data"
    }
   ],
   "source": [
    "# Create the initial line plot \n",
    "fig = px.line(df, x='QY', y=['CCI'], title='CCI and Revenue Over Quarters',\n",
    "              labels={'value': 'CCI', 'variable': 'Independent'}, markers=True)\n",
    "\n",
    "# Add Revenue data as a secondary y-axis\n",
    "fig.add_trace(\n",
    "    go.Scatter(x=df['QY'], y=df['Revenue'], name='Revenue (millions)', yaxis='y2')\n",
    ")\n",
    "\n",
    "# Create a layout with two y-axes\n",
    "fig.update_layout(\n",
    "    yaxis=dict(\n",
    "        title='GDP (%)',\n",
    "    ),\n",
    "    yaxis2=dict(\n",
    "        title='Revenue (millions)',\n",
    "        overlaying='y',\n",
    "        side='right',\n",
    "        showgrid=False,  # To not duplicate grid lines\n",
    "    )\n",
    ")\n",
    "\n",
    "# Show the plot\n",
    "fig.show()"
   ]
  },
  {
   "cell_type": "markdown",
   "id": "77e0e6fc",
   "metadata": {
    "papermill": {
     "duration": 0.031401,
     "end_time": "2023-12-22T21:17:58.734133",
     "exception": false,
     "start_time": "2023-12-22T21:17:58.702732",
     "status": "completed"
    },
    "tags": []
   },
   "source": [
    "# **Model Preparation**"
   ]
  },
  {
   "cell_type": "markdown",
   "id": "0a09b4a9",
   "metadata": {
    "papermill": {
     "duration": 0.032833,
     "end_time": "2023-12-22T21:17:58.799022",
     "exception": false,
     "start_time": "2023-12-22T21:17:58.766189",
     "status": "completed"
    },
    "tags": []
   },
   "source": [
    "## 1 Checking and handling stationarity"
   ]
  },
  {
   "cell_type": "code",
   "execution_count": 22,
   "id": "a8844ca0",
   "metadata": {
    "execution": {
     "iopub.execute_input": "2023-12-22T21:17:58.865377Z",
     "iopub.status.busy": "2023-12-22T21:17:58.864819Z",
     "iopub.status.idle": "2023-12-22T21:17:58.895993Z",
     "shell.execute_reply": "2023-12-22T21:17:58.894441Z"
    },
    "papermill": {
     "duration": 0.068473,
     "end_time": "2023-12-22T21:17:58.899172",
     "exception": false,
     "start_time": "2023-12-22T21:17:58.830699",
     "status": "completed"
    },
    "tags": []
   },
   "outputs": [
    {
     "data": {
      "text/plain": [
       "0.25694234324445986"
      ]
     },
     "execution_count": 22,
     "metadata": {},
     "output_type": "execute_result"
    }
   ],
   "source": [
    "# Check and handle stationarity\n",
    "result = adfuller(df['Revenue'].dropna())\n",
    "result[1]"
   ]
  },
  {
   "cell_type": "code",
   "execution_count": 23,
   "id": "bb11c7c9",
   "metadata": {
    "execution": {
     "iopub.execute_input": "2023-12-22T21:17:58.964982Z",
     "iopub.status.busy": "2023-12-22T21:17:58.964478Z",
     "iopub.status.idle": "2023-12-22T21:17:58.973098Z",
     "shell.execute_reply": "2023-12-22T21:17:58.971731Z"
    },
    "papermill": {
     "duration": 0.044473,
     "end_time": "2023-12-22T21:17:58.975752",
     "exception": false,
     "start_time": "2023-12-22T21:17:58.931279",
     "status": "completed"
    },
    "tags": []
   },
   "outputs": [],
   "source": [
    "# If not stationary, you may apply transformations here\n",
    "# For example, you can use log transformation or differencing\n",
    "df['Log_Revenue'] = df['Revenue'].apply(lambda x: log(x))\n",
    "\n",
    "\n",
    "\n",
    "\n",
    "# Or you can use differencing\n",
    "#df['Differenced_Revenue'] = df['Revenue'].diff()\n",
    "#df = df.dropna()"
   ]
  },
  {
   "cell_type": "code",
   "execution_count": 24,
   "id": "dec2a3e0",
   "metadata": {
    "execution": {
     "iopub.execute_input": "2023-12-22T21:17:59.041578Z",
     "iopub.status.busy": "2023-12-22T21:17:59.041038Z",
     "iopub.status.idle": "2023-12-22T21:17:59.058084Z",
     "shell.execute_reply": "2023-12-22T21:17:59.056537Z"
    },
    "papermill": {
     "duration": 0.053459,
     "end_time": "2023-12-22T21:17:59.060687",
     "exception": false,
     "start_time": "2023-12-22T21:17:59.007228",
     "status": "completed"
    },
    "tags": []
   },
   "outputs": [
    {
     "data": {
      "text/plain": [
       "0.11700442797413252"
      ]
     },
     "execution_count": 24,
     "metadata": {},
     "output_type": "execute_result"
    }
   ],
   "source": [
    "# Check and handle stationarity\n",
    "result = adfuller(df['Log_Revenue'].dropna())\n",
    "result[1]"
   ]
  },
  {
   "cell_type": "code",
   "execution_count": 25,
   "id": "77f356d9",
   "metadata": {
    "execution": {
     "iopub.execute_input": "2023-12-22T21:17:59.126009Z",
     "iopub.status.busy": "2023-12-22T21:17:59.125608Z",
     "iopub.status.idle": "2023-12-22T21:17:59.132729Z",
     "shell.execute_reply": "2023-12-22T21:17:59.131601Z"
    },
    "papermill": {
     "duration": 0.043387,
     "end_time": "2023-12-22T21:17:59.135549",
     "exception": false,
     "start_time": "2023-12-22T21:17:59.092162",
     "status": "completed"
    },
    "tags": []
   },
   "outputs": [],
   "source": [
    "# create a new dataframe to not change the original one\n",
    "\n",
    "variables_to_drop = ['QY', 'Revenue']\n",
    "\n",
    "# Create a new DataFrame excluding the specified variables\n",
    "#df1 = df.drop(variables_to_drop, axis=1).copy()\n",
    "df1 = df\n",
    "df1 = df.drop(variables_to_drop, axis=1).copy()"
   ]
  },
  {
   "cell_type": "code",
   "execution_count": 26,
   "id": "74f2cc9e",
   "metadata": {
    "execution": {
     "iopub.execute_input": "2023-12-22T21:17:59.206410Z",
     "iopub.status.busy": "2023-12-22T21:17:59.205627Z",
     "iopub.status.idle": "2023-12-22T21:17:59.212944Z",
     "shell.execute_reply": "2023-12-22T21:17:59.212021Z"
    },
    "papermill": {
     "duration": 0.045245,
     "end_time": "2023-12-22T21:17:59.215780",
     "exception": false,
     "start_time": "2023-12-22T21:17:59.170535",
     "status": "completed"
    },
    "tags": []
   },
   "outputs": [
    {
     "data": {
      "text/plain": [
       "['GDP_USA',\n",
       " 'GDP_China',\n",
       " 'GPD_EU',\n",
       " 'Combined Alpha Score',\n",
       " 'Euro_dollar',\n",
       " 'Yen_dollar',\n",
       " 'Retail Sales',\n",
       " 'Online Sales',\n",
       " 'Earnings Quality Score',\n",
       " 'CCI',\n",
       " 'news_Community',\n",
       " 'news_Debt Financing / Related',\n",
       " 'news_Debt Financing / Related, Earnings Announcements',\n",
       " 'news_Divestitures / Spin-offs',\n",
       " 'news_Dividends',\n",
       " 'news_Earnings Announcements',\n",
       " 'news_Environmental',\n",
       " 'news_Equity Financing / Related, Mergers / Acquisitions',\n",
       " 'news_Equity Investments',\n",
       " 'news_Equity Investments, Equity Financing / Related',\n",
       " 'news_Equity Investments, Officer Changes, Regulatory',\n",
       " 'news_Equity Investments, Regulatory',\n",
       " 'news_Labor Issues',\n",
       " 'news_Layoffs, Earnings Announcements',\n",
       " 'news_Layoffs, Officer Changes',\n",
       " 'news_Layoffs, Other Pre-Announcement',\n",
       " 'news_Litigation',\n",
       " 'news_Litigation, Regulatory',\n",
       " 'news_Management Compensation, Labor Issues',\n",
       " 'news_Mergers / Acquisitions',\n",
       " 'news_Officer Changes',\n",
       " 'news_Officer Changes, Mergers / Acquisitions',\n",
       " 'news_Officer Changes, Other Pre-Announcement',\n",
       " 'news_Officer Changes, Regulatory, Management Compensation',\n",
       " 'news_Other Pre-Announcement',\n",
       " 'news_Products',\n",
       " 'news_Products, Expansion',\n",
       " 'news_Products, Litigation',\n",
       " 'news_Products, Officer Changes, Earnings Announcements',\n",
       " 'news_Products, Restructuring / Reorganization, Expansion',\n",
       " 'news_Regulatory',\n",
       " 'news_Regulatory, Earnings Announcements',\n",
       " 'news_Regulatory, Management Compensation, Labor Issues',\n",
       " 'news_ Strategic Combinations',\n",
       " 'Log_Revenue']"
      ]
     },
     "execution_count": 26,
     "metadata": {},
     "output_type": "execute_result"
    }
   ],
   "source": [
    "df1.columns.tolist()"
   ]
  },
  {
   "cell_type": "markdown",
   "id": "9c4209be",
   "metadata": {
    "papermill": {
     "duration": 0.033006,
     "end_time": "2023-12-22T21:17:59.283809",
     "exception": false,
     "start_time": "2023-12-22T21:17:59.250803",
     "status": "completed"
    },
    "tags": []
   },
   "source": [
    "## 2 Converting time series to supervised model"
   ]
  },
  {
   "cell_type": "code",
   "execution_count": 27,
   "id": "ce417244",
   "metadata": {
    "execution": {
     "iopub.execute_input": "2023-12-22T21:17:59.353084Z",
     "iopub.status.busy": "2023-12-22T21:17:59.352665Z",
     "iopub.status.idle": "2023-12-22T21:17:59.359171Z",
     "shell.execute_reply": "2023-12-22T21:17:59.358294Z"
    },
    "papermill": {
     "duration": 0.044063,
     "end_time": "2023-12-22T21:17:59.361437",
     "exception": false,
     "start_time": "2023-12-22T21:17:59.317374",
     "status": "completed"
    },
    "tags": []
   },
   "outputs": [],
   "source": [
    "# Transform the time series data into a supervised learning format\n",
    "def create_supervised_data(data, target_column, lag=1):\n",
    "    df_shifted = data.copy()\n",
    "    for i in range(1, lag + 1):\n",
    "        shifted = data.shift(i)\n",
    "        shifted.columns = [f'{col}_lag{i}' for col in shifted.columns]\n",
    "        df_shifted = pd.concat([df_shifted, shifted], axis=1)\n",
    "    df_shifted = df_shifted.dropna()\n",
    "    return df_shifted"
   ]
  },
  {
   "cell_type": "code",
   "execution_count": 28,
   "id": "8749bbb3",
   "metadata": {
    "execution": {
     "iopub.execute_input": "2023-12-22T21:17:59.431080Z",
     "iopub.status.busy": "2023-12-22T21:17:59.429913Z",
     "iopub.status.idle": "2023-12-22T21:17:59.442042Z",
     "shell.execute_reply": "2023-12-22T21:17:59.441046Z"
    },
    "papermill": {
     "duration": 0.049736,
     "end_time": "2023-12-22T21:17:59.444932",
     "exception": false,
     "start_time": "2023-12-22T21:17:59.395196",
     "status": "completed"
    },
    "tags": []
   },
   "outputs": [],
   "source": [
    "# Assuming you have additional features in the dataset\n",
    "features = ['GDP_USA',\n",
    " 'GDP_China',\n",
    " 'GPD_EU',\n",
    " 'Combined Alpha Score',\n",
    " 'Euro_dollar',\n",
    " 'Yen_dollar',\n",
    " 'Retail Sales',\n",
    " 'Online Sales',\n",
    " 'Earnings Quality Score',\n",
    " 'CCI',\n",
    " 'news_Community',\n",
    " 'news_Debt Financing / Related',\n",
    " 'news_Debt Financing / Related, Earnings Announcements',\n",
    " 'news_Divestitures / Spin-offs',\n",
    " 'news_Dividends',\n",
    " 'news_Earnings Announcements',\n",
    " 'news_Environmental',\n",
    " 'news_Equity Financing / Related, Mergers / Acquisitions',\n",
    " 'news_Equity Investments',\n",
    " 'news_Equity Investments, Equity Financing / Related',\n",
    " 'news_Equity Investments, Officer Changes, Regulatory',\n",
    " 'news_Equity Investments, Regulatory',\n",
    " 'news_Labor Issues',\n",
    " 'news_Layoffs, Earnings Announcements',\n",
    " 'news_Layoffs, Officer Changes',\n",
    " 'news_Layoffs, Other Pre-Announcement',\n",
    " 'news_Litigation',\n",
    " 'news_Litigation, Regulatory',\n",
    " 'news_Management Compensation, Labor Issues',\n",
    " 'news_Mergers / Acquisitions',\n",
    " 'news_Officer Changes',\n",
    " 'news_Officer Changes, Mergers / Acquisitions',\n",
    " 'news_Officer Changes, Other Pre-Announcement',\n",
    " 'news_Officer Changes, Regulatory, Management Compensation',\n",
    " 'news_Other Pre-Announcement',\n",
    " 'news_Products',\n",
    " 'news_Products, Expansion',\n",
    " 'news_Products, Litigation',\n",
    " 'news_Products, Officer Changes, Earnings Announcements',\n",
    " 'news_Products, Restructuring / Reorganization, Expansion',\n",
    " 'news_Regulatory',\n",
    " 'news_Regulatory, Earnings Announcements',\n",
    " 'news_Regulatory, Management Compensation, Labor Issues',\n",
    " 'news_ Strategic Combinations',\n",
    "]\n",
    "\n",
    "# Add your features here\n",
    "lag = 1  # Lag for time series data\n",
    "df_supervised = create_supervised_data(df1[['Log_Revenue'] + features], 'Log_Revenue', lag)\n"
   ]
  },
  {
   "cell_type": "markdown",
   "id": "e02b3b28",
   "metadata": {
    "papermill": {
     "duration": 0.033792,
     "end_time": "2023-12-22T21:17:59.511563",
     "exception": false,
     "start_time": "2023-12-22T21:17:59.477771",
     "status": "completed"
    },
    "tags": []
   },
   "source": [
    "## 3 Train & Test Split"
   ]
  },
  {
   "cell_type": "code",
   "execution_count": 29,
   "id": "c64ab916",
   "metadata": {
    "execution": {
     "iopub.execute_input": "2023-12-22T21:17:59.582868Z",
     "iopub.status.busy": "2023-12-22T21:17:59.582038Z",
     "iopub.status.idle": "2023-12-22T21:17:59.591298Z",
     "shell.execute_reply": "2023-12-22T21:17:59.590383Z"
    },
    "papermill": {
     "duration": 0.048863,
     "end_time": "2023-12-22T21:17:59.594056",
     "exception": false,
     "start_time": "2023-12-22T21:17:59.545193",
     "status": "completed"
    },
    "tags": []
   },
   "outputs": [],
   "source": [
    "# Split the data into train and test sets\n",
    "train = df_supervised[df_supervised.index < df_supervised.index.max()]\n",
    "test = df_supervised[df_supervised.index == df_supervised.index.max()]"
   ]
  },
  {
   "cell_type": "code",
   "execution_count": 30,
   "id": "6b179e93",
   "metadata": {
    "execution": {
     "iopub.execute_input": "2023-12-22T21:17:59.662462Z",
     "iopub.status.busy": "2023-12-22T21:17:59.661613Z",
     "iopub.status.idle": "2023-12-22T21:17:59.670419Z",
     "shell.execute_reply": "2023-12-22T21:17:59.669409Z"
    },
    "papermill": {
     "duration": 0.045862,
     "end_time": "2023-12-22T21:17:59.673082",
     "exception": false,
     "start_time": "2023-12-22T21:17:59.627220",
     "status": "completed"
    },
    "tags": []
   },
   "outputs": [],
   "source": [
    "# Define features and target variable for training and testing\n",
    "X_train = train.drop(['Log_Revenue'], axis=1)\n",
    "y_train = train['Log_Revenue']\n",
    "X_test = test.drop(['Log_Revenue'], axis=1)\n",
    "y_test = test['Log_Revenue']"
   ]
  },
  {
   "cell_type": "markdown",
   "id": "63403158",
   "metadata": {
    "papermill": {
     "duration": 0.032542,
     "end_time": "2023-12-22T21:17:59.738646",
     "exception": false,
     "start_time": "2023-12-22T21:17:59.706104",
     "status": "completed"
    },
    "tags": []
   },
   "source": [
    "## Standardize"
   ]
  },
  {
   "cell_type": "code",
   "execution_count": 31,
   "id": "d1c94d33",
   "metadata": {
    "execution": {
     "iopub.execute_input": "2023-12-22T21:17:59.809717Z",
     "iopub.status.busy": "2023-12-22T21:17:59.808786Z",
     "iopub.status.idle": "2023-12-22T21:17:59.825227Z",
     "shell.execute_reply": "2023-12-22T21:17:59.824282Z"
    },
    "papermill": {
     "duration": 0.05501,
     "end_time": "2023-12-22T21:17:59.828204",
     "exception": false,
     "start_time": "2023-12-22T21:17:59.773194",
     "status": "completed"
    },
    "tags": []
   },
   "outputs": [],
   "source": [
    "# Standardize the features\n",
    "scaler = StandardScaler()\n",
    "X_train_scaled = scaler.fit_transform(X_train)\n",
    "X_test_scaled = scaler.transform(X_test)"
   ]
  },
  {
   "cell_type": "markdown",
   "id": "8d02ad63",
   "metadata": {
    "papermill": {
     "duration": 0.032449,
     "end_time": "2023-12-22T21:17:59.893389",
     "exception": false,
     "start_time": "2023-12-22T21:17:59.860940",
     "status": "completed"
    },
    "tags": []
   },
   "source": [
    "# **Models Creation of Random Forest**"
   ]
  },
  {
   "cell_type": "code",
   "execution_count": 32,
   "id": "44530c72",
   "metadata": {
    "execution": {
     "iopub.execute_input": "2023-12-22T21:17:59.962588Z",
     "iopub.status.busy": "2023-12-22T21:17:59.961671Z",
     "iopub.status.idle": "2023-12-22T21:17:59.973279Z",
     "shell.execute_reply": "2023-12-22T21:17:59.972396Z"
    },
    "papermill": {
     "duration": 0.049296,
     "end_time": "2023-12-22T21:17:59.976156",
     "exception": false,
     "start_time": "2023-12-22T21:17:59.926860",
     "status": "completed"
    },
    "tags": []
   },
   "outputs": [],
   "source": [
    "# function to compute adjusted R-squared\n",
    "def adj_r2_score(predictors, targets, predictions):\n",
    "    r2 = r2_score(targets, predictions)\n",
    "    n = predictors.shape[0]\n",
    "    k = predictors.shape[1]\n",
    "    return 1 - ((1 - r2) * (n - 1) / (n - k - 1))\n",
    "\n",
    "\n",
    "# function to compute MAPE\n",
    "def mape_score(targets, predictions):\n",
    "    return np.mean(np.abs(targets - predictions) / targets) * 100\n",
    "\n",
    "\n",
    "# function to compute different metrics to check performance of a regression model\n",
    "def model_performance_regression(model, predictors, target):\n",
    "    \"\"\"\n",
    "    Function to compute different metrics to check regression model performance\n",
    "\n",
    "    model: regressor\n",
    "    predictors: independent variables\n",
    "    target: dependent variable\n",
    "    \"\"\"\n",
    "\n",
    "    # predicting using the independent variables\n",
    "    pred = model.predict(predictors)\n",
    "\n",
    "    r2 = r2_score(target, pred)  # to compute R-squared\n",
    "    adjr2 = adj_r2_score(predictors, target, pred)  # to compute adjusted R-squared\n",
    "    rmse = np.sqrt(mean_squared_error(target, pred))  # to compute RMSE\n",
    "    mae = mean_absolute_error(target, pred)  # to compute MAE\n",
    "    mape = mape_score(target, pred)  # to compute MAPE\n",
    "\n",
    "    # creating a dataframe of metrics\n",
    "    df_perf = pd.DataFrame(\n",
    "        {\n",
    "            \"RMSE\": rmse,\n",
    "            \"MAE\": mae,\n",
    "            \"R-squared\": r2,\n",
    "            \"Adj. R-squared\": adjr2,\n",
    "            \"MAPE\": mape,\n",
    "        },\n",
    "        index=[0],\n",
    "    )\n",
    "\n",
    "    return df_perf"
   ]
  },
  {
   "cell_type": "code",
   "execution_count": 33,
   "id": "5e6fc1b4",
   "metadata": {
    "execution": {
     "iopub.execute_input": "2023-12-22T21:18:00.045756Z",
     "iopub.status.busy": "2023-12-22T21:18:00.044932Z",
     "iopub.status.idle": "2023-12-22T21:18:00.056462Z",
     "shell.execute_reply": "2023-12-22T21:18:00.055189Z"
    },
    "papermill": {
     "duration": 0.049781,
     "end_time": "2023-12-22T21:18:00.059537",
     "exception": false,
     "start_time": "2023-12-22T21:18:00.009756",
     "status": "completed"
    },
    "tags": []
   },
   "outputs": [],
   "source": [
    "##  Function to calculate r2_score and RMSE on train and test data\n",
    "def get_model_score(model, flag=True):\n",
    "    '''\n",
    "    model : classifier to predict values of X\n",
    "\n",
    "    '''\n",
    "    # defining an empty list to store train and test results\n",
    "    score_list=[] \n",
    "    \n",
    "    pred_train = model.predict(X_train)\n",
    "    pred_test = model.predict(X_test)\n",
    "    \n",
    "    train_r2=metrics.r2_score(y_train,pred_train)\n",
    "    test_r2=metrics.r2_score(y_test,pred_test)\n",
    "    train_rmse=np.sqrt(metrics.mean_squared_error(y_train,pred_train))\n",
    "    test_rmse=np.sqrt(metrics.mean_squared_error(y_test,pred_test))\n",
    "    \n",
    "    #Adding all scores in the list\n",
    "    score_list.extend((train_r2,test_r2,train_rmse,test_rmse))\n",
    "    \n",
    "    # If the flag is set to True then only the following print statements will be dispayed, the default value is True\n",
    "    if flag==True: \n",
    "        print(\"R-sqaure on training set : \",metrics.r2_score(y_train,pred_train))\n",
    "        print(\"R-square on test set : \",metrics.r2_score(y_test,pred_test))\n",
    "        print(\"RMSE on training set : \",np.sqrt(metrics.mean_squared_error(y_train,pred_train)))\n",
    "        print(\"RMSE on test set : \",np.sqrt(metrics.mean_squared_error(y_test,pred_test)))\n",
    "    \n",
    "    # returning the list with train and test scores\n",
    "    return score_list"
   ]
  },
  {
   "cell_type": "markdown",
   "id": "9ae50463",
   "metadata": {
    "papermill": {
     "duration": 0.033233,
     "end_time": "2023-12-22T21:18:00.127157",
     "exception": false,
     "start_time": "2023-12-22T21:18:00.093924",
     "status": "completed"
    },
    "tags": []
   },
   "source": [
    "## 3 Random Forest"
   ]
  },
  {
   "cell_type": "code",
   "execution_count": 34,
   "id": "146c046f",
   "metadata": {
    "execution": {
     "iopub.execute_input": "2023-12-22T21:18:00.202674Z",
     "iopub.status.busy": "2023-12-22T21:18:00.202162Z",
     "iopub.status.idle": "2023-12-22T21:18:00.416262Z",
     "shell.execute_reply": "2023-12-22T21:18:00.414714Z"
    },
    "papermill": {
     "duration": 0.25272,
     "end_time": "2023-12-22T21:18:00.419243",
     "exception": false,
     "start_time": "2023-12-22T21:18:00.166523",
     "status": "completed"
    },
    "tags": []
   },
   "outputs": [
    {
     "data": {
      "text/html": [
       "<style>#sk-container-id-1 {color: black;background-color: white;}#sk-container-id-1 pre{padding: 0;}#sk-container-id-1 div.sk-toggleable {background-color: white;}#sk-container-id-1 label.sk-toggleable__label {cursor: pointer;display: block;width: 100%;margin-bottom: 0;padding: 0.3em;box-sizing: border-box;text-align: center;}#sk-container-id-1 label.sk-toggleable__label-arrow:before {content: \"▸\";float: left;margin-right: 0.25em;color: #696969;}#sk-container-id-1 label.sk-toggleable__label-arrow:hover:before {color: black;}#sk-container-id-1 div.sk-estimator:hover label.sk-toggleable__label-arrow:before {color: black;}#sk-container-id-1 div.sk-toggleable__content {max-height: 0;max-width: 0;overflow: hidden;text-align: left;background-color: #f0f8ff;}#sk-container-id-1 div.sk-toggleable__content pre {margin: 0.2em;color: black;border-radius: 0.25em;background-color: #f0f8ff;}#sk-container-id-1 input.sk-toggleable__control:checked~div.sk-toggleable__content {max-height: 200px;max-width: 100%;overflow: auto;}#sk-container-id-1 input.sk-toggleable__control:checked~label.sk-toggleable__label-arrow:before {content: \"▾\";}#sk-container-id-1 div.sk-estimator input.sk-toggleable__control:checked~label.sk-toggleable__label {background-color: #d4ebff;}#sk-container-id-1 div.sk-label input.sk-toggleable__control:checked~label.sk-toggleable__label {background-color: #d4ebff;}#sk-container-id-1 input.sk-hidden--visually {border: 0;clip: rect(1px 1px 1px 1px);clip: rect(1px, 1px, 1px, 1px);height: 1px;margin: -1px;overflow: hidden;padding: 0;position: absolute;width: 1px;}#sk-container-id-1 div.sk-estimator {font-family: monospace;background-color: #f0f8ff;border: 1px dotted black;border-radius: 0.25em;box-sizing: border-box;margin-bottom: 0.5em;}#sk-container-id-1 div.sk-estimator:hover {background-color: #d4ebff;}#sk-container-id-1 div.sk-parallel-item::after {content: \"\";width: 100%;border-bottom: 1px solid gray;flex-grow: 1;}#sk-container-id-1 div.sk-label:hover label.sk-toggleable__label {background-color: #d4ebff;}#sk-container-id-1 div.sk-serial::before {content: \"\";position: absolute;border-left: 1px solid gray;box-sizing: border-box;top: 0;bottom: 0;left: 50%;z-index: 0;}#sk-container-id-1 div.sk-serial {display: flex;flex-direction: column;align-items: center;background-color: white;padding-right: 0.2em;padding-left: 0.2em;position: relative;}#sk-container-id-1 div.sk-item {position: relative;z-index: 1;}#sk-container-id-1 div.sk-parallel {display: flex;align-items: stretch;justify-content: center;background-color: white;position: relative;}#sk-container-id-1 div.sk-item::before, #sk-container-id-1 div.sk-parallel-item::before {content: \"\";position: absolute;border-left: 1px solid gray;box-sizing: border-box;top: 0;bottom: 0;left: 50%;z-index: -1;}#sk-container-id-1 div.sk-parallel-item {display: flex;flex-direction: column;z-index: 1;position: relative;background-color: white;}#sk-container-id-1 div.sk-parallel-item:first-child::after {align-self: flex-end;width: 50%;}#sk-container-id-1 div.sk-parallel-item:last-child::after {align-self: flex-start;width: 50%;}#sk-container-id-1 div.sk-parallel-item:only-child::after {width: 0;}#sk-container-id-1 div.sk-dashed-wrapped {border: 1px dashed gray;margin: 0 0.4em 0.5em 0.4em;box-sizing: border-box;padding-bottom: 0.4em;background-color: white;}#sk-container-id-1 div.sk-label label {font-family: monospace;font-weight: bold;display: inline-block;line-height: 1.2em;}#sk-container-id-1 div.sk-label-container {text-align: center;}#sk-container-id-1 div.sk-container {/* jupyter's `normalize.less` sets `[hidden] { display: none; }` but bootstrap.min.css set `[hidden] { display: none !important; }` so we also need the `!important` here to be able to override the default hidden behavior on the sphinx rendered scikit-learn.org. See: https://github.com/scikit-learn/scikit-learn/issues/21755 */display: inline-block !important;position: relative;}#sk-container-id-1 div.sk-text-repr-fallback {display: none;}</style><div id=\"sk-container-id-1\" class=\"sk-top-container\"><div class=\"sk-text-repr-fallback\"><pre>RandomForestRegressor(random_state=1)</pre><b>In a Jupyter environment, please rerun this cell to show the HTML representation or trust the notebook. <br />On GitHub, the HTML representation is unable to render, please try loading this page with nbviewer.org.</b></div><div class=\"sk-container\" hidden><div class=\"sk-item\"><div class=\"sk-estimator sk-toggleable\"><input class=\"sk-toggleable__control sk-hidden--visually\" id=\"sk-estimator-id-1\" type=\"checkbox\" checked><label for=\"sk-estimator-id-1\" class=\"sk-toggleable__label sk-toggleable__label-arrow\">RandomForestRegressor</label><div class=\"sk-toggleable__content\"><pre>RandomForestRegressor(random_state=1)</pre></div></div></div></div></div>"
      ],
      "text/plain": [
       "RandomForestRegressor(random_state=1)"
      ]
     },
     "execution_count": 34,
     "metadata": {},
     "output_type": "execute_result"
    }
   ],
   "source": [
    "rf_estimator=RandomForestRegressor(random_state=1)\n",
    "rf_estimator.fit(X_train,y_train)"
   ]
  },
  {
   "cell_type": "code",
   "execution_count": 35,
   "id": "ff06fd5e",
   "metadata": {
    "execution": {
     "iopub.execute_input": "2023-12-22T21:18:00.487223Z",
     "iopub.status.busy": "2023-12-22T21:18:00.486236Z",
     "iopub.status.idle": "2023-12-22T21:18:00.511259Z",
     "shell.execute_reply": "2023-12-22T21:18:00.509492Z"
    },
    "papermill": {
     "duration": 0.06222,
     "end_time": "2023-12-22T21:18:00.513956",
     "exception": false,
     "start_time": "2023-12-22T21:18:00.451736",
     "status": "completed"
    },
    "tags": []
   },
   "outputs": [
    {
     "name": "stdout",
     "output_type": "stream",
     "text": [
      "Training performance \n",
      "        RMSE       MAE  R-squared  Adj. R-squared      MAPE\n",
      "0  0.051081  0.034422   0.900063        1.032815  0.375868\n"
     ]
    }
   ],
   "source": [
    "rf_estimator_model_train_perf = model_performance_regression(rf_estimator, X_train,y_train)\n",
    "print(\"Training performance \\n\",rf_estimator_model_train_perf)"
   ]
  },
  {
   "cell_type": "code",
   "execution_count": 36,
   "id": "2d1e52df",
   "metadata": {
    "execution": {
     "iopub.execute_input": "2023-12-22T21:18:00.580207Z",
     "iopub.status.busy": "2023-12-22T21:18:00.579811Z",
     "iopub.status.idle": "2023-12-22T21:18:00.604984Z",
     "shell.execute_reply": "2023-12-22T21:18:00.603609Z"
    },
    "papermill": {
     "duration": 0.061849,
     "end_time": "2023-12-22T21:18:00.607867",
     "exception": false,
     "start_time": "2023-12-22T21:18:00.546018",
     "status": "completed"
    },
    "tags": []
   },
   "outputs": [
    {
     "name": "stdout",
     "output_type": "stream",
     "text": [
      "Testing performance \n",
      "        RMSE       MAE  R-squared  Adj. R-squared      MAPE\n",
      "0  0.150462  0.150462        NaN             NaN  1.589162\n"
     ]
    }
   ],
   "source": [
    "rf_estimator_model_test_perf = model_performance_regression(rf_estimator, X_test,y_test)\n",
    "print(\"Testing performance \\n\",rf_estimator_model_test_perf)"
   ]
  },
  {
   "cell_type": "markdown",
   "id": "e0813457",
   "metadata": {
    "papermill": {
     "duration": 0.032265,
     "end_time": "2023-12-22T21:18:00.672581",
     "exception": false,
     "start_time": "2023-12-22T21:18:00.640316",
     "status": "completed"
    },
    "tags": []
   },
   "source": [
    "## 4 Random Forest Tuned"
   ]
  },
  {
   "cell_type": "code",
   "execution_count": 37,
   "id": "b0446b26",
   "metadata": {
    "execution": {
     "iopub.execute_input": "2023-12-22T21:18:00.740117Z",
     "iopub.status.busy": "2023-12-22T21:18:00.739565Z",
     "iopub.status.idle": "2023-12-22T21:19:13.555020Z",
     "shell.execute_reply": "2023-12-22T21:19:13.553793Z"
    },
    "papermill": {
     "duration": 72.886556,
     "end_time": "2023-12-22T21:19:13.591544",
     "exception": false,
     "start_time": "2023-12-22T21:18:00.704988",
     "status": "completed"
    },
    "tags": []
   },
   "outputs": [
    {
     "data": {
      "text/html": [
       "<style>#sk-container-id-2 {color: black;background-color: white;}#sk-container-id-2 pre{padding: 0;}#sk-container-id-2 div.sk-toggleable {background-color: white;}#sk-container-id-2 label.sk-toggleable__label {cursor: pointer;display: block;width: 100%;margin-bottom: 0;padding: 0.3em;box-sizing: border-box;text-align: center;}#sk-container-id-2 label.sk-toggleable__label-arrow:before {content: \"▸\";float: left;margin-right: 0.25em;color: #696969;}#sk-container-id-2 label.sk-toggleable__label-arrow:hover:before {color: black;}#sk-container-id-2 div.sk-estimator:hover label.sk-toggleable__label-arrow:before {color: black;}#sk-container-id-2 div.sk-toggleable__content {max-height: 0;max-width: 0;overflow: hidden;text-align: left;background-color: #f0f8ff;}#sk-container-id-2 div.sk-toggleable__content pre {margin: 0.2em;color: black;border-radius: 0.25em;background-color: #f0f8ff;}#sk-container-id-2 input.sk-toggleable__control:checked~div.sk-toggleable__content {max-height: 200px;max-width: 100%;overflow: auto;}#sk-container-id-2 input.sk-toggleable__control:checked~label.sk-toggleable__label-arrow:before {content: \"▾\";}#sk-container-id-2 div.sk-estimator input.sk-toggleable__control:checked~label.sk-toggleable__label {background-color: #d4ebff;}#sk-container-id-2 div.sk-label input.sk-toggleable__control:checked~label.sk-toggleable__label {background-color: #d4ebff;}#sk-container-id-2 input.sk-hidden--visually {border: 0;clip: rect(1px 1px 1px 1px);clip: rect(1px, 1px, 1px, 1px);height: 1px;margin: -1px;overflow: hidden;padding: 0;position: absolute;width: 1px;}#sk-container-id-2 div.sk-estimator {font-family: monospace;background-color: #f0f8ff;border: 1px dotted black;border-radius: 0.25em;box-sizing: border-box;margin-bottom: 0.5em;}#sk-container-id-2 div.sk-estimator:hover {background-color: #d4ebff;}#sk-container-id-2 div.sk-parallel-item::after {content: \"\";width: 100%;border-bottom: 1px solid gray;flex-grow: 1;}#sk-container-id-2 div.sk-label:hover label.sk-toggleable__label {background-color: #d4ebff;}#sk-container-id-2 div.sk-serial::before {content: \"\";position: absolute;border-left: 1px solid gray;box-sizing: border-box;top: 0;bottom: 0;left: 50%;z-index: 0;}#sk-container-id-2 div.sk-serial {display: flex;flex-direction: column;align-items: center;background-color: white;padding-right: 0.2em;padding-left: 0.2em;position: relative;}#sk-container-id-2 div.sk-item {position: relative;z-index: 1;}#sk-container-id-2 div.sk-parallel {display: flex;align-items: stretch;justify-content: center;background-color: white;position: relative;}#sk-container-id-2 div.sk-item::before, #sk-container-id-2 div.sk-parallel-item::before {content: \"\";position: absolute;border-left: 1px solid gray;box-sizing: border-box;top: 0;bottom: 0;left: 50%;z-index: -1;}#sk-container-id-2 div.sk-parallel-item {display: flex;flex-direction: column;z-index: 1;position: relative;background-color: white;}#sk-container-id-2 div.sk-parallel-item:first-child::after {align-self: flex-end;width: 50%;}#sk-container-id-2 div.sk-parallel-item:last-child::after {align-self: flex-start;width: 50%;}#sk-container-id-2 div.sk-parallel-item:only-child::after {width: 0;}#sk-container-id-2 div.sk-dashed-wrapped {border: 1px dashed gray;margin: 0 0.4em 0.5em 0.4em;box-sizing: border-box;padding-bottom: 0.4em;background-color: white;}#sk-container-id-2 div.sk-label label {font-family: monospace;font-weight: bold;display: inline-block;line-height: 1.2em;}#sk-container-id-2 div.sk-label-container {text-align: center;}#sk-container-id-2 div.sk-container {/* jupyter's `normalize.less` sets `[hidden] { display: none; }` but bootstrap.min.css set `[hidden] { display: none !important; }` so we also need the `!important` here to be able to override the default hidden behavior on the sphinx rendered scikit-learn.org. See: https://github.com/scikit-learn/scikit-learn/issues/21755 */display: inline-block !important;position: relative;}#sk-container-id-2 div.sk-text-repr-fallback {display: none;}</style><div id=\"sk-container-id-2\" class=\"sk-top-container\"><div class=\"sk-text-repr-fallback\"><pre>RandomForestRegressor(max_depth=8, max_features=&#x27;log2&#x27;, n_estimators=120,\n",
       "                      random_state=1)</pre><b>In a Jupyter environment, please rerun this cell to show the HTML representation or trust the notebook. <br />On GitHub, the HTML representation is unable to render, please try loading this page with nbviewer.org.</b></div><div class=\"sk-container\" hidden><div class=\"sk-item\"><div class=\"sk-estimator sk-toggleable\"><input class=\"sk-toggleable__control sk-hidden--visually\" id=\"sk-estimator-id-2\" type=\"checkbox\" checked><label for=\"sk-estimator-id-2\" class=\"sk-toggleable__label sk-toggleable__label-arrow\">RandomForestRegressor</label><div class=\"sk-toggleable__content\"><pre>RandomForestRegressor(max_depth=8, max_features=&#x27;log2&#x27;, n_estimators=120,\n",
       "                      random_state=1)</pre></div></div></div></div></div>"
      ],
      "text/plain": [
       "RandomForestRegressor(max_depth=8, max_features='log2', n_estimators=120,\n",
       "                      random_state=1)"
      ]
     },
     "execution_count": 37,
     "metadata": {},
     "output_type": "execute_result"
    }
   ],
   "source": [
    "# Choose the type of classifier. \n",
    "rf_tuned = RandomForestRegressor(random_state=1)\n",
    "\n",
    "# Grid of parameters to choose from\n",
    "parameters = {  \n",
    "                'max_depth':[4, 6, 8, 10, None],\n",
    "                'max_features': ['sqrt','log2',None],\n",
    "                'n_estimators': [80, 90, 100, 110, 120]\n",
    "}\n",
    "\n",
    "# Type of scoring used to compare parameter combinations\n",
    "scorer = metrics.make_scorer(metrics.mean_squared_error)\n",
    "\n",
    "# Run the grid search\n",
    "grid_obj = GridSearchCV(rf_tuned, parameters, scoring=scorer,cv=5)\n",
    "grid_obj = grid_obj.fit(X_train, y_train)\n",
    "\n",
    "# Set the clf to the best combination of parameters\n",
    "rf_tuned = grid_obj.best_estimator_\n",
    "\n",
    "# Fit the best algorithm to the data. \n",
    "rf_tuned.fit(X_train, y_train)"
   ]
  },
  {
   "cell_type": "code",
   "execution_count": 38,
   "id": "7bdf4136",
   "metadata": {
    "execution": {
     "iopub.execute_input": "2023-12-22T21:19:13.659524Z",
     "iopub.status.busy": "2023-12-22T21:19:13.658656Z",
     "iopub.status.idle": "2023-12-22T21:19:13.680365Z",
     "shell.execute_reply": "2023-12-22T21:19:13.679202Z"
    },
    "papermill": {
     "duration": 0.05875,
     "end_time": "2023-12-22T21:19:13.683345",
     "exception": false,
     "start_time": "2023-12-22T21:19:13.624595",
     "status": "completed"
    },
    "tags": []
   },
   "outputs": [
    {
     "name": "stdout",
     "output_type": "stream",
     "text": [
      "Training performance \n",
      "        RMSE       MAE  R-squared  Adj. R-squared     MAPE\n",
      "0  0.051338  0.032018   0.899054        1.033147  0.35063\n"
     ]
    }
   ],
   "source": [
    "rf_tuned_model_train_perf = model_performance_regression(rf_tuned, X_train, y_train)\n",
    "print(\"Training performance \\n\",rf_tuned_model_train_perf)"
   ]
  },
  {
   "cell_type": "code",
   "execution_count": 39,
   "id": "17fda3cc",
   "metadata": {
    "execution": {
     "iopub.execute_input": "2023-12-22T21:19:13.750703Z",
     "iopub.status.busy": "2023-12-22T21:19:13.749983Z",
     "iopub.status.idle": "2023-12-22T21:19:13.773624Z",
     "shell.execute_reply": "2023-12-22T21:19:13.771594Z"
    },
    "papermill": {
     "duration": 0.061127,
     "end_time": "2023-12-22T21:19:13.776818",
     "exception": false,
     "start_time": "2023-12-22T21:19:13.715691",
     "status": "completed"
    },
    "tags": []
   },
   "outputs": [
    {
     "name": "stdout",
     "output_type": "stream",
     "text": [
      "Testing performance \n",
      "        RMSE       MAE  R-squared  Adj. R-squared     MAPE\n",
      "0  0.117916  0.117916        NaN             NaN  1.24542\n"
     ]
    }
   ],
   "source": [
    "rf_tuned_model_test_perf = model_performance_regression(rf_tuned, X_test, y_test)\n",
    "print(\"Testing performance \\n\",rf_tuned_model_test_perf)"
   ]
  },
  {
   "cell_type": "code",
   "execution_count": 40,
   "id": "f1f2e8cb",
   "metadata": {
    "execution": {
     "iopub.execute_input": "2023-12-22T21:19:13.848604Z",
     "iopub.status.busy": "2023-12-22T21:19:13.847927Z",
     "iopub.status.idle": "2023-12-22T21:19:13.863798Z",
     "shell.execute_reply": "2023-12-22T21:19:13.862932Z"
    },
    "papermill": {
     "duration": 0.054627,
     "end_time": "2023-12-22T21:19:13.866793",
     "exception": false,
     "start_time": "2023-12-22T21:19:13.812166",
     "status": "completed"
    },
    "tags": []
   },
   "outputs": [
    {
     "name": "stdout",
     "output_type": "stream",
     "text": [
      "                                                         Imp\n",
      "Online Sales_lag1                                   0.062485\n",
      "Log_Revenue_lag1                                    0.057886\n",
      "GDP_China_lag1                                      0.056916\n",
      "Earnings Quality Score                              0.055494\n",
      "CCI_lag1                                            0.050469\n",
      "...                                                      ...\n",
      "news_Layoffs, Other Pre-Announcement                0.000000\n",
      "news_Products, Officer Changes, Earnings Announ...  0.000000\n",
      "news_Regulatory, Management Compensation, Labor...  0.000000\n",
      "news_Litigation_lag1                                0.000000\n",
      "news_Equity Financing / Related, Mergers / Acqu...  0.000000\n",
      "\n",
      "[89 rows x 1 columns]\n"
     ]
    }
   ],
   "source": [
    "# importance of features in the tree building ( The importance of a feature is computed as the \n",
    "#(normalized) total reduction of the criterion brought by that feature. It is also known as the Gini importance )\n",
    "\n",
    "print(pd.DataFrame(rf_tuned.feature_importances_, columns = [\"Imp\"], index = X_train.columns).sort_values(by = 'Imp', ascending = False))"
   ]
  },
  {
   "cell_type": "code",
   "execution_count": 41,
   "id": "200567ed",
   "metadata": {
    "execution": {
     "iopub.execute_input": "2023-12-22T21:19:13.939612Z",
     "iopub.status.busy": "2023-12-22T21:19:13.938962Z",
     "iopub.status.idle": "2023-12-22T21:19:13.958554Z",
     "shell.execute_reply": "2023-12-22T21:19:13.956752Z"
    },
    "papermill": {
     "duration": 0.06057,
     "end_time": "2023-12-22T21:19:13.961356",
     "exception": false,
     "start_time": "2023-12-22T21:19:13.900786",
     "status": "completed"
    },
    "tags": []
   },
   "outputs": [
    {
     "name": "stdout",
     "output_type": "stream",
     "text": [
      "              Actual  Predicted\n",
      "Quarter                        \n",
      "2023-08-01  9.468001   9.317539\n",
      "             Actual     Predicted\n",
      "Quarter                          \n",
      "2023-08-01  12939.0  11131.558078\n"
     ]
    }
   ],
   "source": [
    "# Make predictions on the test set based on random forest\n",
    "y_pred = rf_estimator.predict(X_test)\n",
    "\n",
    "# Create a DataFrame to display the results\n",
    "results_df = pd.DataFrame({'Actual': y_test, 'Predicted': y_pred})\n",
    "result_df_exp = np.exp(results_df)\n",
    "# Display the DataFrame\n",
    "print(results_df)\n",
    "print(result_df_exp)"
   ]
  },
  {
   "cell_type": "code",
   "execution_count": 42,
   "id": "ee5284d2",
   "metadata": {
    "execution": {
     "iopub.execute_input": "2023-12-22T21:19:14.029840Z",
     "iopub.status.busy": "2023-12-22T21:19:14.029415Z",
     "iopub.status.idle": "2023-12-22T21:19:14.052694Z",
     "shell.execute_reply": "2023-12-22T21:19:14.050604Z"
    },
    "papermill": {
     "duration": 0.060845,
     "end_time": "2023-12-22T21:19:14.055516",
     "exception": false,
     "start_time": "2023-12-22T21:19:13.994671",
     "status": "completed"
    },
    "tags": []
   },
   "outputs": [
    {
     "name": "stdout",
     "output_type": "stream",
     "text": [
      "              Actual  Predicted\n",
      "Quarter                        \n",
      "2023-08-01  9.468001   9.350085\n",
      "             Actual    Predicted\n",
      "Quarter                         \n",
      "2023-08-01  12939.0  11499.80024\n"
     ]
    }
   ],
   "source": [
    "# Make predictions on the test set based on tuned random forest\n",
    "y_pred = rf_tuned.predict(X_test)\n",
    "\n",
    "# Create a DataFrame to display the results\n",
    "results_df = pd.DataFrame({'Actual': y_test, 'Predicted': y_pred})\n",
    "result_df_exp = np.exp(results_df)\n",
    "# Display the DataFrame\n",
    "print(results_df)\n",
    "print(result_df_exp)"
   ]
  },
  {
   "cell_type": "markdown",
   "id": "e398ccaa",
   "metadata": {
    "papermill": {
     "duration": 0.032824,
     "end_time": "2023-12-22T21:19:14.122073",
     "exception": false,
     "start_time": "2023-12-22T21:19:14.089249",
     "status": "completed"
    },
    "tags": []
   },
   "source": [
    "# **Monte Carlo Simulation**"
   ]
  },
  {
   "cell_type": "code",
   "execution_count": 43,
   "id": "9b65985d",
   "metadata": {
    "execution": {
     "iopub.execute_input": "2023-12-22T21:19:14.189974Z",
     "iopub.status.busy": "2023-12-22T21:19:14.189480Z",
     "iopub.status.idle": "2023-12-22T21:19:14.221226Z",
     "shell.execute_reply": "2023-12-22T21:19:14.219673Z"
    },
    "papermill": {
     "duration": 0.069006,
     "end_time": "2023-12-22T21:19:14.223986",
     "exception": false,
     "start_time": "2023-12-22T21:19:14.154980",
     "status": "completed"
    },
    "tags": []
   },
   "outputs": [
    {
     "data": {
      "text/html": [
       "<div>\n",
       "<style scoped>\n",
       "    .dataframe tbody tr th:only-of-type {\n",
       "        vertical-align: middle;\n",
       "    }\n",
       "\n",
       "    .dataframe tbody tr th {\n",
       "        vertical-align: top;\n",
       "    }\n",
       "\n",
       "    .dataframe thead th {\n",
       "        text-align: right;\n",
       "    }\n",
       "</style>\n",
       "<table border=\"1\" class=\"dataframe\">\n",
       "  <thead>\n",
       "    <tr style=\"text-align: right;\">\n",
       "      <th></th>\n",
       "      <th>Revenue</th>\n",
       "      <th>GDP_USA</th>\n",
       "      <th>GDP_China</th>\n",
       "      <th>GPD_EU</th>\n",
       "      <th>Combined Alpha Score</th>\n",
       "      <th>Euro_dollar</th>\n",
       "      <th>Yen_dollar</th>\n",
       "      <th>Retail Sales</th>\n",
       "      <th>Online Sales</th>\n",
       "      <th>Earnings Quality Score</th>\n",
       "      <th>...</th>\n",
       "      <th>news_Products, Expansion</th>\n",
       "      <th>news_Products, Litigation</th>\n",
       "      <th>news_Products, Officer Changes, Earnings Announcements</th>\n",
       "      <th>news_Products, Restructuring / Reorganization, Expansion</th>\n",
       "      <th>news_Regulatory</th>\n",
       "      <th>news_Regulatory, Earnings Announcements</th>\n",
       "      <th>news_Regulatory, Management Compensation, Labor Issues</th>\n",
       "      <th>news_ Strategic Combinations</th>\n",
       "      <th>QY</th>\n",
       "      <th>Log_Revenue</th>\n",
       "    </tr>\n",
       "    <tr>\n",
       "      <th>Quarter</th>\n",
       "      <th></th>\n",
       "      <th></th>\n",
       "      <th></th>\n",
       "      <th></th>\n",
       "      <th></th>\n",
       "      <th></th>\n",
       "      <th></th>\n",
       "      <th></th>\n",
       "      <th></th>\n",
       "      <th></th>\n",
       "      <th></th>\n",
       "      <th></th>\n",
       "      <th></th>\n",
       "      <th></th>\n",
       "      <th></th>\n",
       "      <th></th>\n",
       "      <th></th>\n",
       "      <th></th>\n",
       "      <th></th>\n",
       "      <th></th>\n",
       "      <th></th>\n",
       "    </tr>\n",
       "  </thead>\n",
       "  <tbody>\n",
       "    <tr>\n",
       "      <th>2017-08-01</th>\n",
       "      <td>9070</td>\n",
       "      <td>0.032</td>\n",
       "      <td>0.016</td>\n",
       "      <td>0.008</td>\n",
       "      <td>24</td>\n",
       "      <td>1.181</td>\n",
       "      <td>6.647</td>\n",
       "      <td>2535</td>\n",
       "      <td>0</td>\n",
       "      <td>80</td>\n",
       "      <td>...</td>\n",
       "      <td>0</td>\n",
       "      <td>0</td>\n",
       "      <td>0</td>\n",
       "      <td>0</td>\n",
       "      <td>0</td>\n",
       "      <td>0</td>\n",
       "      <td>0</td>\n",
       "      <td>0</td>\n",
       "      <td>2017Q3</td>\n",
       "      <td>9.112728</td>\n",
       "    </tr>\n",
       "    <tr>\n",
       "      <th>2017-11-01</th>\n",
       "      <td>8554</td>\n",
       "      <td>0.046</td>\n",
       "      <td>0.016</td>\n",
       "      <td>0.008</td>\n",
       "      <td>20</td>\n",
       "      <td>1.200</td>\n",
       "      <td>6.513</td>\n",
       "      <td>2484</td>\n",
       "      <td>0</td>\n",
       "      <td>87</td>\n",
       "      <td>...</td>\n",
       "      <td>0</td>\n",
       "      <td>0</td>\n",
       "      <td>0</td>\n",
       "      <td>0</td>\n",
       "      <td>0</td>\n",
       "      <td>0</td>\n",
       "      <td>0</td>\n",
       "      <td>1</td>\n",
       "      <td>2017Q4</td>\n",
       "      <td>9.054154</td>\n",
       "    </tr>\n",
       "    <tr>\n",
       "      <th>2018-02-01</th>\n",
       "      <td>8984</td>\n",
       "      <td>0.033</td>\n",
       "      <td>0.019</td>\n",
       "      <td>0.002</td>\n",
       "      <td>38</td>\n",
       "      <td>1.232</td>\n",
       "      <td>6.260</td>\n",
       "      <td>2611</td>\n",
       "      <td>0</td>\n",
       "      <td>93</td>\n",
       "      <td>...</td>\n",
       "      <td>0</td>\n",
       "      <td>0</td>\n",
       "      <td>0</td>\n",
       "      <td>0</td>\n",
       "      <td>0</td>\n",
       "      <td>0</td>\n",
       "      <td>0</td>\n",
       "      <td>1</td>\n",
       "      <td>2018Q1</td>\n",
       "      <td>9.103200</td>\n",
       "    </tr>\n",
       "    <tr>\n",
       "      <th>2018-05-01</th>\n",
       "      <td>9789</td>\n",
       "      <td>0.021</td>\n",
       "      <td>0.017</td>\n",
       "      <td>0.006</td>\n",
       "      <td>39</td>\n",
       "      <td>1.168</td>\n",
       "      <td>6.634</td>\n",
       "      <td>2798</td>\n",
       "      <td>0</td>\n",
       "      <td>90</td>\n",
       "      <td>...</td>\n",
       "      <td>0</td>\n",
       "      <td>0</td>\n",
       "      <td>0</td>\n",
       "      <td>0</td>\n",
       "      <td>0</td>\n",
       "      <td>0</td>\n",
       "      <td>0</td>\n",
       "      <td>0</td>\n",
       "      <td>2018Q2</td>\n",
       "      <td>9.189015</td>\n",
       "    </tr>\n",
       "    <tr>\n",
       "      <th>2018-08-01</th>\n",
       "      <td>9948</td>\n",
       "      <td>0.025</td>\n",
       "      <td>0.014</td>\n",
       "      <td>0.001</td>\n",
       "      <td>71</td>\n",
       "      <td>1.161</td>\n",
       "      <td>6.875</td>\n",
       "      <td>2851</td>\n",
       "      <td>0</td>\n",
       "      <td>96</td>\n",
       "      <td>...</td>\n",
       "      <td>0</td>\n",
       "      <td>0</td>\n",
       "      <td>0</td>\n",
       "      <td>0</td>\n",
       "      <td>0</td>\n",
       "      <td>0</td>\n",
       "      <td>0</td>\n",
       "      <td>0</td>\n",
       "      <td>2018Q3</td>\n",
       "      <td>9.205127</td>\n",
       "    </tr>\n",
       "  </tbody>\n",
       "</table>\n",
       "<p>5 rows × 47 columns</p>\n",
       "</div>"
      ],
      "text/plain": [
       "            Revenue  GDP_USA  GDP_China  GPD_EU  Combined Alpha Score  \\\n",
       "Quarter                                                                 \n",
       "2017-08-01     9070    0.032      0.016   0.008                    24   \n",
       "2017-11-01     8554    0.046      0.016   0.008                    20   \n",
       "2018-02-01     8984    0.033      0.019   0.002                    38   \n",
       "2018-05-01     9789    0.021      0.017   0.006                    39   \n",
       "2018-08-01     9948    0.025      0.014   0.001                    71   \n",
       "\n",
       "            Euro_dollar  Yen_dollar  Retail Sales  Online Sales  \\\n",
       "Quarter                                                           \n",
       "2017-08-01        1.181       6.647          2535             0   \n",
       "2017-11-01        1.200       6.513          2484             0   \n",
       "2018-02-01        1.232       6.260          2611             0   \n",
       "2018-05-01        1.168       6.634          2798             0   \n",
       "2018-08-01        1.161       6.875          2851             0   \n",
       "\n",
       "            Earnings Quality Score  ...  news_Products, Expansion  \\\n",
       "Quarter                             ...                             \n",
       "2017-08-01                      80  ...                         0   \n",
       "2017-11-01                      87  ...                         0   \n",
       "2018-02-01                      93  ...                         0   \n",
       "2018-05-01                      90  ...                         0   \n",
       "2018-08-01                      96  ...                         0   \n",
       "\n",
       "            news_Products, Litigation  \\\n",
       "Quarter                                 \n",
       "2017-08-01                          0   \n",
       "2017-11-01                          0   \n",
       "2018-02-01                          0   \n",
       "2018-05-01                          0   \n",
       "2018-08-01                          0   \n",
       "\n",
       "            news_Products, Officer Changes, Earnings Announcements  \\\n",
       "Quarter                                                              \n",
       "2017-08-01                                                  0        \n",
       "2017-11-01                                                  0        \n",
       "2018-02-01                                                  0        \n",
       "2018-05-01                                                  0        \n",
       "2018-08-01                                                  0        \n",
       "\n",
       "            news_Products, Restructuring / Reorganization, Expansion  \\\n",
       "Quarter                                                                \n",
       "2017-08-01                                                  0          \n",
       "2017-11-01                                                  0          \n",
       "2018-02-01                                                  0          \n",
       "2018-05-01                                                  0          \n",
       "2018-08-01                                                  0          \n",
       "\n",
       "            news_Regulatory  news_Regulatory, Earnings Announcements  \\\n",
       "Quarter                                                                \n",
       "2017-08-01                0                                        0   \n",
       "2017-11-01                0                                        0   \n",
       "2018-02-01                0                                        0   \n",
       "2018-05-01                0                                        0   \n",
       "2018-08-01                0                                        0   \n",
       "\n",
       "            news_Regulatory, Management Compensation, Labor Issues  \\\n",
       "Quarter                                                              \n",
       "2017-08-01                                                  0        \n",
       "2017-11-01                                                  0        \n",
       "2018-02-01                                                  0        \n",
       "2018-05-01                                                  0        \n",
       "2018-08-01                                                  0        \n",
       "\n",
       "            news_ Strategic Combinations      QY  Log_Revenue  \n",
       "Quarter                                                        \n",
       "2017-08-01                             0  2017Q3     9.112728  \n",
       "2017-11-01                             1  2017Q4     9.054154  \n",
       "2018-02-01                             1  2018Q1     9.103200  \n",
       "2018-05-01                             0  2018Q2     9.189015  \n",
       "2018-08-01                             0  2018Q3     9.205127  \n",
       "\n",
       "[5 rows x 47 columns]"
      ]
     },
     "execution_count": 43,
     "metadata": {},
     "output_type": "execute_result"
    }
   ],
   "source": [
    "historical_revenues = df['Revenue']\n",
    "df.head()"
   ]
  },
  {
   "cell_type": "code",
   "execution_count": 44,
   "id": "0071bcef",
   "metadata": {
    "execution": {
     "iopub.execute_input": "2023-12-22T21:19:14.292996Z",
     "iopub.status.busy": "2023-12-22T21:19:14.292519Z",
     "iopub.status.idle": "2023-12-22T21:19:14.299996Z",
     "shell.execute_reply": "2023-12-22T21:19:14.299099Z"
    },
    "papermill": {
     "duration": 0.045697,
     "end_time": "2023-12-22T21:19:14.303176",
     "exception": false,
     "start_time": "2023-12-22T21:19:14.257479",
     "status": "completed"
    },
    "tags": []
   },
   "outputs": [
    {
     "name": "stdout",
     "output_type": "stream",
     "text": [
      "revenue_mean 10732.84\n",
      "revenue_stdev 1658.7684859557708\n"
     ]
    }
   ],
   "source": [
    "# calculating the inputs for the Monte Carlo Simulation\n",
    "\n",
    "rev_mean1 = df['Revenue'].mean()\n",
    "rev_stdev1 = df['Revenue'].std()\n",
    "iteration1 = 1000000\n",
    "\n",
    "print('revenue_mean',rev_mean1)\n",
    "print('revenue_stdev',rev_stdev1)"
   ]
  },
  {
   "cell_type": "code",
   "execution_count": 45,
   "id": "f4a846b8",
   "metadata": {
    "execution": {
     "iopub.execute_input": "2023-12-22T21:19:14.372960Z",
     "iopub.status.busy": "2023-12-22T21:19:14.372493Z",
     "iopub.status.idle": "2023-12-22T21:19:14.382192Z",
     "shell.execute_reply": "2023-12-22T21:19:14.381242Z"
    },
    "papermill": {
     "duration": 0.048545,
     "end_time": "2023-12-22T21:19:14.385466",
     "exception": false,
     "start_time": "2023-12-22T21:19:14.336921",
     "status": "completed"
    },
    "tags": []
   },
   "outputs": [
    {
     "name": "stdout",
     "output_type": "stream",
     "text": [
      "revenue_mean 11954.153846153846\n",
      "revenue_stdev 960.0492909354399\n"
     ]
    }
   ],
   "source": [
    "# we will only take the periods after Q2_2020\n",
    "rev_mean = df[df.index > '2020-05-01']['Revenue'].mean()\n",
    "rev_stdev = df[df.index > '2020-05-01']['Revenue'].std()\n",
    "iteration = 1000000\n",
    "print('revenue_mean',rev_mean)\n",
    "print('revenue_stdev',rev_stdev)"
   ]
  },
  {
   "cell_type": "code",
   "execution_count": 46,
   "id": "764affb5",
   "metadata": {
    "execution": {
     "iopub.execute_input": "2023-12-22T21:19:14.457316Z",
     "iopub.status.busy": "2023-12-22T21:19:14.456469Z",
     "iopub.status.idle": "2023-12-22T21:19:14.503392Z",
     "shell.execute_reply": "2023-12-22T21:19:14.501849Z"
    },
    "papermill": {
     "duration": 0.086233,
     "end_time": "2023-12-22T21:19:14.506602",
     "exception": false,
     "start_time": "2023-12-22T21:19:14.420369",
     "status": "completed"
    },
    "tags": []
   },
   "outputs": [],
   "source": [
    "rev = np.random.normal(rev_mean, rev_stdev, iteration )"
   ]
  },
  {
   "cell_type": "code",
   "execution_count": 47,
   "id": "6e22043a",
   "metadata": {
    "execution": {
     "iopub.execute_input": "2023-12-22T21:19:14.582147Z",
     "iopub.status.busy": "2023-12-22T21:19:14.581076Z",
     "iopub.status.idle": "2023-12-22T21:19:17.242336Z",
     "shell.execute_reply": "2023-12-22T21:19:17.241092Z"
    },
    "papermill": {
     "duration": 2.701028,
     "end_time": "2023-12-22T21:19:17.245383",
     "exception": false,
     "start_time": "2023-12-22T21:19:14.544355",
     "status": "completed"
    },
    "tags": []
   },
   "outputs": [
    {
     "data": {
      "image/png": "[encoded data removed]",
      "text/plain": [
       "<Figure size 1500x700 with 1 Axes>"
      ]
     },
     "metadata": {},
     "output_type": "display_data"
    }
   ],
   "source": [
    "plt.figure(figsize=(15,7))\n",
    "plt.plot(rev)\n",
    "plt.show()"
   ]
  },
  {
   "cell_type": "code",
   "execution_count": 48,
   "id": "87bcd18f",
   "metadata": {
    "execution": {
     "iopub.execute_input": "2023-12-22T21:19:17.323636Z",
     "iopub.status.busy": "2023-12-22T21:19:17.322511Z",
     "iopub.status.idle": "2023-12-22T21:22:33.585937Z",
     "shell.execute_reply": "2023-12-22T21:22:33.584755Z"
    },
    "papermill": {
     "duration": 196.343697,
     "end_time": "2023-12-22T21:22:33.625763",
     "exception": false,
     "start_time": "2023-12-22T21:19:17.282066",
     "status": "completed"
    },
    "tags": []
   },
   "outputs": [
    {
     "data": {
      "image/png": "[encoded data removed]",
      "text/plain": [
       "<Figure size 1000x600 with 1 Axes>"
      ]
     },
     "metadata": {},
     "output_type": "display_data"
    }
   ],
   "source": [
    "# Sort the index in ascending order (from old to new dates)\n",
    "df = df.sort_index(ascending=True)\n",
    "\n",
    "# Number of simulations\n",
    "num_simulations = 1000000\n",
    "\n",
    "# Plot historical sales\n",
    "plt.figure(figsize=(10, 6))\n",
    "plt.plot(df.index, df['Revenue'], label='Historical Sales', color='blue')\n",
    "\n",
    "# Lists to store mean, upper, and lower bounds for each time point\n",
    "means = []\n",
    "upper_bounds = []\n",
    "lower_bounds = []\n",
    "simulated_values_all = np.zeros((len(df), num_simulations))  # To store all simulated values\n",
    "\n",
    "# Perform Monte Carlo simulation for each historical data point\n",
    "for i, (index, row) in enumerate(df.iterrows()):\n",
    "    if i == 0:\n",
    "        # For the first period, use historical mean and standard deviation\n",
    "        historical_mean = row['Revenue']\n",
    "        historical_stdev = df['Revenue'][:i].std()\n",
    "    else:\n",
    "        # For subsequent periods, use the mean and standard deviation of the previous periods\n",
    "        historical_mean = df['Revenue'][:i].mean()\n",
    "        historical_stdev = df['Revenue'][:i].std()\n",
    "\n",
    "    # Generate simulated sales data using a normal distribution around the historical mean\n",
    "    simulated_sales = np.random.normal(loc=historical_mean, scale=historical_stdev, size=num_simulations)\n",
    "    simulated_values_all[i, :] = simulated_sales  # Store simulated values for later\n",
    "    \n",
    "    # Plot simulated sales with reduced opacity\n",
    "    plt.plot([index] * num_simulations, simulated_sales, alpha=0.1, color='orange')\n",
    "    \n",
    "    # Calculate upper and lower bounds based on standard deviation\n",
    "    upper_bound = historical_mean + historical_stdev\n",
    "    lower_bound = historical_mean - historical_stdev\n",
    "    plt.plot([index, index], [lower_bound, upper_bound], color='red', linestyle='dashed')  # Plot bounds in red\n",
    "\n",
    "    # Calculate and store mean of simulated values\n",
    "    mean_value = np.mean(simulated_sales)\n",
    "    means.append(mean_value)\n",
    "\n",
    "# Calculate and plot the mean of simulated values across all scenarios\n",
    "simulated_mean_all = np.mean(simulated_values_all, axis=1)\n",
    "plt.plot(df.index, simulated_mean_all, label='Simulated Mean (All Scenarios)', linestyle='dashed', color='green')\n",
    "\n",
    "# Format x-axis ticks as quarters\n",
    "date_form = DateFormatter(\"%Y-%m-%d\")\n",
    "plt.gca().xaxis.set_major_formatter(date_form)\n",
    "plt.gca().xaxis.set_major_locator(plt.MaxNLocator(15))  # Adjust the number of ticks for better readability\n",
    "\n",
    "plt.title('Monte Carlo Simulation - Historical vs Simulated Sales')\n",
    "plt.xlabel('Date')\n",
    "plt.xticks(rotation=90)\n",
    "plt.ylabel('Sales')\n",
    "plt.legend()\n",
    "plt.show()"
   ]
  },
  {
   "cell_type": "code",
   "execution_count": 49,
   "id": "039243c3",
   "metadata": {
    "execution": {
     "iopub.execute_input": "2023-12-22T21:22:33.699710Z",
     "iopub.status.busy": "2023-12-22T21:22:33.699025Z",
     "iopub.status.idle": "2023-12-22T21:22:33.709684Z",
     "shell.execute_reply": "2023-12-22T21:22:33.708557Z"
    },
    "papermill": {
     "duration": 0.051125,
     "end_time": "2023-12-22T21:22:33.712989",
     "exception": false,
     "start_time": "2023-12-22T21:22:33.661864",
     "status": "completed"
    },
    "tags": []
   },
   "outputs": [
    {
     "name": "stdout",
     "output_type": "stream",
     "text": [
      "         Date  Real Value  Mean Simulated Value\n",
      "0  2017-08-01        9070                   NaN\n",
      "1  2017-11-01        8554                   NaN\n",
      "2  2018-02-01        8984           8812.470197\n",
      "3  2018-05-01        9789           8868.977000\n",
      "4  2018-08-01        9948           9099.304612\n",
      "5  2018-11-01        9374           9269.701460\n",
      "6  2019-02-01        9611           9286.072034\n",
      "7  2019-05-01       10184           9333.003367\n",
      "8  2019-08-01       10660           9439.657394\n",
      "9  2019-11-01       10326           9574.729443\n",
      "10 2020-02-01       10104           9650.287553\n",
      "11 2020-05-01        6313           9691.298141\n",
      "12 2020-08-01       10594           9409.254400\n",
      "13 2020-11-01       11243           9501.125761\n",
      "14 2021-02-01       10357           9624.717550\n",
      "15 2021-05-01       12344           9673.373191\n",
      "16 2021-08-01       12248           9839.690460\n",
      "17 2021-11-01       11357           9984.997835\n",
      "18 2022-02-01       10871          10058.388538\n",
      "19 2022-05-01       12234          10102.977576\n",
      "20 2022-08-01       12687          10207.940225\n",
      "21 2022-11-01       13315          10324.372814\n",
      "22 2023-02-01       12390          10459.739765\n",
      "23 2023-05-01       12825          10547.082296\n",
      "24 2023-08-01       12939          10639.728311\n"
     ]
    }
   ],
   "source": [
    "# Create a DataFrame with the index, real value, and mean simulated value\n",
    "result_df = pd.DataFrame({\n",
    "    'Date': df.index,\n",
    "    'Real Value': df['Revenue'].values,\n",
    "    'Mean Simulated Value': means\n",
    "})\n",
    "\n",
    "# Display the DataFrame\n",
    "print(result_df)"
   ]
  },
  {
   "cell_type": "markdown",
   "id": "02899956",
   "metadata": {
    "papermill": {
     "duration": 0.038317,
     "end_time": "2023-12-22T21:22:33.789371",
     "exception": false,
     "start_time": "2023-12-22T21:22:33.751054",
     "status": "completed"
    },
    "tags": []
   },
   "source": [
    "# **Optimized Monte Carlo Simulation (Antithetic Variance Reduction)**"
   ]
  },
  {
   "cell_type": "code",
   "execution_count": 50,
   "id": "f015c49a",
   "metadata": {
    "execution": {
     "iopub.execute_input": "2023-12-22T21:22:33.870014Z",
     "iopub.status.busy": "2023-12-22T21:22:33.869304Z",
     "iopub.status.idle": "2023-12-22T21:22:35.168193Z",
     "shell.execute_reply": "2023-12-22T21:22:35.166692Z"
    },
    "papermill": {
     "duration": 1.342958,
     "end_time": "2023-12-22T21:22:35.171054",
     "exception": false,
     "start_time": "2023-12-22T21:22:33.828096",
     "status": "completed"
    },
    "tags": []
   },
   "outputs": [
    {
     "data": {
      "image/png": "[encoded data removed]",
      "text/plain": [
       "<Figure size 1000x600 with 1 Axes>"
      ]
     },
     "metadata": {},
     "output_type": "display_data"
    }
   ],
   "source": [
    "# Sort the index in ascending order (from old to new dates)\n",
    "df = df.sort_index(ascending=True)\n",
    "\n",
    "# Number of simulations (divided by 2 for antithetic pairs)\n",
    "num_simulations = 1000000 // 2\n",
    "\n",
    "# Plot historical sales\n",
    "plt.figure(figsize=(10, 6))\n",
    "plt.plot(df.index, df['Revenue'], label='Historical Sales', color='blue')\n",
    "\n",
    "# Lists to store mean, upper, and lower bounds for each time point\n",
    "means = []\n",
    "upper_bounds = []\n",
    "lower_bounds = []\n",
    "simulated_values_all = np.zeros((len(df), num_simulations * 2))  # Adjusted for antithetic pairs\n",
    "\n",
    "# Perform Monte Carlo simulation for each historical data point\n",
    "for i, (index, row) in enumerate(df.iterrows()):\n",
    "    if i == 0:\n",
    "        historical_mean = row['Revenue']\n",
    "        historical_stdev = df['Revenue'][:i].std()\n",
    "    else:\n",
    "        historical_mean = df['Revenue'][:i].mean()\n",
    "        historical_stdev = df['Revenue'][:i].std()\n",
    "\n",
    "    # Generate simulated sales data\n",
    "    simulated_sales = np.random.normal(loc=historical_mean, scale=historical_stdev, size=num_simulations)\n",
    "\n",
    "    # Generate antithetic variables\n",
    "    antithetic_sales = 2 * historical_mean - simulated_sales\n",
    "\n",
    "    # Combine original and antithetic variables\n",
    "    combined_sales = np.concatenate((simulated_sales, antithetic_sales))\n",
    "    simulated_values_all[i, :] = combined_sales\n",
    "\n",
    "    # Calculate upper and lower bounds based on standard deviation\n",
    "    upper_bound = historical_mean + historical_stdev\n",
    "    lower_bound = historical_mean - historical_stdev\n",
    "\n",
    "    # Calculate and store mean of simulated values\n",
    "    mean_value = np.mean(combined_sales)\n",
    "    means.append(mean_value)\n",
    "\n",
    "# Calculate and plot the mean of simulated values across all scenarios\n",
    "simulated_mean_all = np.mean(simulated_values_all, axis=1)\n",
    "plt.plot(df.index, simulated_mean_all, label='Simulated Mean (Antithetic)', linestyle='dashed', color='green')\n",
    "\n",
    "# Format x-axis ticks as dates\n",
    "date_form = DateFormatter(\"%Y-%m-%d\")\n",
    "plt.gca().xaxis.set_major_formatter(date_form)\n",
    "plt.gca().xaxis.set_major_locator(plt.MaxNLocator(15))\n",
    "\n",
    "plt.title('Monte Carlo Simulation with Antithetic Variance Reduction - Historical vs Simulated Sales')\n",
    "plt.xlabel('Date')\n",
    "plt.xticks(rotation=90)\n",
    "plt.ylabel('Sales')\n",
    "plt.legend()\n",
    "plt.show()\n"
   ]
  },
  {
   "cell_type": "code",
   "execution_count": 51,
   "id": "8b900ccc",
   "metadata": {
    "execution": {
     "iopub.execute_input": "2023-12-22T21:22:35.253110Z",
     "iopub.status.busy": "2023-12-22T21:22:35.252161Z",
     "iopub.status.idle": "2023-12-22T21:22:35.264653Z",
     "shell.execute_reply": "2023-12-22T21:22:35.263166Z"
    },
    "papermill": {
     "duration": 0.056951,
     "end_time": "2023-12-22T21:22:35.267615",
     "exception": false,
     "start_time": "2023-12-22T21:22:35.210664",
     "status": "completed"
    },
    "tags": []
   },
   "outputs": [
    {
     "name": "stdout",
     "output_type": "stream",
     "text": [
      "         Date  Real Value  Mean Simulated Value\n",
      "0  2017-08-01        9070                   NaN\n",
      "1  2017-11-01        8554                   NaN\n",
      "2  2018-02-01        8984           8812.000000\n",
      "3  2018-05-01        9789           8869.333333\n",
      "4  2018-08-01        9948           9099.250000\n",
      "5  2018-11-01        9374           9269.000000\n",
      "6  2019-02-01        9611           9286.500000\n",
      "7  2019-05-01       10184           9332.857143\n",
      "8  2019-08-01       10660           9439.250000\n",
      "9  2019-11-01       10326           9574.888889\n",
      "10 2020-02-01       10104           9650.000000\n",
      "11 2020-05-01        6313           9691.272727\n",
      "12 2020-08-01       10594           9409.750000\n",
      "13 2020-11-01       11243           9500.846154\n",
      "14 2021-02-01       10357           9625.285714\n",
      "15 2021-05-01       12344           9674.066667\n",
      "16 2021-08-01       12248           9840.937500\n",
      "17 2021-11-01       11357           9982.529412\n",
      "18 2022-02-01       10871          10058.888889\n",
      "19 2022-05-01       12234          10101.631579\n",
      "20 2022-08-01       12687          10208.250000\n",
      "21 2022-11-01       13315          10326.285714\n",
      "22 2023-02-01       12390          10462.136364\n",
      "23 2023-05-01       12825          10545.956522\n",
      "24 2023-08-01       12939          10640.916667\n"
     ]
    }
   ],
   "source": [
    "# Create a DataFrame with the index, real value, and mean simulated value\n",
    "result_df = pd.DataFrame({\n",
    "    'Date': df.index,\n",
    "    'Real Value': df['Revenue'].values,\n",
    "    'Mean Simulated Value': means\n",
    "})\n",
    "\n",
    "# Display the DataFrame\n",
    "print(result_df)"
   ]
  },
  {
   "cell_type": "markdown",
   "id": "6dc8e0ef",
   "metadata": {
    "papermill": {
     "duration": 0.03788,
     "end_time": "2023-12-22T21:22:35.343053",
     "exception": false,
     "start_time": "2023-12-22T21:22:35.305173",
     "status": "completed"
    },
    "tags": []
   },
   "source": [
    "# **Optimized Monte Carlo Simulation (Moment Matching)**"
   ]
  },
  {
   "cell_type": "code",
   "execution_count": 52,
   "id": "a4207ce4",
   "metadata": {
    "execution": {
     "iopub.execute_input": "2023-12-22T21:22:35.420840Z",
     "iopub.status.busy": "2023-12-22T21:22:35.420045Z",
     "iopub.status.idle": "2023-12-22T21:22:37.006074Z",
     "shell.execute_reply": "2023-12-22T21:22:37.004485Z"
    },
    "papermill": {
     "duration": 1.629219,
     "end_time": "2023-12-22T21:22:37.009700",
     "exception": false,
     "start_time": "2023-12-22T21:22:35.380481",
     "status": "completed"
    },
    "tags": []
   },
   "outputs": [
    {
     "data": {
      "image/png": "[encoded data removed]",
      "text/plain": [
       "<Figure size 1000x600 with 1 Axes>"
      ]
     },
     "metadata": {},
     "output_type": "display_data"
    }
   ],
   "source": [
    "# Sort the index in ascending order (from old to new dates)\n",
    "df = df.sort_index(ascending=True)\n",
    "\n",
    "# Number of simulations\n",
    "num_simulations = 1000000\n",
    "\n",
    "# Define a default standard deviation (e.g., overall standard deviation)\n",
    "default_stdev = df['Revenue'].std()\n",
    "\n",
    "# Plot historical sales\n",
    "plt.figure(figsize=(10, 6))\n",
    "plt.plot(df.index, df['Revenue'], label='Historical Sales', color='blue')\n",
    "\n",
    "# Lists to store mean, upper, and lower bounds for each time point\n",
    "means = []\n",
    "simulated_values_all = np.zeros((len(df), num_simulations))\n",
    "\n",
    "# Perform Monte Carlo simulation for each historical data point\n",
    "for i, (index, row) in enumerate(df.iterrows()):\n",
    "    if i == 0:\n",
    "        historical_mean = df['Revenue'].mean()\n",
    "        historical_stdev = default_stdev\n",
    "    else:\n",
    "        historical_mean = df['Revenue'][i-1]\n",
    "        historical_stdev = df['Revenue'][max(0, i-5):i].std()\n",
    "\n",
    "    # Avoid division by zero or NaN values\n",
    "    if historical_stdev == 0 or np.isnan(historical_stdev):\n",
    "        historical_stdev = default_stdev\n",
    "\n",
    "    # Generate simulated sales data using a normal distribution around the historical mean\n",
    "    simulated_sales = np.random.normal(loc=historical_mean, scale=historical_stdev, size=num_simulations)\n",
    "    simulated_values_all[i, :] = simulated_sales\n",
    "\n",
    "    # Calculate and store mean of simulated values\n",
    "    mean_value = np.mean(simulated_sales)\n",
    "    means.append(mean_value)\n",
    "\n",
    "# Calculate and plot the mean of simulated values across all scenarios\n",
    "simulated_mean_all = np.mean(simulated_values_all, axis=1)\n",
    "plt.plot(df.index, simulated_mean_all, label='Simulated Mean (Moment Matching)', linestyle='dashed', color='green')\n",
    "\n",
    "# Format x-axis ticks as dates\n",
    "date_form = DateFormatter(\"%Y-%m-%d\")\n",
    "plt.gca().xaxis.set_major_formatter(date_form)\n",
    "plt.gca().xaxis.set_major_locator(plt.MaxNLocator(15))\n",
    "\n",
    "plt.title('Monte Carlo Simulation with Moment Matching - Historical vs Simulated Sales')\n",
    "plt.xlabel('Date')\n",
    "plt.xticks(rotation=90)\n",
    "plt.ylabel('Sales')\n",
    "plt.legend()\n",
    "plt.show()\n",
    "\n"
   ]
  },
  {
   "cell_type": "code",
   "execution_count": 53,
   "id": "c8e36589",
   "metadata": {
    "execution": {
     "iopub.execute_input": "2023-12-22T21:22:37.094002Z",
     "iopub.status.busy": "2023-12-22T21:22:37.093170Z",
     "iopub.status.idle": "2023-12-22T21:22:37.105661Z",
     "shell.execute_reply": "2023-12-22T21:22:37.103664Z"
    },
    "papermill": {
     "duration": 0.059048,
     "end_time": "2023-12-22T21:22:37.108744",
     "exception": false,
     "start_time": "2023-12-22T21:22:37.049696",
     "status": "completed"
    },
    "tags": []
   },
   "outputs": [
    {
     "name": "stdout",
     "output_type": "stream",
     "text": [
      "         Date  Real Value  Mean Simulated Value\n",
      "0  2017-08-01        9070          10735.491408\n",
      "1  2017-11-01        8554           9070.000081\n",
      "2  2018-02-01        8984           8554.076871\n",
      "3  2018-05-01        9789           8984.344828\n",
      "4  2018-08-01        9948           9789.315891\n",
      "5  2018-11-01        9374           9947.699306\n",
      "6  2019-02-01        9611           9373.553891\n",
      "7  2019-05-01       10184           9611.043653\n",
      "8  2019-08-01       10660          10183.803689\n",
      "9  2019-11-01       10326          10659.282225\n",
      "10 2020-02-01       10104          10325.345887\n",
      "11 2020-05-01        6313          10103.601221\n",
      "12 2020-08-01       10594           6313.366582\n",
      "13 2020-11-01       11243          10593.522704\n",
      "14 2021-02-01       10357          11241.945112\n",
      "15 2021-05-01       12344          10358.637097\n",
      "16 2021-08-01       12248          12346.466389\n",
      "17 2021-11-01       11357          12248.866751\n",
      "18 2022-02-01       10871          11356.988158\n",
      "19 2022-05-01       12234          10871.461789\n",
      "20 2022-08-01       12687          12234.710172\n",
      "21 2022-11-01       13315          12687.181726\n",
      "22 2023-02-01       12390          13316.008394\n",
      "23 2023-05-01       12825          12390.884022\n",
      "24 2023-08-01       12939          12825.009216\n"
     ]
    }
   ],
   "source": [
    "# Create a DataFrame with the index, real value, and mean simulated value\n",
    "result_df = pd.DataFrame({\n",
    "    'Date': df.index,\n",
    "    'Real Value': df['Revenue'].values,\n",
    "    'Mean Simulated Value': means\n",
    "})\n",
    "\n",
    "# Display the DataFrame\n",
    "print(result_df)"
   ]
  },
  {
   "cell_type": "markdown",
   "id": "b8c3f420",
   "metadata": {
    "papermill": {
     "duration": 0.043808,
     "end_time": "2023-12-22T21:22:37.193602",
     "exception": false,
     "start_time": "2023-12-22T21:22:37.149794",
     "status": "completed"
    },
    "tags": []
   },
   "source": [
    "# **Summary & Results**"
   ]
  },
  {
   "cell_type": "code",
   "execution_count": 54,
   "id": "85d940a0",
   "metadata": {
    "execution": {
     "iopub.execute_input": "2023-12-22T21:22:37.281311Z",
     "iopub.status.busy": "2023-12-22T21:22:37.280787Z",
     "iopub.status.idle": "2023-12-22T21:22:37.297961Z",
     "shell.execute_reply": "2023-12-22T21:22:37.296164Z"
    },
    "papermill": {
     "duration": 0.064212,
     "end_time": "2023-12-22T21:22:37.301006",
     "exception": false,
     "start_time": "2023-12-22T21:22:37.236794",
     "status": "completed"
    },
    "tags": []
   },
   "outputs": [
    {
     "data": {
      "text/html": [
       "<div>\n",
       "<style scoped>\n",
       "    .dataframe tbody tr th:only-of-type {\n",
       "        vertical-align: middle;\n",
       "    }\n",
       "\n",
       "    .dataframe tbody tr th {\n",
       "        vertical-align: top;\n",
       "    }\n",
       "\n",
       "    .dataframe thead th {\n",
       "        text-align: right;\n",
       "    }\n",
       "</style>\n",
       "<table border=\"1\" class=\"dataframe\">\n",
       "  <thead>\n",
       "    <tr style=\"text-align: right;\">\n",
       "      <th></th>\n",
       "      <th>Model</th>\n",
       "      <th>Observed Value</th>\n",
       "      <th>Predicted Value</th>\n",
       "    </tr>\n",
       "  </thead>\n",
       "  <tbody>\n",
       "    <tr>\n",
       "      <th>0</th>\n",
       "      <td>Monte Carlo Moment Matching</td>\n",
       "      <td>12939</td>\n",
       "      <td>12825</td>\n",
       "    </tr>\n",
       "    <tr>\n",
       "      <th>1</th>\n",
       "      <td>Monte Carlo Antithetic Variance Reduction</td>\n",
       "      <td>12939</td>\n",
       "      <td>10641</td>\n",
       "    </tr>\n",
       "    <tr>\n",
       "      <th>2</th>\n",
       "      <td>Monte Carlo</td>\n",
       "      <td>12939</td>\n",
       "      <td>10475</td>\n",
       "    </tr>\n",
       "    <tr>\n",
       "      <th>3</th>\n",
       "      <td>Tuned Random Forest</td>\n",
       "      <td>12939</td>\n",
       "      <td>11499</td>\n",
       "    </tr>\n",
       "  </tbody>\n",
       "</table>\n",
       "</div>"
      ],
      "text/plain": [
       "                                       Model  Observed Value  Predicted Value\n",
       "0                Monte Carlo Moment Matching           12939            12825\n",
       "1  Monte Carlo Antithetic Variance Reduction           12939            10641\n",
       "2                                Monte Carlo           12939            10475\n",
       "3                        Tuned Random Forest           12939            11499"
      ]
     },
     "execution_count": 54,
     "metadata": {},
     "output_type": "execute_result"
    }
   ],
   "source": [
    "# Data for the table\n",
    "data = {\n",
    "    'Model': ['Monte Carlo Moment Matching', 'Monte Carlo Antithetic Variance Reduction', 'Monte Carlo', 'Tuned Random Forest'],\n",
    "    'Observed Value': [12939, 12939, 12939, 12939],\n",
    "    'Predicted Value': [12825, 10641, 10475, 11499]\n",
    "}\n",
    "\n",
    "# Creating a DataFrame\n",
    "df = pd.DataFrame(data)\n",
    "\n",
    "# Displaying the DataFrame\n",
    "df\n"
   ]
  }
 ],
 "metadata": {
  "kaggle": {
   "accelerator": "none",
   "dataSources": [
    {
     "datasetId": 4059207,
     "sourceId": 7257477,
     "sourceType": "datasetVersion"
    }
   ],
   "dockerImageVersionId": 30587,
   "isGpuEnabled": false,
   "isInternetEnabled": true,
   "language": "python",
   "sourceType": "notebook"
  },
  "kernelspec": {
   "display_name": "Python 3",
   "language": "python",
   "name": "python3"
  },
  "language_info": {
   "codemirror_mode": {
    "name": "ipython",
    "version": 3
   },
   "file_extension": ".py",
   "mimetype": "text/x-python",
   "name": "python",
   "nbconvert_exporter": "python",
   "pygments_lexer": "ipython3",
   "version": "3.10.12"
  },
  "papermill": {
   "default_parameters": {},
   "duration": 294.365976,
   "end_time": "2023-12-22T21:22:38.471557",
   "environment_variables": {},
   "exception": null,
   "input_path": "__notebook__.ipynb",
   "output_path": "__notebook__.ipynb",
   "parameters": {},
   "start_time": "2023-12-22T21:17:44.105581",
   "version": "2.4.0"
  }
 },
 "nbformat": 4,
 "nbformat_minor": 5
}
